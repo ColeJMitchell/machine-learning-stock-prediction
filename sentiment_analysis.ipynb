{
  "nbformat": 4,
  "nbformat_minor": 0,
  "metadata": {
    "colab": {
      "provenance": [],
      "authorship_tag": "ABX9TyNozrf19I55qWsH1MORtCsm",
      "include_colab_link": true
    },
    "kernelspec": {
      "name": "python3",
      "display_name": "Python 3"
    },
    "language_info": {
      "name": "python"
    }
  },
  "cells": [
    {
      "cell_type": "markdown",
      "metadata": {
        "id": "view-in-github",
        "colab_type": "text"
      },
      "source": [
        "<a href=\"https://colab.research.google.com/github/ColeJMitchell/machine-learning-stock-prediction/blob/main/sentiment_analysis.ipynb\" target=\"_parent\"><img src=\"https://colab.research.google.com/assets/colab-badge.svg\" alt=\"Open In Colab\"/></a>"
      ]
    },
    {
      "cell_type": "markdown",
      "source": [
        "Packages"
      ],
      "metadata": {
        "id": "tvrRsyEGnvjb"
      }
    },
    {
      "cell_type": "code",
      "execution_count": 2,
      "metadata": {
        "id": "bnfq--9tlD4z"
      },
      "outputs": [],
      "source": [
        "import pandas as pd"
      ]
    },
    {
      "cell_type": "markdown",
      "source": [
        "Displaying The Data"
      ],
      "metadata": {
        "id": "z8c_9THFobux"
      }
    },
    {
      "cell_type": "code",
      "source": [
        "data = pd.read_parquet(\"wallstreetbets-collection.parquet\")\n",
        "print(data.head)\n",
        "\n",
        "# Remove extraneous fields\n",
        "fields = ('title',\n",
        "          'created_utc',\n",
        "          'id',\n",
        "          'is_original_content',\n",
        "          'link_flair_text',\n",
        "          'locked',\n",
        "          'name',\n",
        "          'num_comments',\n",
        "          'over_18',\n",
        "          'permalink',\n",
        "          'selftext',\n",
        "          'spoiler',\n",
        "          'upvote_ratio')\n",
        "list_of_submissions = []\n",
        "\n",
        "# Parse each submission into a dictionary of the lised fields.\n",
        "for submission in all_posts:\n",
        "    full = vars(submission)\n",
        "    sub_dict = {field:full[field] for field in fields}\n",
        "    list_of_submissions.append(sub_dict)\n",
        "\n",
        "# Create a python dataframe of these submissions.\n",
        "collected_data = pd.DataFrame.from_records(list_of_submissions)\n",
        "\n",
        "# Display the dataframe.\n",
        "display(collected_data)\n",
        "\n"
      ],
      "metadata": {
        "colab": {
          "base_uri": "https://localhost:8080/"
        },
        "id": "uxXt3uEWn6zw",
        "outputId": "467cdd6d-3c3d-4587-81d5-4e85580f2450"
      },
      "execution_count": 5,
      "outputs": [
        {
          "output_type": "stream",
          "name": "stdout",
          "text": [
            "<bound method NDFrame.head of                                                   title   created_utc  \\\n",
            "0                                       Tariffs bonanza  1.743624e+09   \n",
            "1                                                     🤔  1.743624e+09   \n",
            "2     Is It Just Me, or Is Robinhood’s Security Stil...  1.743623e+09   \n",
            "3     200 puts (~10k): If NVDA goes to $90 this week...  1.743393e+09   \n",
            "4                                        All in on Hood  1.743015e+09   \n",
            "...                                                 ...           ...   \n",
            "1338  EU may delay first counter-tariffs against U.S...  1.742469e+09   \n",
            "1339  US companies race to secure import tariff exem...  1.742469e+09   \n",
            "1340  Tesla to recall more than 46,000 Cybertrucks d...  1.742466e+09   \n",
            "1341         Daily Discussion Thread for March 20, 2025  1.742465e+09   \n",
            "1342                 Stop or GO for GO?(grocery outlet)  1.742464e+09   \n",
            "\n",
            "           id  is_original_content   link_flair_text  locked        name  \\\n",
            "0     1jpyan4                False        Discussion   False  t3_1jpyan4   \n",
            "1     1jpy97b                False        Discussion   False  t3_1jpy97b   \n",
            "2     1jpxza5                False        Discussion   False  t3_1jpxza5   \n",
            "3     1jnuj43                False              YOLO   False  t3_1jnuj43   \n",
            "4     1jkjfsa                False              YOLO   False  t3_1jkjfsa   \n",
            "...       ...                  ...               ...     ...         ...   \n",
            "1338  1jfmfnk                False              News   False  t3_1jfmfnk   \n",
            "1339  1jfmf49                False              News   False  t3_1jfmf49   \n",
            "1340  1jflrx5                False              News   False  t3_1jflrx5   \n",
            "1341  1jflc6z                False  Daily Discussion   False  t3_1jflc6z   \n",
            "1342  1jfl46v                False        Discussion   False  t3_1jfl46v   \n",
            "\n",
            "      num_comments  over_18  \\\n",
            "0               16    False   \n",
            "1                4    False   \n",
            "2                8    False   \n",
            "3              171    False   \n",
            "4               88    False   \n",
            "...            ...      ...   \n",
            "1338           146    False   \n",
            "1339            56    False   \n",
            "1340           378    False   \n",
            "1341         15006    False   \n",
            "1342            15    False   \n",
            "\n",
            "                                              permalink  \\\n",
            "0     /r/wallstreetbets/comments/1jpyan4/tariffs_bon...   \n",
            "1                 /r/wallstreetbets/comments/1jpy97b/_/   \n",
            "2     /r/wallstreetbets/comments/1jpxza5/is_it_just_...   \n",
            "3     /r/wallstreetbets/comments/1jnuj43/200_puts_10...   \n",
            "4     /r/wallstreetbets/comments/1jkjfsa/all_in_on_h...   \n",
            "...                                                 ...   \n",
            "1338  /r/wallstreetbets/comments/1jfmfnk/eu_may_dela...   \n",
            "1339  /r/wallstreetbets/comments/1jfmf49/us_companie...   \n",
            "1340  /r/wallstreetbets/comments/1jflrx5/tesla_to_re...   \n",
            "1341  /r/wallstreetbets/comments/1jflc6z/daily_discu...   \n",
            "1342  /r/wallstreetbets/comments/1jfl46v/stop_or_go_...   \n",
            "\n",
            "                                               selftext  spoiler  upvote_ratio  \n",
            "0     How will the tariffs affect our market? Are we...    False          0.77  \n",
            "1                                                          False          0.96  \n",
            "2     I feel like it’s pretty obvious (at least to m...    False          0.83  \n",
            "3       If it doesn’t, yall will cover my bet, right?\\n    False          0.95  \n",
            "4     Perfect entry today in my opinion. Very simple...    False          0.66  \n",
            "...                                                 ...      ...           ...  \n",
            "1338  BRUSSELS, March 20 (Reuters) - The European Un...    False          0.93  \n",
            "1339  March 20 (Reuters) - Washington's temporary re...    False          0.96  \n",
            "1340                                                       False          0.96  \n",
            "1341  This post contains content not supported on ol...    False          0.92  \n",
            "1342  I need to make you all aware of Grocery Outlet...    False          0.45  \n",
            "\n",
            "[1343 rows x 13 columns]>\n"
          ]
        }
      ]
    }
  ]
}