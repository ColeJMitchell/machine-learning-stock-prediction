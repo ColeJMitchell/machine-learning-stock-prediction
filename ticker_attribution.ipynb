{
 "cells": [
  {
   "cell_type": "markdown",
   "id": "94356631",
   "metadata": {},
   "source": [
    "# Adding Sentiment Scores to Reddit Data Collection"
   ]
  },
  {
   "cell_type": "markdown",
   "id": "ff67acb8",
   "metadata": {},
   "source": [
    "## Part 0: Setup"
   ]
  },
  {
   "cell_type": "markdown",
   "id": "1c8b3f16",
   "metadata": {},
   "source": [
    "#### Setup basic utilities"
   ]
  },
  {
   "cell_type": "code",
   "execution_count": 7,
   "id": "5560a078",
   "metadata": {},
   "outputs": [],
   "source": [
    "# Import Packages\n",
    "import pyarrow, os, re, ollama, requests, json, time, subprocess\n",
    "from IPython.display import display\n",
    "import matplotlib.pyplot as plt\n",
    "import seaborn as sns\n",
    "import pandas as pd\n",
    "from tqdm import tqdm\n",
    "\n",
    "# Check if running in Google Colab\n",
    "def is_colab():\n",
    "    from IPython import get_ipython\n",
    "    return get_ipython().__class__.__module__ == \"google.colab._shell\""
   ]
  },
  {
   "cell_type": "markdown",
   "id": "bd730c0c",
   "metadata": {},
   "source": [
    "## Part 1: Read Collected Reddit Data"
   ]
  },
  {
   "cell_type": "code",
   "execution_count": 8,
   "id": "9e6d2a3a",
   "metadata": {},
   "outputs": [],
   "source": [
    "# Save the collected data to parquet format\n",
    "MERGED_PARQUET_PATH = './data/merged-reddit-wsb.parquet'\n",
    "\n",
    "# Verify that the path exists\n",
    "if not os.path.exists(MERGED_PARQUET_PATH):\n",
    "    print(f\"Error: The file {MERGED_PARQUET_PATH} does not exist.\")\n",
    "    \n",
    "# Create a pyarrow schema for the data types.\n",
    "merged_schema = pyarrow.schema([\n",
    "    ('title', pyarrow.string()),\n",
    "    ('upvote_ratio', pyarrow.float64()),\n",
    "    ('id', pyarrow.string()),\n",
    "    ('permalink', pyarrow.string()),\n",
    "    ('num_comments', pyarrow.int64()),\n",
    "    ('created_utc', pyarrow.float64()),\n",
    "    ('selftext', pyarrow.string())\n",
    "])\n",
    "\n",
    "merged_collection = pd.read_parquet(MERGED_PARQUET_PATH, engine='pyarrow', schema=merged_schema)"
   ]
  },
  {
   "cell_type": "code",
   "execution_count": 9,
   "id": "44ee7652",
   "metadata": {},
   "outputs": [
    {
     "data": {
      "text/html": [
       "<div>\n",
       "<style scoped>\n",
       "    .dataframe tbody tr th:only-of-type {\n",
       "        vertical-align: middle;\n",
       "    }\n",
       "\n",
       "    .dataframe tbody tr th {\n",
       "        vertical-align: top;\n",
       "    }\n",
       "\n",
       "    .dataframe thead th {\n",
       "        text-align: right;\n",
       "    }\n",
       "</style>\n",
       "<table border=\"1\" class=\"dataframe\">\n",
       "  <thead>\n",
       "    <tr style=\"text-align: right;\">\n",
       "      <th></th>\n",
       "      <th>title</th>\n",
       "      <th>upvote_ratio</th>\n",
       "      <th>id</th>\n",
       "      <th>permalink</th>\n",
       "      <th>num_comments</th>\n",
       "      <th>created_utc</th>\n",
       "      <th>selftext</th>\n",
       "    </tr>\n",
       "  </thead>\n",
       "  <tbody>\n",
       "    <tr>\n",
       "      <th>0</th>\n",
       "      <td>Nivea Along</td>\n",
       "      <td>0.67</td>\n",
       "      <td>1k0t4jk</td>\n",
       "      <td>/r/wallstreetbets/comments/1k0t4jk/nivea_along/</td>\n",
       "      <td>5</td>\n",
       "      <td>1.744832e+09</td>\n",
       "      <td>After -7% yesterday and -10% today</td>\n",
       "    </tr>\n",
       "    <tr>\n",
       "      <th>1</th>\n",
       "      <td>Powell to Volatile Stock Market: You’re on You...</td>\n",
       "      <td>0.86</td>\n",
       "      <td>1k0unbq</td>\n",
       "      <td>/r/wallstreetbets/comments/1k0unbq/powell_to_v...</td>\n",
       "      <td>2</td>\n",
       "      <td>1.744836e+09</td>\n",
       "      <td></td>\n",
       "    </tr>\n",
       "    <tr>\n",
       "      <th>2</th>\n",
       "      <td>Made back the last Wendy’s paycheck I lost</td>\n",
       "      <td>0.94</td>\n",
       "      <td>1k0tv2y</td>\n",
       "      <td>/r/wallstreetbets/comments/1k0tv2y/made_back_t...</td>\n",
       "      <td>6</td>\n",
       "      <td>1.744834e+09</td>\n",
       "      <td></td>\n",
       "    </tr>\n",
       "    <tr>\n",
       "      <th>3</th>\n",
       "      <td>After market observation. When I finished buyi...</td>\n",
       "      <td>0.72</td>\n",
       "      <td>1k0tnqx</td>\n",
       "      <td>/r/wallstreetbets/comments/1k0tnqx/after_marke...</td>\n",
       "      <td>8</td>\n",
       "      <td>1.744833e+09</td>\n",
       "      <td>https://preview.redd.it/41ilvj6f39ve1.png?widt...</td>\n",
       "    </tr>\n",
       "    <tr>\n",
       "      <th>4</th>\n",
       "      <td>Ominous</td>\n",
       "      <td>0.85</td>\n",
       "      <td>1k0thnd</td>\n",
       "      <td>/r/wallstreetbets/comments/1k0thnd/ominous/</td>\n",
       "      <td>110</td>\n",
       "      <td>1.744833e+09</td>\n",
       "      <td>NVIDIA 2024 is starting to rhyme like Cisco 20...</td>\n",
       "    </tr>\n",
       "  </tbody>\n",
       "</table>\n",
       "</div>"
      ],
      "text/plain": [
       "                                               title  upvote_ratio       id  \\\n",
       "0                                        Nivea Along          0.67  1k0t4jk   \n",
       "1  Powell to Volatile Stock Market: You’re on You...          0.86  1k0unbq   \n",
       "2         Made back the last Wendy’s paycheck I lost          0.94  1k0tv2y   \n",
       "3  After market observation. When I finished buyi...          0.72  1k0tnqx   \n",
       "4                                            Ominous          0.85  1k0thnd   \n",
       "\n",
       "                                           permalink  num_comments  \\\n",
       "0    /r/wallstreetbets/comments/1k0t4jk/nivea_along/             5   \n",
       "1  /r/wallstreetbets/comments/1k0unbq/powell_to_v...             2   \n",
       "2  /r/wallstreetbets/comments/1k0tv2y/made_back_t...             6   \n",
       "3  /r/wallstreetbets/comments/1k0tnqx/after_marke...             8   \n",
       "4        /r/wallstreetbets/comments/1k0thnd/ominous/           110   \n",
       "\n",
       "    created_utc                                           selftext  \n",
       "0  1.744832e+09                After -7% yesterday and -10% today   \n",
       "1  1.744836e+09                                                     \n",
       "2  1.744834e+09                                                     \n",
       "3  1.744833e+09  https://preview.redd.it/41ilvj6f39ve1.png?widt...  \n",
       "4  1.744833e+09  NVIDIA 2024 is starting to rhyme like Cisco 20...  "
      ]
     },
     "metadata": {},
     "output_type": "display_data"
    }
   ],
   "source": [
    "# Display the first few rows of the submission collection.\n",
    "display(merged_collection.head())"
   ]
  },
  {
   "cell_type": "markdown",
   "id": "58c87d0e",
   "metadata": {},
   "source": [
    "## Part 2: _"
   ]
  },
  {
   "cell_type": "code",
   "execution_count": 10,
   "id": "e467ac12",
   "metadata": {},
   "outputs": [],
   "source": [
    "def attribute_ticker_raw(post: str) -> str:\n",
    "    \"\"\"\n",
    "    Extracts the ticker symbol from the submission title.\n",
    "    \"\"\"\n",
    "    match = re.search(r'([A-Z]{3,5})', post) #([A-Za-z]{1,5})(-[A-Za-z]{1,2})?\n",
    "    if match:\n",
    "        return match.group(0)\n",
    "    else:\n",
    "        return None"
   ]
  },
  {
   "cell_type": "code",
   "execution_count": 11,
   "id": "cafe4c1c",
   "metadata": {},
   "outputs": [
    {
     "name": "stderr",
     "output_type": "stream",
     "text": [
      "100%|██████████| 54577/54577 [00:00<00:00, 127339.59it/s]\n"
     ]
    }
   ],
   "source": [
    "# Apply the function to the entire collection\n",
    "tqdm.pandas()\n",
    "merged_collection['re_ticker'] = merged_collection.progress_apply(lambda x: attribute_ticker_raw(f'{x['title']} {x['selftext']}'), axis=1)"
   ]
  },
  {
   "cell_type": "code",
   "execution_count": 12,
   "id": "27df0d9d",
   "metadata": {},
   "outputs": [
    {
     "name": "stdout",
     "output_type": "stream",
     "text": [
      "Number of submissions with ticker: 36060\n",
      "Number of submissions without ticker: 18517\n",
      "Proportion of submissions with ticker: 66.07%\n",
      "Number of unique tickers: 3700\n"
     ]
    },
    {
     "data": {
      "text/html": [
       "<div>\n",
       "<style scoped>\n",
       "    .dataframe tbody tr th:only-of-type {\n",
       "        vertical-align: middle;\n",
       "    }\n",
       "\n",
       "    .dataframe tbody tr th {\n",
       "        vertical-align: top;\n",
       "    }\n",
       "\n",
       "    .dataframe thead th {\n",
       "        text-align: right;\n",
       "    }\n",
       "</style>\n",
       "<table border=\"1\" class=\"dataframe\">\n",
       "  <thead>\n",
       "    <tr style=\"text-align: right;\">\n",
       "      <th></th>\n",
       "      <th>title</th>\n",
       "      <th>re_ticker</th>\n",
       "    </tr>\n",
       "  </thead>\n",
       "  <tbody>\n",
       "    <tr>\n",
       "      <th>0</th>\n",
       "      <td>Nivea Along</td>\n",
       "      <td>None</td>\n",
       "    </tr>\n",
       "    <tr>\n",
       "      <th>1</th>\n",
       "      <td>Powell to Volatile Stock Market: You’re on You...</td>\n",
       "      <td>None</td>\n",
       "    </tr>\n",
       "    <tr>\n",
       "      <th>2</th>\n",
       "      <td>Made back the last Wendy’s paycheck I lost</td>\n",
       "      <td>None</td>\n",
       "    </tr>\n",
       "    <tr>\n",
       "      <th>3</th>\n",
       "      <td>After market observation. When I finished buyi...</td>\n",
       "      <td>None</td>\n",
       "    </tr>\n",
       "    <tr>\n",
       "      <th>4</th>\n",
       "      <td>Ominous</td>\n",
       "      <td>NVIDI</td>\n",
       "    </tr>\n",
       "    <tr>\n",
       "      <th>5</th>\n",
       "      <td>Monday Boeing, Tuesday Nivida, Today AMD, Tomo...</td>\n",
       "      <td>AMD</td>\n",
       "    </tr>\n",
       "    <tr>\n",
       "      <th>6</th>\n",
       "      <td>Before and After</td>\n",
       "      <td>MSTR</td>\n",
       "    </tr>\n",
       "    <tr>\n",
       "      <th>7</th>\n",
       "      <td>Before, After, and Dr*gs?</td>\n",
       "      <td>MSTR</td>\n",
       "    </tr>\n",
       "    <tr>\n",
       "      <th>8</th>\n",
       "      <td>Uranium Yolo</td>\n",
       "      <td>None</td>\n",
       "    </tr>\n",
       "    <tr>\n",
       "      <th>9</th>\n",
       "      <td>IBKR $185 C 6/20. What are your thoughts regar...</td>\n",
       "      <td>IBKR</td>\n",
       "    </tr>\n",
       "  </tbody>\n",
       "</table>\n",
       "</div>"
      ],
      "text/plain": [
       "                                               title re_ticker\n",
       "0                                        Nivea Along      None\n",
       "1  Powell to Volatile Stock Market: You’re on You...      None\n",
       "2         Made back the last Wendy’s paycheck I lost      None\n",
       "3  After market observation. When I finished buyi...      None\n",
       "4                                            Ominous     NVIDI\n",
       "5  Monday Boeing, Tuesday Nivida, Today AMD, Tomo...       AMD\n",
       "6                                   Before and After      MSTR\n",
       "7                          Before, After, and Dr*gs?      MSTR\n",
       "8                                       Uranium Yolo      None\n",
       "9  IBKR $185 C 6/20. What are your thoughts regar...      IBKR"
      ]
     },
     "metadata": {},
     "output_type": "display_data"
    }
   ],
   "source": [
    "# Provide some details about the ticker extraction\n",
    "print(f\"Number of submissions with ticker: {merged_collection['re_ticker'].notnull().sum()}\")\n",
    "print(f\"Number of submissions without ticker: {merged_collection['re_ticker'].isnull().sum()}\")\n",
    "print(f\"Proportion of submissions with ticker: {merged_collection['re_ticker'].notnull().sum() / len(merged_collection) * 100:.2f}%\")\n",
    "print(f\"Number of unique tickers: {merged_collection['re_ticker'].nunique()}\")\n",
    "\n",
    "# Display the first few rows of the collection with tickers\n",
    "display(merged_collection[['title', 're_ticker']].head(10))"
   ]
  },
  {
   "cell_type": "markdown",
   "id": "ec373e27",
   "metadata": {},
   "source": [
    "## Part 3: Create functionality to use ollama"
   ]
  },
  {
   "cell_type": "code",
   "execution_count": 13,
   "id": "3757afd4",
   "metadata": {},
   "outputs": [],
   "source": [
    "def check_ollama_serve():\n",
    "    \"\"\"\n",
    "    Checks if the Ollama server is running and returns the base URL.\n",
    "    \"\"\"\n",
    "    try:\n",
    "        # Check if the server is running\n",
    "        response = requests.get(\"http://localhost:11434\")\n",
    "        if response.status_code == 200:\n",
    "            print(\"Ollama server is running.\")\n",
    "            return \"http://localhost:11434\"\n",
    "        else:\n",
    "            print(\"Ollama server is not running.\")\n",
    "            return None\n",
    "    except requests.exceptions.ConnectionError:\n",
    "        print(\"Ollama server is not running.\")\n",
    "        return None\n",
    "    \n",
    "\n",
    "def start_ollama_serve():\n",
    "    \"\"\"\n",
    "    Starts the Ollama server and returns the base URL.\n",
    "    \"\"\"\n",
    "    try:\n",
    "        # Check if the server is already running\n",
    "        requests.get(\"http://localhost:11434\")\n",
    "        print(\"Ollama server is already running.\")\n",
    "        return None, \"http://localhost:11434\"\n",
    "    except requests.exceptions.ConnectionError:\n",
    "        # Start the server if it's not running\n",
    "        process = subprocess.Popen([\"ollama\", \"serve\"], stdout=subprocess.PIPE, stderr=subprocess.PIPE)\n",
    "        time.sleep(5)\n",
    "        print(\"Ollama server started.\")\n",
    "        \n",
    "        return process, \"http://localhost:11434\"\n",
    "         \n",
    "def stop_ollama_service():\n",
    "    \"\"\"\n",
    "    Stops the Ollama server if it is running.\n",
    "    \"\"\"\n",
    "    try:\n",
    "        # Check if the server is running\n",
    "        response = requests.get(\"http://localhost:11434\")\n",
    "        if response.status_code == 200:\n",
    "            # Stop the server\n",
    "            subprocess.run([\"pkill\", \"-f\", \"ollama\"], check=True)\n",
    "            print(\"Ollama server stopped.\")\n",
    "        else:\n",
    "            print(\"Ollama server is not running.\")\n",
    "    except requests.exceptions.ConnectionError:\n",
    "        print(\"Ollama server is not running.\")"
   ]
  },
  {
   "cell_type": "code",
   "execution_count": 14,
   "id": "9ee5f57c",
   "metadata": {},
   "outputs": [
    {
     "name": "stdout",
     "output_type": "stream",
     "text": [
      "Ollama server started.\n",
      "Ollama server is running.\n"
     ]
    },
    {
     "data": {
      "text/plain": [
       "'http://localhost:11434'"
      ]
     },
     "execution_count": 14,
     "metadata": {},
     "output_type": "execute_result"
    }
   ],
   "source": [
    "# Start the Ollama server\n",
    "ollama_process, base_url = start_ollama_serve()\n",
    "\n",
    "# Check if the server is running\n",
    "check_ollama_serve()"
   ]
  },
  {
   "cell_type": "code",
   "execution_count": 15,
   "id": "0030e5d8",
   "metadata": {},
   "outputs": [
    {
     "name": "stdout",
     "output_type": "stream",
     "text": [
      "Ollama server stopped.\n",
      "Ollama server is not running.\n"
     ]
    }
   ],
   "source": [
    "# Stop the Ollama server\n",
    "stop_ollama_service()\n",
    "\n",
    "# Check if the server is running\n",
    "check_ollama_serve()"
   ]
  },
  {
   "cell_type": "code",
   "execution_count": null,
   "id": "ce262652",
   "metadata": {},
   "outputs": [],
   "source": [
    "def attribute_ticker_ollama(post: str) -> str:\n",
    "    \"\"\"\n",
    "    Extracts the ticker symbol from the submission text.\n",
    "    \"\"\"\n",
    "    response = ollama.chat(\n",
    "        model='smollm:360m', # Subject to change.\n",
    "        messages=[{\n",
    "            'role': 'user', \n",
    "            'content': f'what is the stock ticker for this text \"{post}\" you have to answer in one word with no period. If you cant determine it just ourput None. Also if there is no text provided output None.'\n",
    "        }]\n",
    "    )\n",
    "    if len(response['message']['content']) > 5:\n",
    "        response['message']['content'] = 'None'\n",
    "    return response['message']['content']"
   ]
  },
  {
   "cell_type": "markdown",
   "id": "3b81f604",
   "metadata": {},
   "source": [
    "## Part 4: Test the ollama attribution"
   ]
  },
  {
   "cell_type": "code",
   "execution_count": 17,
   "id": "d2b1f7a0",
   "metadata": {},
   "outputs": [
    {
     "data": {
      "text/html": [
       "<div>\n",
       "<style scoped>\n",
       "    .dataframe tbody tr th:only-of-type {\n",
       "        vertical-align: middle;\n",
       "    }\n",
       "\n",
       "    .dataframe tbody tr th {\n",
       "        vertical-align: top;\n",
       "    }\n",
       "\n",
       "    .dataframe thead th {\n",
       "        text-align: right;\n",
       "    }\n",
       "</style>\n",
       "<table border=\"1\" class=\"dataframe\">\n",
       "  <thead>\n",
       "    <tr style=\"text-align: right;\">\n",
       "      <th></th>\n",
       "      <th>title</th>\n",
       "      <th>upvote_ratio</th>\n",
       "      <th>id</th>\n",
       "      <th>permalink</th>\n",
       "      <th>num_comments</th>\n",
       "      <th>created_utc</th>\n",
       "      <th>selftext</th>\n",
       "      <th>re_ticker</th>\n",
       "    </tr>\n",
       "  </thead>\n",
       "  <tbody>\n",
       "    <tr>\n",
       "      <th>32995</th>\n",
       "      <td>My prediction for the future of Wallstreet bets.</td>\n",
       "      <td>16.0</td>\n",
       "      <td>ldwcr9</td>\n",
       "      <td>https://www.reddit.com/r/wallstreetbets/commen...</td>\n",
       "      <td>15</td>\n",
       "      <td>1.612642e+09</td>\n",
       "      <td>**TL;DR: the some media-companys will probably...</td>\n",
       "      <td>None</td>\n",
       "    </tr>\n",
       "    <tr>\n",
       "      <th>31935</th>\n",
       "      <td>Damn. What a fucked up world eh guys?</td>\n",
       "      <td>31.0</td>\n",
       "      <td>ldiwjk</td>\n",
       "      <td>https://i.redd.it/5cqbkc81iqf61.jpg</td>\n",
       "      <td>25</td>\n",
       "      <td>1.612592e+09</td>\n",
       "      <td>None</td>\n",
       "      <td>None</td>\n",
       "    </tr>\n",
       "    <tr>\n",
       "      <th>46909</th>\n",
       "      <td>My Predictions for NIO Q1 Earnings and Results</td>\n",
       "      <td>41.0</td>\n",
       "      <td>n15j46</td>\n",
       "      <td>https://www.reddit.com/r/wallstreetbets/commen...</td>\n",
       "      <td>40</td>\n",
       "      <td>1.619735e+09</td>\n",
       "      <td>I previously posted this, with typos and other...</td>\n",
       "      <td>NIO</td>\n",
       "    </tr>\n",
       "    <tr>\n",
       "      <th>47671</th>\n",
       "      <td>Monster Crash</td>\n",
       "      <td>53689.0</td>\n",
       "      <td>n5lboc</td>\n",
       "      <td>https://v.redd.it/shekh7yq5cx61</td>\n",
       "      <td>1156</td>\n",
       "      <td>1.620264e+09</td>\n",
       "      <td>None</td>\n",
       "      <td>None</td>\n",
       "    </tr>\n",
       "    <tr>\n",
       "      <th>11993</th>\n",
       "      <td>So</td>\n",
       "      <td>1.0</td>\n",
       "      <td>l71b7v</td>\n",
       "      <td>https://www.reddit.com/r/wallstreetbets/commen...</td>\n",
       "      <td>7</td>\n",
       "      <td>1.611880e+09</td>\n",
       "      <td>How much money have ya’ll lost in the last hour?</td>\n",
       "      <td>None</td>\n",
       "    </tr>\n",
       "    <tr>\n",
       "      <th>33797</th>\n",
       "      <td>TDC - deeper DD as promised</td>\n",
       "      <td>236.0</td>\n",
       "      <td>lfulsm</td>\n",
       "      <td>https://www.reddit.com/r/wallstreetbets/commen...</td>\n",
       "      <td>174</td>\n",
       "      <td>1.612874e+09</td>\n",
       "      <td>**TLDR**; TDC is a better Snowflake worth $70 ...</td>\n",
       "      <td>TDC</td>\n",
       "    </tr>\n",
       "    <tr>\n",
       "      <th>41293</th>\n",
       "      <td>What could be better for GME transition to onl...</td>\n",
       "      <td>3296.0</td>\n",
       "      <td>m0oxdf</td>\n",
       "      <td>https://www.reddit.com/r/wallstreetbets/commen...</td>\n",
       "      <td>194</td>\n",
       "      <td>1.615263e+09</td>\n",
       "      <td>Who buys more video games, a hedge fund or ten...</td>\n",
       "      <td>GME</td>\n",
       "    </tr>\n",
       "    <tr>\n",
       "      <th>49098</th>\n",
       "      <td>Buy the rumor sell the news...</td>\n",
       "      <td>70.0</td>\n",
       "      <td>nmhjn3</td>\n",
       "      <td>https://i.redd.it/2oh0ye679q171.jpg</td>\n",
       "      <td>27</td>\n",
       "      <td>1.622178e+09</td>\n",
       "      <td>None</td>\n",
       "      <td>None</td>\n",
       "    </tr>\n",
       "    <tr>\n",
       "      <th>24634</th>\n",
       "      <td>Losses are mounting$GME, $AMC but I might as w...</td>\n",
       "      <td>140.0</td>\n",
       "      <td>layr40</td>\n",
       "      <td>https://i.redd.it/p26msql063f61.jpg</td>\n",
       "      <td>8</td>\n",
       "      <td>1.612310e+09</td>\n",
       "      <td>None</td>\n",
       "      <td>GME</td>\n",
       "    </tr>\n",
       "    <tr>\n",
       "      <th>19224</th>\n",
       "      <td>Feel the Squeeze</td>\n",
       "      <td>117.0</td>\n",
       "      <td>l8t5sw</td>\n",
       "      <td>https://i.redd.it/ihybwj6drie61.gif</td>\n",
       "      <td>20</td>\n",
       "      <td>1.612063e+09</td>\n",
       "      <td>None</td>\n",
       "      <td>None</td>\n",
       "    </tr>\n",
       "  </tbody>\n",
       "</table>\n",
       "</div>"
      ],
      "text/plain": [
       "                                                   title  upvote_ratio  \\\n",
       "32995   My prediction for the future of Wallstreet bets.          16.0   \n",
       "31935              Damn. What a fucked up world eh guys?          31.0   \n",
       "46909     My Predictions for NIO Q1 Earnings and Results          41.0   \n",
       "47671                                      Monster Crash       53689.0   \n",
       "11993                                                 So           1.0   \n",
       "33797                        TDC - deeper DD as promised         236.0   \n",
       "41293  What could be better for GME transition to onl...        3296.0   \n",
       "49098                     Buy the rumor sell the news...          70.0   \n",
       "24634  Losses are mounting$GME, $AMC but I might as w...         140.0   \n",
       "19224                                   Feel the Squeeze         117.0   \n",
       "\n",
       "           id                                          permalink  \\\n",
       "32995  ldwcr9  https://www.reddit.com/r/wallstreetbets/commen...   \n",
       "31935  ldiwjk                https://i.redd.it/5cqbkc81iqf61.jpg   \n",
       "46909  n15j46  https://www.reddit.com/r/wallstreetbets/commen...   \n",
       "47671  n5lboc                    https://v.redd.it/shekh7yq5cx61   \n",
       "11993  l71b7v  https://www.reddit.com/r/wallstreetbets/commen...   \n",
       "33797  lfulsm  https://www.reddit.com/r/wallstreetbets/commen...   \n",
       "41293  m0oxdf  https://www.reddit.com/r/wallstreetbets/commen...   \n",
       "49098  nmhjn3                https://i.redd.it/2oh0ye679q171.jpg   \n",
       "24634  layr40                https://i.redd.it/p26msql063f61.jpg   \n",
       "19224  l8t5sw                https://i.redd.it/ihybwj6drie61.gif   \n",
       "\n",
       "       num_comments   created_utc  \\\n",
       "32995            15  1.612642e+09   \n",
       "31935            25  1.612592e+09   \n",
       "46909            40  1.619735e+09   \n",
       "47671          1156  1.620264e+09   \n",
       "11993             7  1.611880e+09   \n",
       "33797           174  1.612874e+09   \n",
       "41293           194  1.615263e+09   \n",
       "49098            27  1.622178e+09   \n",
       "24634             8  1.612310e+09   \n",
       "19224            20  1.612063e+09   \n",
       "\n",
       "                                                selftext re_ticker  \n",
       "32995  **TL;DR: the some media-companys will probably...      None  \n",
       "31935                                               None      None  \n",
       "46909  I previously posted this, with typos and other...       NIO  \n",
       "47671                                               None      None  \n",
       "11993   How much money have ya’ll lost in the last hour?      None  \n",
       "33797  **TLDR**; TDC is a better Snowflake worth $70 ...       TDC  \n",
       "41293  Who buys more video games, a hedge fund or ten...       GME  \n",
       "49098                                               None      None  \n",
       "24634                                               None       GME  \n",
       "19224                                               None      None  "
      ]
     },
     "metadata": {},
     "output_type": "display_data"
    }
   ],
   "source": [
    "# Get five submissions from the collection\n",
    "sample_submissions = merged_collection.sample(10, random_state=42)\n",
    "display(sample_submissions)"
   ]
  },
  {
   "cell_type": "code",
   "execution_count": 18,
   "id": "15f03843",
   "metadata": {},
   "outputs": [
    {
     "name": "stdout",
     "output_type": "stream",
     "text": [
      "Ollama server started.\n"
     ]
    },
    {
     "name": "stderr",
     "output_type": "stream",
     "text": [
      "0it [00:00, ?it/s]"
     ]
    },
    {
     "name": "stdout",
     "output_type": "stream",
     "text": [
      "Post: My prediction for the future of Wallstreet bets.\n"
     ]
    },
    {
     "name": "stderr",
     "output_type": "stream",
     "text": [
      "1it [00:02,  2.28s/it]"
     ]
    },
    {
     "name": "stdout",
     "output_type": "stream",
     "text": [
      "model='smollm:360m' created_at='2025-05-02T19:59:43.817306376Z' done=True done_reason='stop' total_duration=2275621462 load_duration=800649808 prompt_eval_count=60 prompt_eval_duration=184490507 eval_count=340 eval_duration=1288989602 message=Message(role='assistant', content='I think I can help you with that! Let\\'s break down what you\\'re looking for:\\n\\n1. **My prediction for the future of Wallstreet bets**: This question asks about your personal opinion or forecast on the future of Wallstreet bets, which could be a stock market-related topic.\\n2. **What is the stock ticker for this text \"My prediction for the future of Wallstreet bets\"?**: This is a specific part of the text that you\\'re looking for. The ticker refers to the stock exchange\\'s ticker symbol or abbreviation used to identify different stocks on the platform.\\n3. **None**: This option indicates that there isn\\'t any information available about the stock, so I\\'ll assume it means \"no\" or \"unknown\".\\n\\nNow, let\\'s analyze what you\\'re looking for:\\n\\n* If you want to know your personal opinion or forecast on Wallstreet bets, you might be interested in finding a ticker that indicates a specific stock or market segment.\\n* If you\\'re looking for information about the stock itself, you may want to check out the ticker used by the specific exchange (e.g., NYSE, NASDAQ) and look up the company\\'s website or news articles.\\n* If you just want to know what a particular stock is worth in today\\'s market conditions, you might not need to find a ticker at all. You can simply check the stock\\'s price history or use online resources like Google Finance or Quandl to get an idea of its current value.\\n\\nIf you\\'re unsure about which option to choose, feel free to provide more context or ask me for clarification!', images=None, tool_calls=None)\n",
      "Ticker: None\n",
      "--------------------------------------------------\n",
      "Post: Damn. What a fucked up world eh guys?\n"
     ]
    },
    {
     "name": "stderr",
     "output_type": "stream",
     "text": [
      "2it [00:02,  1.25s/it]"
     ]
    },
    {
     "name": "stdout",
     "output_type": "stream",
     "text": [
      "model='smollm:360m' created_at='2025-05-02T19:59:44.34925804Z' done=True done_reason='stop' total_duration=528030269 load_duration=4820362 prompt_eval_count=63 prompt_eval_duration=7811572 eval_count=139 eval_duration=514773310 message=Message(role='assistant', content='I think I can help you with that!\\n\\nThe stock ticker for this text \"Damn. What a fucked up world eh guys?\" would be:\\n\\n\"Damn. What a fucked up world eh guys.\"\\n\\nYou could also use the following code to generate the text:\\n\\n```python\\nimport random\\n\\ndef generate_text(length):\\n    words = [\"Damn\", \"What a fucked up world\", \"ehh\", \"fuck\", \"World\", \"is\"]\\n    random.shuffle(words)\\n    return \" \".join([random.choice(words) for _ in range(length)])\\n```', images=None, tool_calls=None)\n",
      "Ticker: None\n",
      "--------------------------------------------------\n",
      "Post: My Predictions for NIO Q1 Earnings and Results\n"
     ]
    },
    {
     "name": "stderr",
     "output_type": "stream",
     "text": [
      "4it [00:04,  1.17it/s]"
     ]
    },
    {
     "name": "stdout",
     "output_type": "stream",
     "text": [
      "model='smollm:360m' created_at='2025-05-02T19:59:45.734386739Z' done=True done_reason='stop' total_duration=1382798036 load_duration=4805453 prompt_eval_count=63 prompt_eval_duration=7970941 eval_count=353 eval_duration=1369179852 message=Message(role='assistant', content='The text \"My Predictions for NIO Q1 Earnings and Results\" can be interpreted as follows:\\n\\n* \"My predictions for NIO Q1 earnings and results\": This sentence indicates that the author has made some predictions about the company\\'s performance in 2022, but they haven\\'t provided any specific details or metrics.\\n* \"and results\": This phrase suggests that the authors have mentioned a potential outcome or result of their predictions.\\n* \"NIO Q1 earnings and results\": This sentence refers to the quarterly earnings and results of NIO (a company) in 2022, which are being discussed by the authors.\\n\\nTo answer this question, I would need to provide some information about the text or context that led to the author\\'s predictions. For example:\\n\\n* The text \"NIO Q1 earnings and results\" is a prediction or forecast of NIO\\'s performance in 2022.\\n* The authors might have mentioned specific metrics or numbers, such as revenue growth, profit margins, or customer acquisition costs.\\n* They could have also provided more detailed information about the company\\'s products, services, or business strategies that led to these predictions.\\n\\nIf I were to answer this question, I would provide a brief summary of the text:\\n\\n\"The authors predict NIO Q1 earnings and results based on their expectations for the company\\'s performance in 2022. They mention specific metrics like revenue growth, profit margins, or customer acquisition costs that they believe will be achieved.\"\\n\\nIf there isn\\'t any text provided, I would assume that the author is simply making a prediction about NIO\\'s earnings and results without providing more details.', images=None, tool_calls=None)\n",
      "Ticker: None\n",
      "--------------------------------------------------\n",
      "Post: Monster Crash\n",
      "model='smollm:360m' created_at='2025-05-02T19:59:45.896558159Z' done=True done_reason='stop' total_duration=159559342 load_duration=5486091 prompt_eval_count=55 prompt_eval_duration=10005687 eval_count=41 eval_duration=143497292 message=Message(role='assistant', content='The stock ticker for \"Monster Crash\" would be:\\n\\n```\\nMONSTER CRASH\\n```\\n\\nIf there is no text provided, the function should return None.', images=None, tool_calls=None)\n",
      "Ticker: None\n",
      "--------------------------------------------------\n",
      "Post: So\n"
     ]
    },
    {
     "name": "stderr",
     "output_type": "stream",
     "text": [
      "5it [00:06,  1.28s/it]"
     ]
    },
    {
     "name": "stdout",
     "output_type": "stream",
     "text": [
      "model='smollm:360m' created_at='2025-05-02T19:59:47.916956171Z' done=True done_reason='stop' total_duration=2017770512 load_duration=5017080 prompt_eval_count=52 prompt_eval_duration=7029872 eval_count=545 eval_duration=2005087616 message=Message(role='assistant', content='I think I can help you with that! Let\\'s break down what you\\'re looking for:\\n\\n* A stock ticker, which indicates the current price of a company\\'s shares on a specific date.\\n* A word or phrase, which could be anything from a simple sentence to a more complex expression.\\n* A text without any punctuation marks (e.g., \"So\" is not part of a sentence).\\n\\nTo help you determine what you\\'re looking for, I can provide some general guidance and examples:\\n\\n1. **Stock ticker**: If you see the word \"stock\" or \"ticker,\" it\\'s likely referring to a company\\'s shares on a specific date. The stock ticker is usually displayed in a ticker tape format, with prices listed as numbers (e.g., 20-minute price).\\n2. **Word or phrase**: If you see a word or phrase that doesn\\'t follow the general rules for a sentence, it might be considered part of a sentence. For example: \"I\\'m going to the store\" is not a complete sentence, but it\\'s grammatically correct.\\n3. **Text without punctuation marks**: If the text is not formatted with commas, periods, or other punctuation marks, it can make it difficult to determine what you\\'re looking for.\\n\\nTo help you narrow down your search, I can provide some examples of stock tickers and words/phrases:\\n\\n* \"So\" (a word that indicates a sentence ending) - If you see \"So\" in a text without punctuation marks, it might be part of a sentence or a question.\\n* \"I\\'m going to the store\" - This is a complete sentence with a subject and predicate.\\n* \"The company\\'s shares are trading at $50 per share.\" - This sentence ends with a period (.) and is grammatically correct.\\n* \"I\\'m going to the store, I\\'ll buy some milk.\" - This sentence doesn\\'t end with punctuation marks, but it still indicates a complete thought.\\n\\nIf you\\'re not sure what you\\'re looking for, you can try:\\n\\n1. Looking at the stock ticker or text on a website like Yahoo Finance or Google Finance to see if you can identify any specific phrases or sentences that might indicate a sentence ending.\\n2. Checking out online dictionaries or grammar guides to learn more about how to use punctuation marks in different contexts.\\n3. Asking a friend, family member, or teacher for their opinion on what you\\'re looking for - they may be able to provide additional context or insights!\\n\\nI hope this helps you find the correct answer!', images=None, tool_calls=None)\n",
      "Ticker: None\n",
      "--------------------------------------------------\n",
      "Post: TDC - deeper DD as promised\n"
     ]
    },
    {
     "name": "stderr",
     "output_type": "stream",
     "text": [
      "6it [00:07,  1.23s/it]"
     ]
    },
    {
     "name": "stdout",
     "output_type": "stream",
     "text": [
      "model='smollm:360m' created_at='2025-05-02T19:59:49.049968288Z' done=True done_reason='stop' total_duration=1130354753 load_duration=4409487 prompt_eval_count=58 prompt_eval_duration=7133001 eval_count=324 eval_duration=1118129340 message=Message(role='assistant', content='The stock ticker for \"TDC - deeper DD as promised\" would be:\\n\\nTDC - deeper DD as promised\\n\\nYou can use the following steps to find the answer:\\n\\n1. Identify the words and phrases in the question.\\n2. Determine the part of speech (noun, verb, adjective) for each word.\\n3. Identify the parts of speech that are used in the sentence \"TDC - deeper DD as promised\".\\n4. Use the parts of speech to determine the answer.\\n\\nHere\\'s how you can approach this step:\\n\\n1. Identify the words and phrases in the question.\\nIn this case, the words are \"TDC\" (tender-hearted), \"Deeper DD\" (deepest deep), and \"as promised\".\\n2. Determine the part of speech for each word.\\nThe parts of speech for \"TDC\" are \"noun\", \"verb\", and \"adjective\". The parts of speech for \"Deeper DD\" are \"adjective\", \"noun\", and \"verb\".\\n3. Identify the words that are used in the sentence \"TDC - deeper DD as promised\".\\nThe words that are used in the sentence are \"TDC\" (tender-hearted), \"Deeper DD\" (deepest deep).\\n4. Use the parts of speech to determine the answer.\\nUsing the parts of speech, we can identify the answer as:\\nTDC - deeper DD as promised\\n\\nTherefore, the correct answer is: TDC - deeper DD as promised.', images=None, tool_calls=None)\n",
      "Ticker: None\n",
      "--------------------------------------------------\n",
      "Post: What could be better for GME transition to online retailer than a massive story and the loyalty of tens of thousands of Redditors having a life changing experience with them?\n"
     ]
    },
    {
     "name": "stderr",
     "output_type": "stream",
     "text": [
      "8it [00:10,  1.24s/it]"
     ]
    },
    {
     "name": "stdout",
     "output_type": "stream",
     "text": [
      "model='smollm:360m' created_at='2025-05-02T19:59:51.92127703Z' done=True done_reason='stop' total_duration=2869072828 load_duration=5064372 prompt_eval_count=84 prompt_eval_duration=8265401 eval_count=772 eval_duration=2854903751 message=Message(role='assistant', content='I\\'d like to suggest that the text could be \"What could be better for GME transition to online retailer than a massive story and the loyalty of tens of thousands of Redditors having a life-changing experience with them?\"\\n\\nThe word \"better\" is not present in the text, but it\\'s implied through the use of \"than\" or \"more\". The phrase could be translated as \"What could be better for GME transition to online retailer than a massive story and the loyalty of tens of thousands of Redditors having a life-changing experience with them?\"\\n\\nThe word \"majestic\" is present in the text, but it\\'s not used in the context. The phrase could be translated as \"What could be more majestic for GME transition to online retailer than a massive story and the loyalty of tens of thousands of Redditors having a life-changing experience with them?\"\\n\\nThe word \"loyalty\" is present in the text, but it\\'s not used in the context. The phrase could be translated as \"What could be more loyal for GME transition to online retailer than a massive story and the loyalty of tens of thousands of Redditors having a life-changing experience with them?\"\\n\\nThe word \"gives\" is present in the text, but it\\'s not used in the context. The phrase could be translated as \"What could give more for GME transition to online retailer than a massive story and the loyalty of tens of thousands of Redditors having a life-changing experience with them?\"\\n\\nThe word \"gives\" is present in the text, but it\\'s not used in the context. The phrase could be translated as \"What could give more for GME transition to online retailer than a massive story and the loyalty of tens of thousands of Redditors having a life-changing experience with them?\"\\n\\nThe word \"gives\" is present in the text, but it\\'s not used in the context. The phrase could be translated as \"What could give more for GME transition to online retailer than a massive story and the loyalty of tens of thousands of Redditors having a life-changing experience with them?\"\\n\\nThe word \"gives\" is present in the text, but it\\'s not used in the context. The phrase could be translated as \"What could give more for GME transition to online retailer than a massive story and the loyalty of tens of thousands of Redditors having a life-changing experience with them?\"\\n\\nThe word \"gives\" is present in the text, but it\\'s not used in the context. The phrase could be translated as \"What could give more for GME transition to online retailer than a massive story and the loyalty of tens of thousands of Redditors having a life-changing experience with them?\"\\n\\nThe word \"gives\" is present in the text, but it\\'s not used in the context. The phrase could be translated as \"What could give more for GME transition to online retailer than a massive story and the loyalty of tens of thousands of Redditors having a life-changing experience with them?\"\\n\\nThe word \"gives\" is present in the text, but it\\'s not used in the context. The phrase could be translated as \"What could give more for GME transition to online retailer than a massive story and the loyalty of tens of thousands of Redditors having a life-changing experience with them?\"\\n\\nThe word \"gives\" is present in the text, but it\\'s not used in the context. The phrase could be translated as \"What could give more for GME transition to online retailer than a massive story and the loyalty of tens of thousands of Redditors having a life-changing experience with them?\"', images=None, tool_calls=None)\n",
      "Ticker: None\n",
      "--------------------------------------------------\n",
      "Post: Buy the rumor sell the news...\n",
      "model='smollm:360m' created_at='2025-05-02T19:59:52.031787916Z' done=True done_reason='stop' total_duration=107928773 load_duration=4849095 prompt_eval_count=58 prompt_eval_duration=9020741 eval_count=25 eval_duration=93289994 message=Message(role='assistant', content='The stock ticker for this text is:\\n\\n```\\n[1, 2, 3]\\n```', images=None, tool_calls=None)\n",
      "Ticker: None\n",
      "--------------------------------------------------\n",
      "Post: Losses are mounting$GME, $AMC but I might as well hold - if nothing else I can gift it to my son in March 💎🙏🏼🚀🚀🚀\n"
     ]
    },
    {
     "name": "stderr",
     "output_type": "stream",
     "text": [
      "9it [00:10,  1.08it/s]"
     ]
    },
    {
     "name": "stdout",
     "output_type": "stream",
     "text": [
      "model='smollm:360m' created_at='2025-05-02T19:59:52.27264957Z' done=True done_reason='stop' total_duration=238101408 load_duration=5668228 prompt_eval_count=99 prompt_eval_duration=11593983 eval_count=61 eval_duration=220294051 message=Message(role='assistant', content='The stock ticker for this text is:\\n\\n```\\nGME, AMC but I might as well hold - if nothing else I can gift it to my son in March 💎🙏🏼🚀🚀🚀🚀\\n```', images=None, tool_calls=None)\n",
      "Ticker: None\n",
      "--------------------------------------------------\n",
      "Post: Feel the Squeeze\n"
     ]
    },
    {
     "name": "stderr",
     "output_type": "stream",
     "text": [
      "10it [00:11,  1.10s/it]"
     ]
    },
    {
     "name": "stdout",
     "output_type": "stream",
     "text": [
      "model='smollm:360m' created_at='2025-05-02T19:59:52.544639456Z' done=True done_reason='stop' total_duration=269747253 load_duration=4747124 prompt_eval_count=56 prompt_eval_duration=13323586 eval_count=69 eval_duration=250983377 message=Message(role='assistant', content='I think I can help you with that!\\n\\nThe stock ticker for \"Feel the Squeeze\" would be:\\n\\n```\\nFEL-SQUEZ-1234567890\\n```\\n\\nIf there is no text provided, we can assume it\\'s a generic text.', images=None, tool_calls=None)\n",
      "Ticker: None\n",
      "--------------------------------------------------\n",
      "Ollama server stopped.\n",
      "Ollama server is not running.\n"
     ]
    },
    {
     "name": "stderr",
     "output_type": "stream",
     "text": [
      "\n"
     ]
    }
   ],
   "source": [
    "## Provide example usage\n",
    "# Start the Ollama server\n",
    "ollama_process, base_url = start_ollama_serve()\n",
    "\n",
    "# Display the sample submissions\n",
    "for submission in tqdm(sample_submissions.iterrows()):\n",
    "    submission = submission[1]\n",
    "    post_text = submission['title']\n",
    "    print('Post:', post_text)\n",
    "    print('Ticker:', attribute_ticker_ollama(post_text))\n",
    "    print('-' * 50)\n",
    "    \n",
    "# Stop the Ollama server\n",
    "stop_ollama_service()\n",
    "\n",
    "# Check if the server is running\n",
    "check_ollama_serve()"
   ]
  },
  {
   "cell_type": "markdown",
   "id": "a87201d6",
   "metadata": {},
   "source": [
    "## Part 5: Use the ollama attribution"
   ]
  },
  {
   "cell_type": "code",
   "execution_count": 19,
   "id": "df3e28b6",
   "metadata": {},
   "outputs": [],
   "source": [
    "# # Start the Ollama server\n",
    "# ollama_process, base_url = start_ollama_serve()\n",
    "\n",
    "# # Apply the function to the entire collection\n",
    "# tqdm.pandas()\n",
    "# merged_collection['llm_ticker'] = merged_collection.progress_apply(lambda x: attribute_ticker_ollama(f'{x['title']} {x['selftext']}'), axis=1)\n",
    "\n",
    "# # Stop the Ollama server\n",
    "# stop_ollama_service()\n",
    "\n",
    "# # Check if the server is running\n",
    "# check_ollama_serve()"
   ]
  },
  {
   "cell_type": "code",
   "execution_count": 20,
   "id": "d99a6720",
   "metadata": {},
   "outputs": [],
   "source": [
    "# # Provide some details about the ticker extraction\n",
    "# print(f\"Number of submissions with ticker: {merged_collection['llm_ticker'].notnull().sum()}\")\n",
    "# print(f\"Number of submissions without ticker: {merged_collection['llm_ticker'].isnull().sum()}\")\n",
    "# print(f\"Proportion of submissions with ticker: {merged_collection['llm_ticker'].notnull().sum() / len(merged_collection) * 100:.2f}%\")\n",
    "# print(f\"Number of unique tickers: {merged_collection['llm_ticker'].nunique()}\")\n",
    "\n",
    "# # Display the first few rows of the collection with tickers\n",
    "# display(merged_collection[['title', 'llm_ticker']].head(10))"
   ]
  }
 ],
 "metadata": {
  "kernelspec": {
   "display_name": "venv",
   "language": "python",
   "name": "python3"
  },
  "language_info": {
   "codemirror_mode": {
    "name": "ipython",
    "version": 3
   },
   "file_extension": ".py",
   "mimetype": "text/x-python",
   "name": "python",
   "nbconvert_exporter": "python",
   "pygments_lexer": "ipython3",
   "version": "3.12.3"
  }
 },
 "nbformat": 4,
 "nbformat_minor": 5
}
