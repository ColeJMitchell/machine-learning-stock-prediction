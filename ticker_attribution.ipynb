{
 "cells": [
  {
   "cell_type": "markdown",
   "id": "94356631",
   "metadata": {},
   "source": [
    "# Adding Sentiment Scores to Reddit Data Collection"
   ]
  },
  {
   "cell_type": "markdown",
   "id": "ff67acb8",
   "metadata": {},
   "source": [
    "## Part 0: Setup"
   ]
  },
  {
   "cell_type": "markdown",
   "id": "1c8b3f16",
   "metadata": {},
   "source": [
    "#### Setup basic utilities"
   ]
  },
  {
   "cell_type": "code",
   "execution_count": 47,
   "id": "5560a078",
   "metadata": {},
   "outputs": [],
   "source": [
    "# Import Packages\n",
    "import pyarrow, os, re, ollama, requests, json, time, subprocess, math\n",
    "from IPython.display import display\n",
    "import matplotlib.pyplot as plt\n",
    "import seaborn as sns\n",
    "import pandas as pd\n",
    "from tqdm import tqdm\n",
    "import yfinance as yf\n",
    "\n",
    "# Check if running in Google Colab\n",
    "def is_colab():\n",
    "    from IPython import get_ipython\n",
    "    return get_ipython().__class__.__module__ == \"google.colab._shell\""
   ]
  },
  {
   "cell_type": "markdown",
   "id": "bd730c0c",
   "metadata": {},
   "source": [
    "## Part 1: Read Collected Reddit Data"
   ]
  },
  {
   "cell_type": "code",
   "execution_count": 48,
   "id": "9e6d2a3a",
   "metadata": {},
   "outputs": [],
   "source": [
    "# Save the collected data to parquet format\n",
    "MERGED_PARQUET_PATH = './data/merged-reddit-wsb.parquet'\n",
    "\n",
    "# Verify that the path exists\n",
    "if not os.path.exists(MERGED_PARQUET_PATH):\n",
    "    print(f\"Error: The file {MERGED_PARQUET_PATH} does not exist.\")\n",
    "    \n",
    "# Create a pyarrow schema for the data types.\n",
    "merged_schema = pyarrow.schema([\n",
    "    ('title', pyarrow.string()),\n",
    "    ('upvote_ratio', pyarrow.float64()),\n",
    "    ('id', pyarrow.string()),\n",
    "    ('permalink', pyarrow.string()),\n",
    "    ('num_comments', pyarrow.int64()),\n",
    "    ('created_utc', pyarrow.float64()),\n",
    "    ('selftext', pyarrow.string())\n",
    "])\n",
    "\n",
    "merged_collection = pd.read_parquet(MERGED_PARQUET_PATH, engine='pyarrow', schema=merged_schema)"
   ]
  },
  {
   "cell_type": "code",
   "execution_count": 49,
   "id": "44ee7652",
   "metadata": {},
   "outputs": [
    {
     "data": {
      "text/html": [
       "<div>\n",
       "<style scoped>\n",
       "    .dataframe tbody tr th:only-of-type {\n",
       "        vertical-align: middle;\n",
       "    }\n",
       "\n",
       "    .dataframe tbody tr th {\n",
       "        vertical-align: top;\n",
       "    }\n",
       "\n",
       "    .dataframe thead th {\n",
       "        text-align: right;\n",
       "    }\n",
       "</style>\n",
       "<table border=\"1\" class=\"dataframe\">\n",
       "  <thead>\n",
       "    <tr style=\"text-align: right;\">\n",
       "      <th></th>\n",
       "      <th>title</th>\n",
       "      <th>upvote_ratio</th>\n",
       "      <th>id</th>\n",
       "      <th>permalink</th>\n",
       "      <th>num_comments</th>\n",
       "      <th>created_utc</th>\n",
       "      <th>selftext</th>\n",
       "    </tr>\n",
       "  </thead>\n",
       "  <tbody>\n",
       "    <tr>\n",
       "      <th>0</th>\n",
       "      <td>Nivea Along</td>\n",
       "      <td>0.67</td>\n",
       "      <td>1k0t4jk</td>\n",
       "      <td>/r/wallstreetbets/comments/1k0t4jk/nivea_along/</td>\n",
       "      <td>5</td>\n",
       "      <td>1.744832e+09</td>\n",
       "      <td>After -7% yesterday and -10% today</td>\n",
       "    </tr>\n",
       "    <tr>\n",
       "      <th>1</th>\n",
       "      <td>Powell to Volatile Stock Market: You’re on You...</td>\n",
       "      <td>0.86</td>\n",
       "      <td>1k0unbq</td>\n",
       "      <td>/r/wallstreetbets/comments/1k0unbq/powell_to_v...</td>\n",
       "      <td>2</td>\n",
       "      <td>1.744836e+09</td>\n",
       "      <td></td>\n",
       "    </tr>\n",
       "    <tr>\n",
       "      <th>2</th>\n",
       "      <td>Made back the last Wendy’s paycheck I lost</td>\n",
       "      <td>0.94</td>\n",
       "      <td>1k0tv2y</td>\n",
       "      <td>/r/wallstreetbets/comments/1k0tv2y/made_back_t...</td>\n",
       "      <td>6</td>\n",
       "      <td>1.744834e+09</td>\n",
       "      <td></td>\n",
       "    </tr>\n",
       "    <tr>\n",
       "      <th>3</th>\n",
       "      <td>After market observation. When I finished buyi...</td>\n",
       "      <td>0.72</td>\n",
       "      <td>1k0tnqx</td>\n",
       "      <td>/r/wallstreetbets/comments/1k0tnqx/after_marke...</td>\n",
       "      <td>8</td>\n",
       "      <td>1.744833e+09</td>\n",
       "      <td>https://preview.redd.it/41ilvj6f39ve1.png?widt...</td>\n",
       "    </tr>\n",
       "    <tr>\n",
       "      <th>4</th>\n",
       "      <td>Ominous</td>\n",
       "      <td>0.85</td>\n",
       "      <td>1k0thnd</td>\n",
       "      <td>/r/wallstreetbets/comments/1k0thnd/ominous/</td>\n",
       "      <td>110</td>\n",
       "      <td>1.744833e+09</td>\n",
       "      <td>NVIDIA 2024 is starting to rhyme like Cisco 20...</td>\n",
       "    </tr>\n",
       "  </tbody>\n",
       "</table>\n",
       "</div>"
      ],
      "text/plain": [
       "                                               title  upvote_ratio       id  \\\n",
       "0                                        Nivea Along          0.67  1k0t4jk   \n",
       "1  Powell to Volatile Stock Market: You’re on You...          0.86  1k0unbq   \n",
       "2         Made back the last Wendy’s paycheck I lost          0.94  1k0tv2y   \n",
       "3  After market observation. When I finished buyi...          0.72  1k0tnqx   \n",
       "4                                            Ominous          0.85  1k0thnd   \n",
       "\n",
       "                                           permalink  num_comments  \\\n",
       "0    /r/wallstreetbets/comments/1k0t4jk/nivea_along/             5   \n",
       "1  /r/wallstreetbets/comments/1k0unbq/powell_to_v...             2   \n",
       "2  /r/wallstreetbets/comments/1k0tv2y/made_back_t...             6   \n",
       "3  /r/wallstreetbets/comments/1k0tnqx/after_marke...             8   \n",
       "4        /r/wallstreetbets/comments/1k0thnd/ominous/           110   \n",
       "\n",
       "    created_utc                                           selftext  \n",
       "0  1.744832e+09                After -7% yesterday and -10% today   \n",
       "1  1.744836e+09                                                     \n",
       "2  1.744834e+09                                                     \n",
       "3  1.744833e+09  https://preview.redd.it/41ilvj6f39ve1.png?widt...  \n",
       "4  1.744833e+09  NVIDIA 2024 is starting to rhyme like Cisco 20...  "
      ]
     },
     "metadata": {},
     "output_type": "display_data"
    }
   ],
   "source": [
    "# Display the first few rows of the submission collection.\n",
    "display(merged_collection.head())"
   ]
  },
  {
   "cell_type": "markdown",
   "id": "58c87d0e",
   "metadata": {},
   "source": [
    "## Part 2: _"
   ]
  },
  {
   "cell_type": "code",
   "execution_count": 50,
   "id": "18316164",
   "metadata": {},
   "outputs": [
    {
     "data": {
      "text/html": [
       "<div>\n",
       "<style scoped>\n",
       "    .dataframe tbody tr th:only-of-type {\n",
       "        vertical-align: middle;\n",
       "    }\n",
       "\n",
       "    .dataframe tbody tr th {\n",
       "        vertical-align: top;\n",
       "    }\n",
       "\n",
       "    .dataframe thead th {\n",
       "        text-align: right;\n",
       "    }\n",
       "</style>\n",
       "<table border=\"1\" class=\"dataframe\">\n",
       "  <thead>\n",
       "    <tr style=\"text-align: right;\">\n",
       "      <th></th>\n",
       "      <th>Symbol</th>\n",
       "      <th>Name</th>\n",
       "      <th>Country</th>\n",
       "      <th>Sector</th>\n",
       "      <th>Industry</th>\n",
       "    </tr>\n",
       "  </thead>\n",
       "  <tbody>\n",
       "    <tr>\n",
       "      <th>0</th>\n",
       "      <td>A</td>\n",
       "      <td>Agilent Technologies Inc. Common Stock</td>\n",
       "      <td>United States</td>\n",
       "      <td>Industrials</td>\n",
       "      <td>Biotechnology: Laboratory Analytical Instruments</td>\n",
       "    </tr>\n",
       "    <tr>\n",
       "      <th>1</th>\n",
       "      <td>AA</td>\n",
       "      <td>Alcoa Corporation Common Stock</td>\n",
       "      <td>United States</td>\n",
       "      <td>Industrials</td>\n",
       "      <td>Aluminum</td>\n",
       "    </tr>\n",
       "    <tr>\n",
       "      <th>2</th>\n",
       "      <td>AACB</td>\n",
       "      <td>Artius II Acquisition Inc. Class A Ordinary Sh...</td>\n",
       "      <td>United States</td>\n",
       "      <td>None</td>\n",
       "      <td>None</td>\n",
       "    </tr>\n",
       "    <tr>\n",
       "      <th>3</th>\n",
       "      <td>AACBR</td>\n",
       "      <td>Artius II Acquisition Inc. Rights</td>\n",
       "      <td>United States</td>\n",
       "      <td>None</td>\n",
       "      <td>None</td>\n",
       "    </tr>\n",
       "    <tr>\n",
       "      <th>4</th>\n",
       "      <td>AACBU</td>\n",
       "      <td>Artius II Acquisition Inc. Units</td>\n",
       "      <td>United States</td>\n",
       "      <td>Finance</td>\n",
       "      <td>Blank Checks</td>\n",
       "    </tr>\n",
       "  </tbody>\n",
       "</table>\n",
       "</div>"
      ],
      "text/plain": [
       "  Symbol                                               Name        Country  \\\n",
       "0      A             Agilent Technologies Inc. Common Stock  United States   \n",
       "1     AA                    Alcoa Corporation Common Stock   United States   \n",
       "2   AACB  Artius II Acquisition Inc. Class A Ordinary Sh...  United States   \n",
       "3  AACBR                  Artius II Acquisition Inc. Rights  United States   \n",
       "4  AACBU                   Artius II Acquisition Inc. Units  United States   \n",
       "\n",
       "        Sector                                          Industry  \n",
       "0  Industrials  Biotechnology: Laboratory Analytical Instruments  \n",
       "1  Industrials                                          Aluminum  \n",
       "2         None                                              None  \n",
       "3         None                                              None  \n",
       "4      Finance                                      Blank Checks  "
      ]
     },
     "metadata": {},
     "output_type": "display_data"
    }
   ],
   "source": [
    "nasdawq_tickers = pd.read_parquet('./data/nasdaq_tickers.parquet', engine='pyarrow')\n",
    "display(nasdawq_tickers.head())"
   ]
  },
  {
   "cell_type": "code",
   "execution_count": null,
   "id": "e467ac12",
   "metadata": {},
   "outputs": [],
   "source": [
    "def attribute_ticker_re(post: str) -> str:\n",
    "    \"\"\"\n",
    "    Extracts the longest ticker symbol from a given post text.\n",
    "    Args:\n",
    "        post (str): The post text to search for ticker symbols.\n",
    "    Returns:\n",
    "        str: The longest ticker symbol found in the post, or None if no valid ticker is found.\n",
    "    \"\"\"\n",
    "    # Find all matches of the pattern in the post\n",
    "    matches = re.findall(r'(?<!\\S)($)?([A-Z]{3,5})(?!\\S)', post) #([A-Za-z]{1,5})(-[A-Za-z]{1,2})?\n",
    "    if matches:\n",
    "        \n",
    "        # Return the longest matches that are in the NASDAQ list\n",
    "        matches = [match for match in matches if match in nasdawq_tickers['Symbol'].values]\n",
    "        if matches:\n",
    "            longest_match = max(matches, key=len)\n",
    "            return longest_match\n",
    "        \n",
    "    else:\n",
    "        return None"
   ]
  },
  {
   "cell_type": "code",
   "execution_count": 52,
   "id": "cafe4c1c",
   "metadata": {},
   "outputs": [
    {
     "name": "stderr",
     "output_type": "stream",
     "text": [
      "100%|██████████| 54577/54577 [00:27<00:00, 2002.15it/s]\n"
     ]
    }
   ],
   "source": [
    "# Apply the function to the entire collection\n",
    "tqdm.pandas()\n",
    "merged_collection['re_ticker'] = merged_collection.progress_apply(lambda x: attribute_ticker_re(f'{x['title']} {x['selftext']}'), axis=1)"
   ]
  },
  {
   "cell_type": "code",
   "execution_count": 53,
   "id": "27df0d9d",
   "metadata": {},
   "outputs": [
    {
     "name": "stdout",
     "output_type": "stream",
     "text": [
      "Number of submissions with ticker: 27155\n",
      "Number of submissions without ticker: 27422\n",
      "Proportion of submissions with ticker: 49.76%\n",
      "Number of unique tickers: 1202\n"
     ]
    },
    {
     "data": {
      "text/html": [
       "<div>\n",
       "<style scoped>\n",
       "    .dataframe tbody tr th:only-of-type {\n",
       "        vertical-align: middle;\n",
       "    }\n",
       "\n",
       "    .dataframe tbody tr th {\n",
       "        vertical-align: top;\n",
       "    }\n",
       "\n",
       "    .dataframe thead th {\n",
       "        text-align: right;\n",
       "    }\n",
       "</style>\n",
       "<table border=\"1\" class=\"dataframe\">\n",
       "  <thead>\n",
       "    <tr style=\"text-align: right;\">\n",
       "      <th></th>\n",
       "      <th>title</th>\n",
       "      <th>re_ticker</th>\n",
       "    </tr>\n",
       "  </thead>\n",
       "  <tbody>\n",
       "    <tr>\n",
       "      <th>0</th>\n",
       "      <td>Nivea Along</td>\n",
       "      <td>None</td>\n",
       "    </tr>\n",
       "    <tr>\n",
       "      <th>1</th>\n",
       "      <td>Powell to Volatile Stock Market: You’re on You...</td>\n",
       "      <td>None</td>\n",
       "    </tr>\n",
       "    <tr>\n",
       "      <th>2</th>\n",
       "      <td>Made back the last Wendy’s paycheck I lost</td>\n",
       "      <td>None</td>\n",
       "    </tr>\n",
       "    <tr>\n",
       "      <th>3</th>\n",
       "      <td>After market observation. When I finished buyi...</td>\n",
       "      <td>None</td>\n",
       "    </tr>\n",
       "    <tr>\n",
       "      <th>4</th>\n",
       "      <td>Ominous</td>\n",
       "      <td>None</td>\n",
       "    </tr>\n",
       "    <tr>\n",
       "      <th>5</th>\n",
       "      <td>Monday Boeing, Tuesday Nivida, Today AMD, Tomo...</td>\n",
       "      <td>AMD</td>\n",
       "    </tr>\n",
       "    <tr>\n",
       "      <th>6</th>\n",
       "      <td>Before and After</td>\n",
       "      <td>MSTR</td>\n",
       "    </tr>\n",
       "    <tr>\n",
       "      <th>7</th>\n",
       "      <td>Before, After, and Dr*gs?</td>\n",
       "      <td>MSTR</td>\n",
       "    </tr>\n",
       "    <tr>\n",
       "      <th>8</th>\n",
       "      <td>Uranium Yolo</td>\n",
       "      <td>None</td>\n",
       "    </tr>\n",
       "    <tr>\n",
       "      <th>9</th>\n",
       "      <td>IBKR $185 C 6/20. What are your thoughts regar...</td>\n",
       "      <td>IBKR</td>\n",
       "    </tr>\n",
       "  </tbody>\n",
       "</table>\n",
       "</div>"
      ],
      "text/plain": [
       "                                               title re_ticker\n",
       "0                                        Nivea Along      None\n",
       "1  Powell to Volatile Stock Market: You’re on You...      None\n",
       "2         Made back the last Wendy’s paycheck I lost      None\n",
       "3  After market observation. When I finished buyi...      None\n",
       "4                                            Ominous      None\n",
       "5  Monday Boeing, Tuesday Nivida, Today AMD, Tomo...       AMD\n",
       "6                                   Before and After      MSTR\n",
       "7                          Before, After, and Dr*gs?      MSTR\n",
       "8                                       Uranium Yolo      None\n",
       "9  IBKR $185 C 6/20. What are your thoughts regar...      IBKR"
      ]
     },
     "metadata": {},
     "output_type": "display_data"
    }
   ],
   "source": [
    "# Provide some details about the ticker extraction\n",
    "print(f\"Number of submissions with ticker: {merged_collection['re_ticker'].notnull().sum()}\")\n",
    "print(f\"Number of submissions without ticker: {merged_collection['re_ticker'].isnull().sum()}\")\n",
    "print(f\"Proportion of submissions with ticker: {merged_collection['re_ticker'].notnull().sum() / len(merged_collection) * 100:.2f}%\")\n",
    "print(f\"Number of unique tickers: {merged_collection['re_ticker'].nunique()}\")\n",
    "\n",
    "# Display the first few rows of the collection with tickers\n",
    "display(merged_collection[['title', 're_ticker']].head(10))"
   ]
  },
  {
   "cell_type": "code",
   "execution_count": 54,
   "id": "deea34a3",
   "metadata": {},
   "outputs": [
    {
     "data": {
      "image/png": "[encoded data removed]",
      "text/plain": [
       "<Figure size 1200x600 with 1 Axes>"
      ]
     },
     "metadata": {},
     "output_type": "display_data"
    }
   ],
   "source": [
    "# Show the distribution of unique tickers\n",
    "ticker_counts = merged_collection['re_ticker'].value_counts()\n",
    "log_ticker_counts = ticker_counts.apply(lambda x: math.log(x) if x > 0 else 0)\n",
    "plt.figure(figsize=(12, 6))\n",
    "sns.histplot(log_ticker_counts, bins=30, kde=True)  \n",
    "plt.title('Distribution of Unique Tickers in Reddit Posts')\n",
    "plt.xlabel('Number of Posts')\n",
    "plt.ylabel('Frequency')\n",
    "plt.show()"
   ]
  },
  {
   "cell_type": "code",
   "execution_count": 55,
   "id": "ab315e34",
   "metadata": {},
   "outputs": [
    {
     "data": {
      "text/plain": [
       "re_ticker\n",
       "GME      9210\n",
       "AMC      2317\n",
       "PLTR      669\n",
       "NOK       628\n",
       "HOOD      623\n",
       "LINE      535\n",
       "EDIT      487\n",
       "RKT       485\n",
       "TSLA      454\n",
       "YOU       444\n",
       "UWMC      367\n",
       "SNDL      311\n",
       "ADD       273\n",
       "CLOV      258\n",
       "SPCE      253\n",
       "ARE       220\n",
       "ALL       203\n",
       "FOR       180\n",
       "AMD       161\n",
       "ING       148\n",
       "TLRY      141\n",
       "CRSR      140\n",
       "MVIS      131\n",
       "CAN       129\n",
       "AAPL      126\n",
       "CLNE      124\n",
       "NOW       123\n",
       "LOVE      122\n",
       "PSA       115\n",
       "NEXT      112\n",
       "CLF       108\n",
       "WKHS      102\n",
       "AAL        98\n",
       "NIO        95\n",
       "ASO        95\n",
       "NVDA       90\n",
       "BABA       89\n",
       "REAL       85\n",
       "AMZN       84\n",
       "IONS       82\n",
       "SOFI       78\n",
       "GOOD       76\n",
       "USA        73\n",
       "OPEN       72\n",
       "IBKR       70\n",
       "DKNG       69\n",
       "OUT        64\n",
       "CASH       63\n",
       "WTF        63\n",
       "GOOGL      61\n",
       "Name: count, dtype: int64"
      ]
     },
     "metadata": {},
     "output_type": "display_data"
    }
   ],
   "source": [
    "# Show the top 10 most common tickers\n",
    "top_tickers = ticker_counts.sort_values(ascending=False).head(50)\n",
    "display(top_tickers)"
   ]
  },
  {
   "cell_type": "markdown",
   "id": "ec373e27",
   "metadata": {},
   "source": [
    "## Part 3: Create functionality to use ollama"
   ]
  },
  {
   "cell_type": "code",
   "execution_count": 56,
   "id": "3757afd4",
   "metadata": {},
   "outputs": [],
   "source": [
    "def check_ollama_serve():\n",
    "    \"\"\"\n",
    "    Checks if the Ollama server is running and returns the base URL.\n",
    "    \"\"\"\n",
    "    try:\n",
    "        # Check if the server is running\n",
    "        response = requests.get(\"http://localhost:11434\")\n",
    "        if response.status_code == 200:\n",
    "            print(\"Ollama server is running.\")\n",
    "            return \"http://localhost:11434\"\n",
    "        else:\n",
    "            print(\"Ollama server is not running.\")\n",
    "            return None\n",
    "    except requests.exceptions.ConnectionError:\n",
    "        print(\"Ollama server is not running.\")\n",
    "        return None\n",
    "    \n",
    "\n",
    "def start_ollama_serve():\n",
    "    \"\"\"\n",
    "    Starts the Ollama server and returns the base URL.\n",
    "    \"\"\"\n",
    "    try:\n",
    "        # Check if the server is already running\n",
    "        requests.get(\"http://localhost:11434\")\n",
    "        print(\"Ollama server is already running.\")\n",
    "        return None, \"http://localhost:11434\"\n",
    "    except requests.exceptions.ConnectionError:\n",
    "        # Start the server if it's not running\n",
    "        process = subprocess.Popen([\"ollama\", \"serve\"], stdout=subprocess.PIPE, stderr=subprocess.PIPE)\n",
    "        time.sleep(5)\n",
    "        print(\"Ollama server started.\")\n",
    "        \n",
    "        return process, \"http://localhost:11434\"\n",
    "         \n",
    "def stop_ollama_service():\n",
    "    \"\"\"\n",
    "    Stops the Ollama server if it is running.\n",
    "    \"\"\"\n",
    "    try:\n",
    "        # Check if the server is running\n",
    "        response = requests.get(\"http://localhost:11434\")\n",
    "        if response.status_code == 200:\n",
    "            # Stop the server\n",
    "            subprocess.run([\"pkill\", \"-f\", \"ollama\"], check=True)\n",
    "            print(\"Ollama server stopped.\")\n",
    "        else:\n",
    "            print(\"Ollama server is not running.\")\n",
    "    except requests.exceptions.ConnectionError:\n",
    "        print(\"Ollama server is not running.\")"
   ]
  },
  {
   "cell_type": "code",
   "execution_count": 57,
   "id": "9ee5f57c",
   "metadata": {},
   "outputs": [
    {
     "name": "stdout",
     "output_type": "stream",
     "text": [
      "Ollama server started.\n",
      "Ollama server is running.\n"
     ]
    },
    {
     "data": {
      "text/plain": [
       "'http://localhost:11434'"
      ]
     },
     "execution_count": 57,
     "metadata": {},
     "output_type": "execute_result"
    }
   ],
   "source": [
    "# Start the Ollama server\n",
    "ollama_process, base_url = start_ollama_serve()\n",
    "\n",
    "# Check if the server is running\n",
    "check_ollama_serve()"
   ]
  },
  {
   "cell_type": "code",
   "execution_count": 58,
   "id": "0030e5d8",
   "metadata": {},
   "outputs": [
    {
     "name": "stdout",
     "output_type": "stream",
     "text": [
      "Ollama server stopped.\n",
      "Ollama server is not running.\n"
     ]
    }
   ],
   "source": [
    "# Stop the Ollama server\n",
    "stop_ollama_service()\n",
    "\n",
    "# Check if the server is running\n",
    "check_ollama_serve()"
   ]
  },
  {
   "cell_type": "code",
   "execution_count": 59,
   "id": "ce262652",
   "metadata": {},
   "outputs": [],
   "source": [
    "def attribute_ticker_ollama(post: str) -> str:\n",
    "    \"\"\"\n",
    "    Extracts the ticker symbol from the submission text.\n",
    "    \"\"\"\n",
    "    response = ollama.chat(\n",
    "        model='smollm:360m', # Subject to change.\n",
    "        messages=[{\n",
    "            'role': 'user', \n",
    "            'content': f'what is the stock ticker for this text \"{post}\" you have to answer in one word with no period. If you cant determine it just ourput None. Also if there is no text provided output None.'\n",
    "        }]\n",
    "    )\n",
    "    if len(response['message']['content']) > 5:\n",
    "        response['message']['content'] = 'None'\n",
    "    return response['message']['content']"
   ]
  },
  {
   "cell_type": "markdown",
   "id": "3b81f604",
   "metadata": {},
   "source": [
    "## Part 4: Test the ollama attribution"
   ]
  },
  {
   "cell_type": "code",
   "execution_count": 60,
   "id": "d2b1f7a0",
   "metadata": {},
   "outputs": [
    {
     "data": {
      "text/html": [
       "<div>\n",
       "<style scoped>\n",
       "    .dataframe tbody tr th:only-of-type {\n",
       "        vertical-align: middle;\n",
       "    }\n",
       "\n",
       "    .dataframe tbody tr th {\n",
       "        vertical-align: top;\n",
       "    }\n",
       "\n",
       "    .dataframe thead th {\n",
       "        text-align: right;\n",
       "    }\n",
       "</style>\n",
       "<table border=\"1\" class=\"dataframe\">\n",
       "  <thead>\n",
       "    <tr style=\"text-align: right;\">\n",
       "      <th></th>\n",
       "      <th>title</th>\n",
       "      <th>upvote_ratio</th>\n",
       "      <th>id</th>\n",
       "      <th>permalink</th>\n",
       "      <th>num_comments</th>\n",
       "      <th>created_utc</th>\n",
       "      <th>selftext</th>\n",
       "      <th>re_ticker</th>\n",
       "    </tr>\n",
       "  </thead>\n",
       "  <tbody>\n",
       "    <tr>\n",
       "      <th>32995</th>\n",
       "      <td>My prediction for the future of Wallstreet bets.</td>\n",
       "      <td>16.0</td>\n",
       "      <td>ldwcr9</td>\n",
       "      <td>https://www.reddit.com/r/wallstreetbets/commen...</td>\n",
       "      <td>15</td>\n",
       "      <td>1.612642e+09</td>\n",
       "      <td>**TL;DR: the some media-companys will probably...</td>\n",
       "      <td>None</td>\n",
       "    </tr>\n",
       "    <tr>\n",
       "      <th>31935</th>\n",
       "      <td>Damn. What a fucked up world eh guys?</td>\n",
       "      <td>31.0</td>\n",
       "      <td>ldiwjk</td>\n",
       "      <td>https://i.redd.it/5cqbkc81iqf61.jpg</td>\n",
       "      <td>25</td>\n",
       "      <td>1.612592e+09</td>\n",
       "      <td>None</td>\n",
       "      <td>None</td>\n",
       "    </tr>\n",
       "    <tr>\n",
       "      <th>46909</th>\n",
       "      <td>My Predictions for NIO Q1 Earnings and Results</td>\n",
       "      <td>41.0</td>\n",
       "      <td>n15j46</td>\n",
       "      <td>https://www.reddit.com/r/wallstreetbets/commen...</td>\n",
       "      <td>40</td>\n",
       "      <td>1.619735e+09</td>\n",
       "      <td>I previously posted this, with typos and other...</td>\n",
       "      <td>NIO</td>\n",
       "    </tr>\n",
       "    <tr>\n",
       "      <th>47671</th>\n",
       "      <td>Monster Crash</td>\n",
       "      <td>53689.0</td>\n",
       "      <td>n5lboc</td>\n",
       "      <td>https://v.redd.it/shekh7yq5cx61</td>\n",
       "      <td>1156</td>\n",
       "      <td>1.620264e+09</td>\n",
       "      <td>None</td>\n",
       "      <td>None</td>\n",
       "    </tr>\n",
       "    <tr>\n",
       "      <th>11993</th>\n",
       "      <td>So</td>\n",
       "      <td>1.0</td>\n",
       "      <td>l71b7v</td>\n",
       "      <td>https://www.reddit.com/r/wallstreetbets/commen...</td>\n",
       "      <td>7</td>\n",
       "      <td>1.611880e+09</td>\n",
       "      <td>How much money have ya’ll lost in the last hour?</td>\n",
       "      <td>None</td>\n",
       "    </tr>\n",
       "    <tr>\n",
       "      <th>33797</th>\n",
       "      <td>TDC - deeper DD as promised</td>\n",
       "      <td>236.0</td>\n",
       "      <td>lfulsm</td>\n",
       "      <td>https://www.reddit.com/r/wallstreetbets/commen...</td>\n",
       "      <td>174</td>\n",
       "      <td>1.612874e+09</td>\n",
       "      <td>**TLDR**; TDC is a better Snowflake worth $70 ...</td>\n",
       "      <td>ORCL</td>\n",
       "    </tr>\n",
       "    <tr>\n",
       "      <th>41293</th>\n",
       "      <td>What could be better for GME transition to onl...</td>\n",
       "      <td>3296.0</td>\n",
       "      <td>m0oxdf</td>\n",
       "      <td>https://www.reddit.com/r/wallstreetbets/commen...</td>\n",
       "      <td>194</td>\n",
       "      <td>1.615263e+09</td>\n",
       "      <td>Who buys more video games, a hedge fund or ten...</td>\n",
       "      <td>GME</td>\n",
       "    </tr>\n",
       "    <tr>\n",
       "      <th>49098</th>\n",
       "      <td>Buy the rumor sell the news...</td>\n",
       "      <td>70.0</td>\n",
       "      <td>nmhjn3</td>\n",
       "      <td>https://i.redd.it/2oh0ye679q171.jpg</td>\n",
       "      <td>27</td>\n",
       "      <td>1.622178e+09</td>\n",
       "      <td>None</td>\n",
       "      <td>None</td>\n",
       "    </tr>\n",
       "    <tr>\n",
       "      <th>24634</th>\n",
       "      <td>Losses are mounting$GME, $AMC but I might as w...</td>\n",
       "      <td>140.0</td>\n",
       "      <td>layr40</td>\n",
       "      <td>https://i.redd.it/p26msql063f61.jpg</td>\n",
       "      <td>8</td>\n",
       "      <td>1.612310e+09</td>\n",
       "      <td>None</td>\n",
       "      <td>GME</td>\n",
       "    </tr>\n",
       "    <tr>\n",
       "      <th>19224</th>\n",
       "      <td>Feel the Squeeze</td>\n",
       "      <td>117.0</td>\n",
       "      <td>l8t5sw</td>\n",
       "      <td>https://i.redd.it/ihybwj6drie61.gif</td>\n",
       "      <td>20</td>\n",
       "      <td>1.612063e+09</td>\n",
       "      <td>None</td>\n",
       "      <td>None</td>\n",
       "    </tr>\n",
       "  </tbody>\n",
       "</table>\n",
       "</div>"
      ],
      "text/plain": [
       "                                                   title  upvote_ratio  \\\n",
       "32995   My prediction for the future of Wallstreet bets.          16.0   \n",
       "31935              Damn. What a fucked up world eh guys?          31.0   \n",
       "46909     My Predictions for NIO Q1 Earnings and Results          41.0   \n",
       "47671                                      Monster Crash       53689.0   \n",
       "11993                                                 So           1.0   \n",
       "33797                        TDC - deeper DD as promised         236.0   \n",
       "41293  What could be better for GME transition to onl...        3296.0   \n",
       "49098                     Buy the rumor sell the news...          70.0   \n",
       "24634  Losses are mounting$GME, $AMC but I might as w...         140.0   \n",
       "19224                                   Feel the Squeeze         117.0   \n",
       "\n",
       "           id                                          permalink  \\\n",
       "32995  ldwcr9  https://www.reddit.com/r/wallstreetbets/commen...   \n",
       "31935  ldiwjk                https://i.redd.it/5cqbkc81iqf61.jpg   \n",
       "46909  n15j46  https://www.reddit.com/r/wallstreetbets/commen...   \n",
       "47671  n5lboc                    https://v.redd.it/shekh7yq5cx61   \n",
       "11993  l71b7v  https://www.reddit.com/r/wallstreetbets/commen...   \n",
       "33797  lfulsm  https://www.reddit.com/r/wallstreetbets/commen...   \n",
       "41293  m0oxdf  https://www.reddit.com/r/wallstreetbets/commen...   \n",
       "49098  nmhjn3                https://i.redd.it/2oh0ye679q171.jpg   \n",
       "24634  layr40                https://i.redd.it/p26msql063f61.jpg   \n",
       "19224  l8t5sw                https://i.redd.it/ihybwj6drie61.gif   \n",
       "\n",
       "       num_comments   created_utc  \\\n",
       "32995            15  1.612642e+09   \n",
       "31935            25  1.612592e+09   \n",
       "46909            40  1.619735e+09   \n",
       "47671          1156  1.620264e+09   \n",
       "11993             7  1.611880e+09   \n",
       "33797           174  1.612874e+09   \n",
       "41293           194  1.615263e+09   \n",
       "49098            27  1.622178e+09   \n",
       "24634             8  1.612310e+09   \n",
       "19224            20  1.612063e+09   \n",
       "\n",
       "                                                selftext re_ticker  \n",
       "32995  **TL;DR: the some media-companys will probably...      None  \n",
       "31935                                               None      None  \n",
       "46909  I previously posted this, with typos and other...       NIO  \n",
       "47671                                               None      None  \n",
       "11993   How much money have ya’ll lost in the last hour?      None  \n",
       "33797  **TLDR**; TDC is a better Snowflake worth $70 ...      ORCL  \n",
       "41293  Who buys more video games, a hedge fund or ten...       GME  \n",
       "49098                                               None      None  \n",
       "24634                                               None       GME  \n",
       "19224                                               None      None  "
      ]
     },
     "metadata": {},
     "output_type": "display_data"
    }
   ],
   "source": [
    "# Get five submissions from the collection\n",
    "sample_submissions = merged_collection.sample(10, random_state=42)\n",
    "display(sample_submissions)"
   ]
  },
  {
   "cell_type": "code",
   "execution_count": 61,
   "id": "15f03843",
   "metadata": {},
   "outputs": [
    {
     "name": "stdout",
     "output_type": "stream",
     "text": [
      "Ollama server started.\n"
     ]
    },
    {
     "name": "stderr",
     "output_type": "stream",
     "text": [
      "0it [00:00, ?it/s]"
     ]
    },
    {
     "name": "stdout",
     "output_type": "stream",
     "text": [
      "Post: My prediction for the future of Wallstreet bets.\n"
     ]
    },
    {
     "name": "stderr",
     "output_type": "stream",
     "text": [
      "1it [00:01,  1.84s/it]"
     ]
    },
    {
     "name": "stdout",
     "output_type": "stream",
     "text": [
      "Ticker: None\n",
      "--------------------------------------------------\n",
      "Post: Damn. What a fucked up world eh guys?\n"
     ]
    },
    {
     "name": "stderr",
     "output_type": "stream",
     "text": [
      "2it [00:02,  1.08it/s]"
     ]
    },
    {
     "name": "stdout",
     "output_type": "stream",
     "text": [
      "Ticker: None\n",
      "--------------------------------------------------\n",
      "Post: My Predictions for NIO Q1 Earnings and Results\n"
     ]
    },
    {
     "name": "stderr",
     "output_type": "stream",
     "text": [
      "3it [00:03,  1.17s/it]"
     ]
    },
    {
     "name": "stdout",
     "output_type": "stream",
     "text": [
      "Ticker: None\n",
      "--------------------------------------------------\n",
      "Post: Monster Crash\n"
     ]
    },
    {
     "name": "stderr",
     "output_type": "stream",
     "text": [
      "4it [00:03,  1.26it/s]"
     ]
    },
    {
     "name": "stdout",
     "output_type": "stream",
     "text": [
      "Ticker: None\n",
      "--------------------------------------------------\n",
      "Post: So\n"
     ]
    },
    {
     "name": "stderr",
     "output_type": "stream",
     "text": [
      "5it [00:04,  1.57it/s]"
     ]
    },
    {
     "name": "stdout",
     "output_type": "stream",
     "text": [
      "Ticker: None\n",
      "--------------------------------------------------\n",
      "Post: TDC - deeper DD as promised\n"
     ]
    },
    {
     "name": "stderr",
     "output_type": "stream",
     "text": [
      "6it [00:04,  1.45it/s]"
     ]
    },
    {
     "name": "stdout",
     "output_type": "stream",
     "text": [
      "Ticker: None\n",
      "--------------------------------------------------\n",
      "Post: What could be better for GME transition to online retailer than a massive story and the loyalty of tens of thousands of Redditors having a life changing experience with them?\n"
     ]
    },
    {
     "name": "stderr",
     "output_type": "stream",
     "text": [
      "7it [00:06,  1.12it/s]"
     ]
    },
    {
     "name": "stdout",
     "output_type": "stream",
     "text": [
      "Ticker: None\n",
      "--------------------------------------------------\n",
      "Post: Buy the rumor sell the news...\n"
     ]
    },
    {
     "name": "stderr",
     "output_type": "stream",
     "text": [
      "8it [00:06,  1.37it/s]"
     ]
    },
    {
     "name": "stdout",
     "output_type": "stream",
     "text": [
      "Ticker: None\n",
      "--------------------------------------------------\n",
      "Post: Losses are mounting$GME, $AMC but I might as well hold - if nothing else I can gift it to my son in March 💎🙏🏼🚀🚀🚀\n"
     ]
    },
    {
     "name": "stderr",
     "output_type": "stream",
     "text": [
      "9it [00:06,  1.66it/s]"
     ]
    },
    {
     "name": "stdout",
     "output_type": "stream",
     "text": [
      "Ticker: None\n",
      "--------------------------------------------------\n",
      "Post: Feel the Squeeze\n"
     ]
    },
    {
     "name": "stderr",
     "output_type": "stream",
     "text": [
      "10it [00:07,  1.39it/s]"
     ]
    },
    {
     "name": "stdout",
     "output_type": "stream",
     "text": [
      "Ticker: None\n",
      "--------------------------------------------------\n",
      "Ollama server stopped.\n",
      "Ollama server is not running.\n"
     ]
    },
    {
     "name": "stderr",
     "output_type": "stream",
     "text": [
      "\n"
     ]
    }
   ],
   "source": [
    "## Provide example usage\n",
    "# Start the Ollama server\n",
    "ollama_process, base_url = start_ollama_serve()\n",
    "\n",
    "# Display the sample submissions\n",
    "for submission in tqdm(sample_submissions.iterrows()):\n",
    "    submission = submission[1]\n",
    "    post_text = submission['title']\n",
    "    print('Post:', post_text)\n",
    "    print('Ticker:', attribute_ticker_ollama(post_text))\n",
    "    print('-' * 50)\n",
    "    \n",
    "# Stop the Ollama server\n",
    "stop_ollama_service()\n",
    "\n",
    "# Check if the server is running\n",
    "check_ollama_serve()"
   ]
  },
  {
   "cell_type": "markdown",
   "id": "a87201d6",
   "metadata": {},
   "source": [
    "## Part 5: Use the ollama attribution"
   ]
  },
  {
   "cell_type": "code",
   "execution_count": 62,
   "id": "df3e28b6",
   "metadata": {},
   "outputs": [],
   "source": [
    "# # Start the Ollama server\n",
    "# ollama_process, base_url = start_ollama_serve()\n",
    "\n",
    "# # Apply the function to the entire collection\n",
    "# tqdm.pandas()\n",
    "# merged_collection['llm_ticker'] = merged_collection.progress_apply(lambda x: attribute_ticker_ollama(f'{x['title']} {x['selftext']}'), axis=1)\n",
    "\n",
    "# # Stop the Ollama server\n",
    "# stop_ollama_service()\n",
    "\n",
    "# # Check if the server is running\n",
    "# check_ollama_serve()"
   ]
  },
  {
   "cell_type": "code",
   "execution_count": 63,
   "id": "d99a6720",
   "metadata": {},
   "outputs": [],
   "source": [
    "# # Provide some details about the ticker extraction\n",
    "# print(f\"Number of submissions with ticker: {merged_collection['llm_ticker'].notnull().sum()}\")\n",
    "# print(f\"Number of submissions without ticker: {merged_collection['llm_ticker'].isnull().sum()}\")\n",
    "# print(f\"Proportion of submissions with ticker: {merged_collection['llm_ticker'].notnull().sum() / len(merged_collection) * 100:.2f}%\")\n",
    "# print(f\"Number of unique tickers: {merged_collection['llm_ticker'].nunique()}\")\n",
    "\n",
    "# # Display the first few rows of the collection with tickers\n",
    "# display(merged_collection[['title', 'llm_ticker']].head(10))"
   ]
  }
 ],
 "metadata": {
  "kernelspec": {
   "display_name": "venv",
   "language": "python",
   "name": "python3"
  },
  "language_info": {
   "codemirror_mode": {
    "name": "ipython",
    "version": 3
   },
   "file_extension": ".py",
   "mimetype": "text/x-python",
   "name": "python",
   "nbconvert_exporter": "python",
   "pygments_lexer": "ipython3",
   "version": "3.12.3"
  }
 },
 "nbformat": 4,
 "nbformat_minor": 5
}
