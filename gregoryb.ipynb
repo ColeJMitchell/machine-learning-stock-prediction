{
 "cells": [
  {
   "cell_type": "markdown",
   "metadata": {},
   "source": [
    "## Part 1: Setup"
   ]
  },
  {
   "cell_type": "markdown",
   "metadata": {},
   "source": [
    "### Install Packages"
   ]
  },
  {
   "cell_type": "code",
   "execution_count": 2,
   "metadata": {},
   "outputs": [],
   "source": [
    "# Import Packages\n",
    "import praw\n",
    "from dotenv import load_dotenv, dotenv_values\n",
    "from requests import Session\n",
    "\n",
    "# Load environment variables from .env file\n",
    "load_dotenv('.env')\n",
    "config = dotenv_values()"
   ]
  },
  {
   "cell_type": "markdown",
   "metadata": {},
   "source": [
    "### Open Reddit Connection"
   ]
  },
  {
   "cell_type": "code",
   "execution_count": 3,
   "metadata": {},
   "outputs": [
    {
     "name": "stdout",
     "output_type": "stream",
     "text": [
      "Successfully logged in to Reddit!\n",
      "Logged in as: u/GregorybLafayetteML\n"
     ]
    }
   ],
   "source": [
    "# Create a custom session with a timeout\n",
    "session = Session()\n",
    "session.headers.update({'User-Agent': 'praw'})\n",
    "session.timeout = 10  # Set a timeout of 10 seconds\n",
    "\n",
    "# Login to Reddit using PRAW\n",
    "reddit = praw.Reddit(\n",
    "    client_id=config['CLIENT_ID'],\n",
    "    client_secret=config['CLIENT_SECRET'],\n",
    "    requestor_kwargs={\"session\": session},\n",
    "    username=config['USERNAME'],\n",
    "    password=config['PASSWORD'],\n",
    "    user_agent=\"CS470 ML Project Access by u/GregorybLafayetteML\"\n",
    ")\n",
    "\n",
    "# Test the connection\n",
    "try:\n",
    "    username = reddit.user.me()\n",
    "    print(\"Successfully logged in to Reddit!\")\n",
    "    print(f\"Logged in as: u/{username}\")\n",
    "except Exception as e:\n",
    "    print(f\"Failed to log in: {e}\")"
   ]
  },
  {
   "cell_type": "markdown",
   "metadata": {},
   "source": [
    "## Part 2: Collecting/Accessing Reddit Data"
   ]
  },
  {
   "cell_type": "markdown",
   "metadata": {},
   "source": [
    "### Initial Example of How this should be used."
   ]
  },
  {
   "cell_type": "code",
   "execution_count": 4,
   "metadata": {},
   "outputs": [
    {
     "name": "stdout",
     "output_type": "stream",
     "text": [
      "Top 10 hot posts from r/wallstreetbets:\n",
      "Title: Introducing: WSB's First Ever Paper Trading Competition, Score: 1216, Flair: Announcements , URL: https://v.redd.it/kmfu9l676fre1\n",
      "Title: Weekend Discussion Thread for the Weekend of March 28, 2025, Score: 224, Flair: Weekend Discussion, URL: https://www.reddit.com/r/wallstreetbets/comments/1jm423v/weekend_discussion_thread_for_the_weekend_of/\n",
      "Title: How do you plan on playing Liberation day?, Score: 162, Flair: Discussion, URL: https://www.reddit.com/r/wallstreetbets/comments/1jnhuzp/how_do_you_plan_on_playing_liberation_day/\n",
      "Title: Taking 2 Long or Right on Time ? 🤑🤑, Score: 100, Flair: Discussion, URL: https://i.redd.it/a12od1xzture1.jpeg\n",
      "Title: Jerome faces the ultimate boss battle… is he worthy?, Score: 4417, Flair: Discussion, URL: https://i.redd.it/z2eiyo96tore1.jpeg\n",
      "Title: If HOOD goes to $100 by the end of June, I’ll donate $5k to the autism society and take a plane to meet Vlad IRL., Score: 577, Flair: YOLO, URL: https://www.reddit.com/gallery/1jn39s8\n",
      "Title: What buying the dip feels like, Score: 9116, Flair: Meme, URL: https://v.redd.it/z6ipc38zamre1\n",
      "Title: Apple joins AI data center race, orders $1 billion in Nvidia systems, Score: 1479, Flair: News, URL: https://www.investors.com/news/technology/apple-stock-apple-joins-ai-data-center-race/\n",
      "Title: SPY 540 easy?, Score: 348, Flair: Discussion, URL: https://www.reddit.com/r/wallstreetbets/comments/1jmwc49/spy_540_easy/\n",
      "Title: It's not the stock you picked - it is the season (GOOG vs NVDA 3 months chart), Score: 830, Flair: Discussion, URL: https://i.redd.it/j9013t1m8nre1.jpeg\n",
      "Title: Bad Tax Planning Might Lead To An Even Higher Federal Deficit, Score: 181, Flair: Discussion, URL: https://www.reddit.com/r/wallstreetbets/comments/1jmwxty/bad_tax_planning_might_lead_to_an_even_higher/\n",
      "Title: How does the FED solves this problem?, Score: 1031, Flair: Discussion, URL: https://www.reddit.com/r/wallstreetbets/comments/1jmki9d/how_does_the_fed_solves_this_problem/\n",
      "Title: RIP grandma and INTC calls, Score: 206, Flair: Loss, URL: https://i.redd.it/hi4vlmleuore1.png\n",
      "Title: Musk's xAI buys social media platform X for $45 billion, Score: 7084, Flair: News, URL: https://www.reddit.com/r/wallstreetbets/comments/1jm6ey1/musks_xai_buys_social_media_platform_x_for_45/\n",
      "Title: NVDA breaking my account, Score: 92, Flair: Loss, URL: https://i.redd.it/ut0gh2zwxore1.jpeg\n",
      "Title: Trump pardons Nikola founder Trevor Milton in securities fraud case, Score: 15227, Flair: News, URL: https://www.reddit.com/r/wallstreetbets/comments/1jlzqwv/trump_pardons_nikola_founder_trevor_milton_in/\n",
      "Title: Friday fear, Score: 211, Flair: Gain, URL: https://i.redd.it/mqh7mfwqymre1.jpeg\n",
      "Title: Why are SMCI and DELL always chosen together for AI infrastructure? What’s the deal?, Score: 44, Flair: Discussion, URL: https://www.reddit.com/r/wallstreetbets/comments/1jmx1cb/why_are_smci_and_dell_always_chosen_together_for/\n",
      "Title: 5 seconds after I press the sell button, Score: 41465, Flair: Meme, URL: https://i.redd.it/yl71zrl9vere1.jpeg\n",
      "Title: Account blew up, Score: 221, Flair: Loss, URL: https://www.reddit.com/gallery/1jmi0ni\n",
      "Title: Banks supervised by the US Federal Deposit Insurance Corp. no longer need prior approval to engage in crypto-related activities, Score: 1643, Flair: Discussion, URL: https://www.reddit.com/r/wallstreetbets/comments/1jm6d0s/banks_supervised_by_the_us_federal_deposit/\n",
      "Title: I went from $800–>$100,000 in 3 months. Starting over again with $500.  First profit locked today., Score: 3722, Flair: Gain, URL: https://www.reddit.com/gallery/1jm0538\n",
      "Title: Lifetime losses, Score: 5403, Flair: Loss, URL: https://i.redd.it/50tdtfaj5gre1.jpeg\n",
      "Title: Account Blew Up In One Day, Score: 331, Flair: Loss, URL: https://www.reddit.com/gallery/1jmff4z\n",
      "Title: GOOGLE  is criminally undervalued🚀 🚀 🚀, Score: 1881, Flair: YOLO, URL: https://i.redd.it/k4r0ghcddhre1.jpeg\n",
      "Title: 299 to 5k. Baby gains but fuck NVDA, Score: 605, Flair: Gain, URL: https://i.redd.it/53322ci02jre1.jpeg\n",
      "Title: Pretty Good Friday, Score: 181, Flair: Gain, URL: https://i.redd.it/uzt1fegy3kre1.jpeg\n",
      "Title: Latest GDPNow forecast from the ATL Fed has the economy shrinking by 2.8% - down from -1.8% on Wednesday, Score: 1099, Flair: News, URL: https://www.atlantafed.org/cqer/research/gdpnow\n",
      "Title: 2k to 34k -> $MSTR 0dte Puts, Score: 614, Flair: Gain, URL: https://i.redd.it/vzvrnmziihre1.jpeg\n",
      "Title: Oracle to build cluster of 30,000 AMD MI355X GPUs, Score: 155, Flair: News, URL: https://www.datacenterdynamics.com/en/news/oracle-to-build-cluster-of-30000-amd-mi355x-gpus/\n",
      "Title: Lockheed Martin awarded nearly 5 billion from US Army for Precision Strike Missiles Increment One, Score: 302, Flair: News, URL: https://www.reddit.com/r/wallstreetbets/comments/1jm63n8/lockheed_martin_awarded_nearly_5_billion_from_us/\n",
      "Title: I’m not fucking leaving, Score: 513, Flair: Loss, URL: https://www.reddit.com/gallery/1jm1qtl\n",
      "Title: Safe ITM options went wrong, thanks 🥭, Score: 1275, Flair: Loss, URL: https://i.redd.it/c8rpx2qkmfre1.jpeg\n",
      "Title: Time to rile up some TSLA simps for the weekend, Score: 277, Flair: YOLO, URL: https://i.redd.it/6q9vr03o0ire1.jpeg\n",
      "Title: Hell Yeah!, Score: 4237, Flair: Meme, URL: https://i.redd.it/8v13vtcy0dre1.jpeg\n",
      "Title: I’m not fucking leaving, Score: 144, Flair: Loss, URL: https://i.redd.it/3oednr00uhre1.jpeg\n",
      "Title: EU looks to hit Big Tech in crackdown on US services exports, Score: 1879, Flair: News, URL: https://www.reddit.com/r/wallstreetbets/comments/1jlp3x8/eu_looks_to_hit_big_tech_in_crackdown_on_us/\n",
      "Title: Nvidia is partnering with Taco Bell’s parent company to leverage AI, Score: 449, Flair: News, URL: https://fortune.com/2025/03/19/nvidia-yum-brands-taco-bell-fast-food-ai-drive-thru-partnership/\n",
      "Title: I may not be regarded, Score: 120, Flair: Gain, URL: https://www.reddit.com/gallery/1jm4n08\n",
      "Title: This is the bottom $10k weekly SPY calls, Score: 186, Flair: YOLO, URL: https://i.redd.it/ykx17s746gre1.png\n",
      "Title: Good day to to be a regarded degenerate bear, Score: 176, Flair: YOLO, URL: https://i.redd.it/uj0ahxua4gre1.jpeg\n",
      "Title: I believe that Coreweave is already underwater, and their IPO is an exit strategy for existing shareholders:, Score: 1239, Flair: Discussion, URL: https://www.reddit.com/r/wallstreetbets/comments/1jllrah/i_believe_that_coreweave_is_already_underwater/\n",
      "Title: I borrowed $4.2M to invest. Should I borrow more?, Score: 3034, Flair: YOLO, URL: https://www.reddit.com/r/wallstreetbets/comments/1jleu1l/i_borrowed_42m_to_invest_should_i_borrow_more/\n",
      "Title: Hard Work and Patience Pays Off, Score: 26, Flair: Gain, URL: https://i.redd.it/pfypuslmgire1.jpeg\n",
      "Title: Closed all Shorts, only Lulu 290 CALL for Next week, Score: 44, Flair: Gain, URL: https://www.reddit.com/gallery/1jm3rkp\n",
      "Title: YOLO: 100k on TQQQ 63 puts 3/28. I will cure autism., Score: 148, Flair: YOLO, URL: https://i.redd.it/sfqahodmifre1.jpeg\n",
      "Title: Daily Discussion Thread for March 28, 2025, Score: 249, Flair: Daily Discussion, URL: https://www.reddit.com/r/wallstreetbets/comments/1jlrice/daily_discussion_thread_for_march_28_2025/\n",
      "Title: Netflix, Meta, Google Danger from reciprocal taxes from the EU?, Score: 295, Flair: Discussion, URL: https://www.reddit.com/r/wallstreetbets/comments/1jlqees/netflix_meta_google_danger_from_reciprocal_taxes/\n",
      "Title: Nearly Blew-Up my Account and then Revived it with QQQ Puts., Score: 91, Flair: Gain, URL: https://www.reddit.com/gallery/1jlwrgs\n",
      "Title: How can I make it everyday?, Score: 36, Flair: Gain, URL: https://www.reddit.com/r/wallstreetbets/comments/1jm1cm1/how_can_i_make_it_everyday/\n",
      "Title: TSLA Puts + SP500 Fut Short, Score: 63, Flair: Gain, URL: https://www.reddit.com/gallery/1jlvz57\n",
      "Title: Weekly Earnings Thread 3/31 - 4/4, Score: 62, Flair: Earnings Thread, URL: https://i.redd.it/tjvgxuyo0gre1.jpeg\n",
      "Title: Why isn’t everyone shorting the market with this trade war heating up?, Score: 2006, Flair: Discussion, URL: https://www.reddit.com/r/wallstreetbets/comments/1jlak5r/why_isnt_everyone_shorting_the_market_with_this/\n",
      "Title: 12000 —> 100k?, Score: 40, Flair: YOLO, URL: https://i.redd.it/1tdqkv7gufre1.jpeg\n",
      "Title: All in. Fuck risk management., Score: 72, Flair: YOLO, URL: https://i.redd.it/jstgly52yere1.png\n",
      "Title: Next growth market eVtol flying cars, Score: 0, Flair: Discussion, URL: https://www.reddit.com/r/wallstreetbets/comments/1jn10ti/next_growth_market_evtol_flying_cars/\n",
      "Title: Barclays switches preference to global fixed income over equities on tariff risks, Score: 126, Flair: News, URL: https://www.reuters.com/business/finance/barclays-switches-preference-global-fixed-income-over-equities-tariff-risks-2025-03-27/\n",
      "Title: 99% of my Roth IRA in NVO. Piece of junk 👍🏽, Score: 31, Flair: Loss, URL: https://i.redd.it/0y28w9g4vfre1.jpeg\n",
      "Title: If something like 2008 repeats itself, what do i buy to not get f****ed and maybe even profit off of it?, Score: 5895, Flair: Discussion, URL: https://www.reddit.com/r/wallstreetbets/comments/1jkzwz2/if_something_like_2008_repeats_itself_what_do_i/\n",
      "Title: Quantum Computing Inc - All Aboard the Shit COaster!, Score: 39, Flair: DD, URL: https://www.reddit.com/r/wallstreetbets/comments/1jlsxw4/quantum_computing_inc_all_aboard_the_shit_coaster/\n",
      "Title: Rocket Lab (RKLB) and Stoke Space secure $5.6 billion NSS contract, Score: 473, Flair: News, URL: https://www.streetinsider.com/Corporate+News/Rocket+Lab+%28RKLB%29+and+Stoke+Space+secure+%245.6+billion+NSS+contract%3B+shares+gain/24561144.html\n",
      "Title: Am I cooked?, Score: 292, Flair: YOLO, URL: https://i.redd.it/m9yg8aktobre1.jpeg\n",
      "Title: 21k ndx put gains in 15ish minutes, Score: 19, Flair: Gain, URL: https://i.redd.it/mzb4mqp7wfre1.png\n",
      "Title: Mineral production discussion, Score: 16, Flair: Discussion, URL: https://i.redd.it/h23t5gtk5gre1.jpeg\n",
      "Title: QQQ puts, Score: 20, Flair: Gain, URL: https://i.redd.it/6hgey0tjwfre1.png\n",
      "Title: AAL - 10.80 is the tendies-printing line, Score: 13, Flair: YOLO, URL: https://www.reddit.com/r/wallstreetbets/comments/1jlx38g/aal_1080_is_the_tendiesprinting_line/\n",
      "Title: What Are Your Moves Tomorrow, March 28, 2025, Score: 223, Flair: Daily Discussion, URL: https://www.reddit.com/r/wallstreetbets/comments/1jlc4t6/what_are_your_moves_tomorrow_march_28_2025/\n",
      "Title: Trump announces 25% tariffs on all foreign-made vehicles, Score: 25868, Flair: News, URL: https://finance.yahoo.com/news/trump-announces-25-tariffs-on-all-foreign-made-vehicles-213256123.html\n",
      "Title: Muddy waters releases report exposing potential APP lovin fraud, deplatforming risks - stock down 15%, Score: 217, Flair: News, URL: https://muddywatersresearch.com/research/2025/mw-short-app/\n",
      "Title: There's still a chance right？, Score: 548, Flair: Loss, URL: https://i.redd.it/v887ku8k88re1.jpeg\n",
      "Title: Will ASML benefit from the semiconductor tariffs?, Score: 12, Flair: Discussion, URL: https://www.reddit.com/r/wallstreetbets/comments/1jlri83/will_asml_benefit_from_the_semiconductor_tariffs/\n",
      "Title: I suck at gambling., Score: 195, Flair: Loss, URL: https://i.redd.it/8bnxdqoim9re1.png\n",
      "Title: 25% Tarrifs on  Auto Imports . April 2nd could be brutal 🐻🐻🚧🤡, Score: 3402, Flair: Discussion, URL: https://i.redd.it/f8z7faq1m4re1.jpeg\n",
      "Title: TSLA Puts + SP500 Fut short, Score: 113, Flair: Gain, URL: https://www.reddit.com/gallery/1jl8q3f\n",
      "Title: Daily Discussion Thread for March 27, 2025, Score: 247, Flair: Daily Discussion, URL: https://www.reddit.com/r/wallstreetbets/comments/1jl0cer/daily_discussion_thread_for_march_27_2025/\n",
      "Title: Not The Onion : Trump Says He Could Cut China Tariffs to Secure TikTok Deal $ORCL, Score: 1399, Flair: News, URL: https://www.bloomberg.com/news/articles/2025-03-26/trump-says-he-could-cut-china-tariffs-to-secure-tiktok-deal\n",
      "Title: Im glad for trailing stops TSLA Gains, Score: 42, Flair: Gain, URL: https://www.reddit.com/gallery/1jladhp\n",
      "Title: STLA on US tariffs, Score: 54, Flair: Discussion, URL: https://www.reddit.com/r/wallstreetbets/comments/1jl6nrr/stla_on_us_tariffs/\n",
      "Title: AMD screwed me, Score: 122, Flair: Loss, URL: https://i.redd.it/dqo3jmuah7re1.jpeg\n",
      "Title: I stoped Btiching, Score: 1559, Flair: Gain, URL: https://i.redd.it/zi7zm7zbt2re1.jpeg\n",
      "Title: $100k of TSLA puts, April 23rd can’t come soon enough, Score: 1188, Flair: YOLO, URL: https://i.redd.it/s82w6kzd53re1.png\n",
      "Title: Softbank-Led Funding Close to Finalizing Its $40 Billion Investment in OpenAI, Valuing It At $300 Billion, Score: 431, Flair: News, URL: https://www.bloomberg.com/news/articles/2025-03-26/openai-close-to-finalizing-its-40-billion-softbank-led-funding\n",
      "Title: Box Spreads, Score: 34, Flair: Discussion, URL: https://i.redd.it/9gul6191a8re1.jpeg\n",
      "Title: Down on every trade, Score: 264, Flair: Loss, URL: https://i.redd.it/xy3w6dryg4re1.jpeg\n",
      "Title: Long story, short banks, Score: 144, Flair: DD, URL: https://i.redd.it/wvear45u65re1.png\n",
      "Title: Palantir back to $50, All in with margin, Score: 871, Flair: DD, URL: https://www.reddit.com/gallery/1jkfptm\n",
      "Title: SPX DD: (Almost) Every Time SPX Hits Correction After ATH, It Comes Back Down Again, Score: 134, Flair: DD, URL: https://www.reddit.com/r/wallstreetbets/comments/1jksh12/spx_dd_almost_every_time_spx_hits_correction/\n",
      "Title: $NVDA Nvidia getting ensnared in the U.S.-China trade dispute is a negative development,” said Gil Luria, a D.A. Davidson analyst, Score: 177, Flair: Discussion, URL: https://www.reddit.com/r/wallstreetbets/comments/1jkq6eg/nvda_nvidia_getting_ensnared_in_the_uschina_trade/\n",
      "Title: What Are Your Moves Tomorrow, March 27, 2025, Score: 346, Flair: Daily Discussion, URL: https://www.reddit.com/r/wallstreetbets/comments/1jkl16p/what_are_your_moves_tomorrow_march_27_2025/\n",
      "Title: Thinking about a different kind of “pet insurance” - investing in Trupanion (TRUP) instead of buying a policy. Curious for feedback., Score: 0, Flair: Discussion, URL: https://www.reddit.com/r/wallstreetbets/comments/1jluq74/thinking_about_a_different_kind_of_pet_insurance/\n",
      "Title: Canada freezes Tesla rebate payments, excludes company from future programs, Score: 5992, Flair: News, URL: https://ca.news.yahoo.com/canada-freezes-tesla-rebate-payments-231257713.html\n",
      "Title: I just like gaming and headphones, Score: 913, Flair: YOLO, URL: https://i.redd.it/wy9o1l7821re1.jpeg\n",
      "Title: PCE in line with expectation-ish, Score: 0, Flair: News, URL: https://www.bea.gov/news/2025/personal-income-and-outlays-february-2025\n",
      "Title: Husband secretly YOLO-ed our savings into stocks… am I the crazy one?, Score: 0, Flair: Discussion, URL: https://www.reddit.com/r/wallstreetbets/comments/1jls977/husband_secretly_yoloed_our_savings_into_stocks/\n",
      "Title: \"Only 19, i'm just getting started but I gotta admit I'm still learning the game 🙏\", Score: 9755, Flair: Meme, URL: https://i.redd.it/7cjigvuxyvqe1.jpeg\n",
      "Title: $VTS Vitesse Energy my exotic plan to a 10 baggers (maybe), Score: 31, Flair: DD, URL: https://www.reddit.com/gallery/1jkryfy\n",
      "Title: All in on Hood, Score: 78, Flair: YOLO, URL: https://i.redd.it/jd84287ty2re1.jpeg\n",
      "Title: If you guys wanna make money just inverse me, Score: 900, Flair: Loss, URL: https://i.redd.it/ogj591j32zqe1.jpeg\n",
      "Title: Stop buying $TSLA puts, Score: 4225, Flair: Discussion, URL: https://i.redd.it/d2yx7b01awqe1.png\n",
      "Title: Daily Discussion Thread for March 26, 2025, Score: 262, Flair: Daily Discussion, URL: https://www.reddit.com/r/wallstreetbets/comments/1jk85jg/daily_discussion_thread_for_march_26_2025/\n"
     ]
    }
   ],
   "source": [
    "# Get the subreddit object for r/wallstreetbets\n",
    "subreddit = reddit.subreddit('wallstreetbets')\n",
    "\n",
    "# Get the top 10 hot posts from the subreddit\n",
    "top_posts = subreddit.hot(limit=100)\n",
    "print(\"Top 10 hot posts from r/wallstreetbets:\")\n",
    "for post in top_posts:\n",
    "    print(f\"Title: {post.title}, Score: {post.score}, Flair: {post.link_flair_text}, URL: {post.url}\")"
   ]
  }
 ],
 "metadata": {
  "kernelspec": {
   "display_name": "Python 3",
   "language": "python",
   "name": "python3"
  },
  "language_info": {
   "codemirror_mode": {
    "name": "ipython",
    "version": 3
   },
   "file_extension": ".py",
   "mimetype": "text/x-python",
   "name": "python",
   "nbconvert_exporter": "python",
   "pygments_lexer": "ipython3",
   "version": "3.11.5"
  }
 },
 "nbformat": 4,
 "nbformat_minor": 2
}
