{
  "nbformat": 4,
  "nbformat_minor": 0,
  "metadata": {
    "colab": {
      "provenance": [],
      "authorship_tag": "ABX9TyMOJjD/omQkm3zipk9AiEjK",
      "include_colab_link": true
    },
    "kernelspec": {
      "name": "python3",
      "display_name": "Python 3"
    },
    "language_info": {
      "name": "python"
    }
  },
  "cells": [
    {
      "cell_type": "markdown",
      "metadata": {
        "id": "view-in-github",
        "colab_type": "text"
      },
      "source": [
        "<a href=\"https://colab.research.google.com/github/ColeJMitchell/machine-learning-stock-prediction/blob/main/model_notebooks/model_evaluation.ipynb\" target=\"_parent\"><img src=\"https://colab.research.google.com/assets/colab-badge.svg\" alt=\"Open In Colab\"/></a>"
      ]
    },
    {
      "cell_type": "code",
      "source": [
        "import numpy as np\n",
        "import pandas as pd\n",
        "import yfinance as yf\n",
        "import matplotlib.pyplot as plt\n",
        "import seaborn as sns\n",
        "import datetime, time\n",
        "from termcolor import colored\n",
        "from IPython.display import clear_output\n",
        "!pip install tensorflow\n",
        "!git clone https://github.com/ColeJMitchell/machine-learning-stock-prediction\n",
        "from tensorflow.keras.models import load_model\n",
        "from sklearn.preprocessing import MinMaxScaler\n",
        "import random\n",
        "clear_output()"
      ],
      "metadata": {
        "id": "ZAlqMY-P_V-H"
      },
      "execution_count": 450,
      "outputs": []
    },
    {
      "cell_type": "markdown",
      "source": [
        "# **Loading The Data**"
      ],
      "metadata": {
        "id": "ThtLWHG9_v20"
      }
    },
    {
      "cell_type": "code",
      "source": [
        "test_stocks = ['AAPL', 'NVDA', 'MSTR', 'MP', 'PG', 'GLD', 'TSLA', 'AMC', 'META', 'HIMS']\n",
        "closing_prices = {}\n",
        "start_date = end_date - datetime.timedelta(days=210)\n",
        "end_date = datetime.datetime.today()\n",
        "for ticker in test_stocks:\n",
        "    data = yf.download(ticker, start=start_date, end=end_date)\n",
        "    closing_prices[ticker] = data[\"Close\"].values.squeeze()"
      ],
      "metadata": {
        "id": "EhD9aEgyAHD1",
        "outputId": "beaa3af3-3e29-456c-b6d8-5ac0030ab8f9",
        "colab": {
          "base_uri": "https://localhost:8080/"
        }
      },
      "execution_count": 451,
      "outputs": [
        {
          "output_type": "stream",
          "name": "stderr",
          "text": [
            "[*********************100%***********************]  1 of 1 completed\n",
            "[*********************100%***********************]  1 of 1 completed\n",
            "[*********************100%***********************]  1 of 1 completed\n",
            "[*********************100%***********************]  1 of 1 completed\n",
            "[*********************100%***********************]  1 of 1 completed\n",
            "[*********************100%***********************]  1 of 1 completed\n",
            "[*********************100%***********************]  1 of 1 completed\n",
            "[*********************100%***********************]  1 of 1 completed\n",
            "[*********************100%***********************]  1 of 1 completed\n",
            "[*********************100%***********************]  1 of 1 completed\n"
          ]
        }
      ]
    },
    {
      "cell_type": "markdown",
      "source": [
        "# **Paper Trading Method 1 : Using The LSTM Model**"
      ],
      "metadata": {
        "id": "RaKjYZ50_qj6"
      }
    },
    {
      "cell_type": "code",
      "execution_count": 452,
      "metadata": {
        "colab": {
          "base_uri": "https://localhost:8080/",
          "height": 534
        },
        "id": "YMqUq-mh-czP",
        "outputId": "121940ad-1980-4e0d-f47f-a8ccc947328d"
      },
      "outputs": [
        {
          "output_type": "display_data",
          "data": {
            "text/plain": [
              "\u001b[1mModel: \"sequential\"\u001b[0m\n"
            ],
            "text/html": [
              "<pre style=\"white-space:pre;overflow-x:auto;line-height:normal;font-family:Menlo,'DejaVu Sans Mono',consolas,'Courier New',monospace\"><span style=\"font-weight: bold\">Model: \"sequential\"</span>\n",
              "</pre>\n"
            ]
          },
          "metadata": {}
        },
        {
          "output_type": "display_data",
          "data": {
            "text/plain": [
              "┏━━━━━━━━━━━━━━━━━━━━━━━━━━━━━━━━━┳━━━━━━━━━━━━━━━━━━━━━━━━┳━━━━━━━━━━━━━━━┓\n",
              "┃\u001b[1m \u001b[0m\u001b[1mLayer (type)                   \u001b[0m\u001b[1m \u001b[0m┃\u001b[1m \u001b[0m\u001b[1mOutput Shape          \u001b[0m\u001b[1m \u001b[0m┃\u001b[1m \u001b[0m\u001b[1m      Param #\u001b[0m\u001b[1m \u001b[0m┃\n",
              "┡━━━━━━━━━━━━━━━━━━━━━━━━━━━━━━━━━╇━━━━━━━━━━━━━━━━━━━━━━━━╇━━━━━━━━━━━━━━━┩\n",
              "│ lstm (\u001b[38;5;33mLSTM\u001b[0m)                     │ (\u001b[38;5;45mNone\u001b[0m, \u001b[38;5;34m30\u001b[0m, \u001b[38;5;34m64\u001b[0m)         │        \u001b[38;5;34m16,896\u001b[0m │\n",
              "├─────────────────────────────────┼────────────────────────┼───────────────┤\n",
              "│ batch_normalization             │ (\u001b[38;5;45mNone\u001b[0m, \u001b[38;5;34m30\u001b[0m, \u001b[38;5;34m64\u001b[0m)         │           \u001b[38;5;34m256\u001b[0m │\n",
              "│ (\u001b[38;5;33mBatchNormalization\u001b[0m)            │                        │               │\n",
              "├─────────────────────────────────┼────────────────────────┼───────────────┤\n",
              "│ activation (\u001b[38;5;33mActivation\u001b[0m)         │ (\u001b[38;5;45mNone\u001b[0m, \u001b[38;5;34m30\u001b[0m, \u001b[38;5;34m64\u001b[0m)         │             \u001b[38;5;34m0\u001b[0m │\n",
              "├─────────────────────────────────┼────────────────────────┼───────────────┤\n",
              "│ lstm_1 (\u001b[38;5;33mLSTM\u001b[0m)                   │ (\u001b[38;5;45mNone\u001b[0m, \u001b[38;5;34m32\u001b[0m)             │        \u001b[38;5;34m12,416\u001b[0m │\n",
              "├─────────────────────────────────┼────────────────────────┼───────────────┤\n",
              "│ batch_normalization_1           │ (\u001b[38;5;45mNone\u001b[0m, \u001b[38;5;34m32\u001b[0m)             │           \u001b[38;5;34m128\u001b[0m │\n",
              "│ (\u001b[38;5;33mBatchNormalization\u001b[0m)            │                        │               │\n",
              "├─────────────────────────────────┼────────────────────────┼───────────────┤\n",
              "│ activation_1 (\u001b[38;5;33mActivation\u001b[0m)       │ (\u001b[38;5;45mNone\u001b[0m, \u001b[38;5;34m32\u001b[0m)             │             \u001b[38;5;34m0\u001b[0m │\n",
              "├─────────────────────────────────┼────────────────────────┼───────────────┤\n",
              "│ dense (\u001b[38;5;33mDense\u001b[0m)                   │ (\u001b[38;5;45mNone\u001b[0m, \u001b[38;5;34m16\u001b[0m)             │           \u001b[38;5;34m528\u001b[0m │\n",
              "├─────────────────────────────────┼────────────────────────┼───────────────┤\n",
              "│ dropout (\u001b[38;5;33mDropout\u001b[0m)               │ (\u001b[38;5;45mNone\u001b[0m, \u001b[38;5;34m16\u001b[0m)             │             \u001b[38;5;34m0\u001b[0m │\n",
              "├─────────────────────────────────┼────────────────────────┼───────────────┤\n",
              "│ dense_1 (\u001b[38;5;33mDense\u001b[0m)                 │ (\u001b[38;5;45mNone\u001b[0m, \u001b[38;5;34m16\u001b[0m)             │           \u001b[38;5;34m272\u001b[0m │\n",
              "├─────────────────────────────────┼────────────────────────┼───────────────┤\n",
              "│ dropout_1 (\u001b[38;5;33mDropout\u001b[0m)             │ (\u001b[38;5;45mNone\u001b[0m, \u001b[38;5;34m16\u001b[0m)             │             \u001b[38;5;34m0\u001b[0m │\n",
              "├─────────────────────────────────┼────────────────────────┼───────────────┤\n",
              "│ dense_2 (\u001b[38;5;33mDense\u001b[0m)                 │ (\u001b[38;5;45mNone\u001b[0m, \u001b[38;5;34m1\u001b[0m)              │            \u001b[38;5;34m17\u001b[0m │\n",
              "└─────────────────────────────────┴────────────────────────┴───────────────┘\n"
            ],
            "text/html": [
              "<pre style=\"white-space:pre;overflow-x:auto;line-height:normal;font-family:Menlo,'DejaVu Sans Mono',consolas,'Courier New',monospace\">┏━━━━━━━━━━━━━━━━━━━━━━━━━━━━━━━━━┳━━━━━━━━━━━━━━━━━━━━━━━━┳━━━━━━━━━━━━━━━┓\n",
              "┃<span style=\"font-weight: bold\"> Layer (type)                    </span>┃<span style=\"font-weight: bold\"> Output Shape           </span>┃<span style=\"font-weight: bold\">       Param # </span>┃\n",
              "┡━━━━━━━━━━━━━━━━━━━━━━━━━━━━━━━━━╇━━━━━━━━━━━━━━━━━━━━━━━━╇━━━━━━━━━━━━━━━┩\n",
              "│ lstm (<span style=\"color: #0087ff; text-decoration-color: #0087ff\">LSTM</span>)                     │ (<span style=\"color: #00d7ff; text-decoration-color: #00d7ff\">None</span>, <span style=\"color: #00af00; text-decoration-color: #00af00\">30</span>, <span style=\"color: #00af00; text-decoration-color: #00af00\">64</span>)         │        <span style=\"color: #00af00; text-decoration-color: #00af00\">16,896</span> │\n",
              "├─────────────────────────────────┼────────────────────────┼───────────────┤\n",
              "│ batch_normalization             │ (<span style=\"color: #00d7ff; text-decoration-color: #00d7ff\">None</span>, <span style=\"color: #00af00; text-decoration-color: #00af00\">30</span>, <span style=\"color: #00af00; text-decoration-color: #00af00\">64</span>)         │           <span style=\"color: #00af00; text-decoration-color: #00af00\">256</span> │\n",
              "│ (<span style=\"color: #0087ff; text-decoration-color: #0087ff\">BatchNormalization</span>)            │                        │               │\n",
              "├─────────────────────────────────┼────────────────────────┼───────────────┤\n",
              "│ activation (<span style=\"color: #0087ff; text-decoration-color: #0087ff\">Activation</span>)         │ (<span style=\"color: #00d7ff; text-decoration-color: #00d7ff\">None</span>, <span style=\"color: #00af00; text-decoration-color: #00af00\">30</span>, <span style=\"color: #00af00; text-decoration-color: #00af00\">64</span>)         │             <span style=\"color: #00af00; text-decoration-color: #00af00\">0</span> │\n",
              "├─────────────────────────────────┼────────────────────────┼───────────────┤\n",
              "│ lstm_1 (<span style=\"color: #0087ff; text-decoration-color: #0087ff\">LSTM</span>)                   │ (<span style=\"color: #00d7ff; text-decoration-color: #00d7ff\">None</span>, <span style=\"color: #00af00; text-decoration-color: #00af00\">32</span>)             │        <span style=\"color: #00af00; text-decoration-color: #00af00\">12,416</span> │\n",
              "├─────────────────────────────────┼────────────────────────┼───────────────┤\n",
              "│ batch_normalization_1           │ (<span style=\"color: #00d7ff; text-decoration-color: #00d7ff\">None</span>, <span style=\"color: #00af00; text-decoration-color: #00af00\">32</span>)             │           <span style=\"color: #00af00; text-decoration-color: #00af00\">128</span> │\n",
              "│ (<span style=\"color: #0087ff; text-decoration-color: #0087ff\">BatchNormalization</span>)            │                        │               │\n",
              "├─────────────────────────────────┼────────────────────────┼───────────────┤\n",
              "│ activation_1 (<span style=\"color: #0087ff; text-decoration-color: #0087ff\">Activation</span>)       │ (<span style=\"color: #00d7ff; text-decoration-color: #00d7ff\">None</span>, <span style=\"color: #00af00; text-decoration-color: #00af00\">32</span>)             │             <span style=\"color: #00af00; text-decoration-color: #00af00\">0</span> │\n",
              "├─────────────────────────────────┼────────────────────────┼───────────────┤\n",
              "│ dense (<span style=\"color: #0087ff; text-decoration-color: #0087ff\">Dense</span>)                   │ (<span style=\"color: #00d7ff; text-decoration-color: #00d7ff\">None</span>, <span style=\"color: #00af00; text-decoration-color: #00af00\">16</span>)             │           <span style=\"color: #00af00; text-decoration-color: #00af00\">528</span> │\n",
              "├─────────────────────────────────┼────────────────────────┼───────────────┤\n",
              "│ dropout (<span style=\"color: #0087ff; text-decoration-color: #0087ff\">Dropout</span>)               │ (<span style=\"color: #00d7ff; text-decoration-color: #00d7ff\">None</span>, <span style=\"color: #00af00; text-decoration-color: #00af00\">16</span>)             │             <span style=\"color: #00af00; text-decoration-color: #00af00\">0</span> │\n",
              "├─────────────────────────────────┼────────────────────────┼───────────────┤\n",
              "│ dense_1 (<span style=\"color: #0087ff; text-decoration-color: #0087ff\">Dense</span>)                 │ (<span style=\"color: #00d7ff; text-decoration-color: #00d7ff\">None</span>, <span style=\"color: #00af00; text-decoration-color: #00af00\">16</span>)             │           <span style=\"color: #00af00; text-decoration-color: #00af00\">272</span> │\n",
              "├─────────────────────────────────┼────────────────────────┼───────────────┤\n",
              "│ dropout_1 (<span style=\"color: #0087ff; text-decoration-color: #0087ff\">Dropout</span>)             │ (<span style=\"color: #00d7ff; text-decoration-color: #00d7ff\">None</span>, <span style=\"color: #00af00; text-decoration-color: #00af00\">16</span>)             │             <span style=\"color: #00af00; text-decoration-color: #00af00\">0</span> │\n",
              "├─────────────────────────────────┼────────────────────────┼───────────────┤\n",
              "│ dense_2 (<span style=\"color: #0087ff; text-decoration-color: #0087ff\">Dense</span>)                 │ (<span style=\"color: #00d7ff; text-decoration-color: #00d7ff\">None</span>, <span style=\"color: #00af00; text-decoration-color: #00af00\">1</span>)              │            <span style=\"color: #00af00; text-decoration-color: #00af00\">17</span> │\n",
              "└─────────────────────────────────┴────────────────────────┴───────────────┘\n",
              "</pre>\n"
            ]
          },
          "metadata": {}
        },
        {
          "output_type": "display_data",
          "data": {
            "text/plain": [
              "\u001b[1m Total params: \u001b[0m\u001b[38;5;34m30,513\u001b[0m (119.19 KB)\n"
            ],
            "text/html": [
              "<pre style=\"white-space:pre;overflow-x:auto;line-height:normal;font-family:Menlo,'DejaVu Sans Mono',consolas,'Courier New',monospace\"><span style=\"font-weight: bold\"> Total params: </span><span style=\"color: #00af00; text-decoration-color: #00af00\">30,513</span> (119.19 KB)\n",
              "</pre>\n"
            ]
          },
          "metadata": {}
        },
        {
          "output_type": "display_data",
          "data": {
            "text/plain": [
              "\u001b[1m Trainable params: \u001b[0m\u001b[38;5;34m30,321\u001b[0m (118.44 KB)\n"
            ],
            "text/html": [
              "<pre style=\"white-space:pre;overflow-x:auto;line-height:normal;font-family:Menlo,'DejaVu Sans Mono',consolas,'Courier New',monospace\"><span style=\"font-weight: bold\"> Trainable params: </span><span style=\"color: #00af00; text-decoration-color: #00af00\">30,321</span> (118.44 KB)\n",
              "</pre>\n"
            ]
          },
          "metadata": {}
        },
        {
          "output_type": "display_data",
          "data": {
            "text/plain": [
              "\u001b[1m Non-trainable params: \u001b[0m\u001b[38;5;34m192\u001b[0m (768.00 B)\n"
            ],
            "text/html": [
              "<pre style=\"white-space:pre;overflow-x:auto;line-height:normal;font-family:Menlo,'DejaVu Sans Mono',consolas,'Courier New',monospace\"><span style=\"font-weight: bold\"> Non-trainable params: </span><span style=\"color: #00af00; text-decoration-color: #00af00\">192</span> (768.00 B)\n",
              "</pre>\n"
            ]
          },
          "metadata": {}
        }
      ],
      "source": [
        "#Load the LSTM model and simulate it by paper trading\n",
        "model = load_model(\"machine-learning-stock-prediction/saved_models/stock_prediction.h5\", compile = False)\n",
        "model.summary()"
      ]
    },
    {
      "cell_type": "code",
      "source": [
        "# Number of closing price values for each stock ticker\n",
        "print(f\"Number of Closing Price Data Points: {len(closing_prices['AAPL'])}\")"
      ],
      "metadata": {
        "colab": {
          "base_uri": "https://localhost:8080/"
        },
        "id": "e-j5A4Z2_ZHZ",
        "outputId": "027107ef-4760-4429-dadd-a27e11765f47"
      },
      "execution_count": 453,
      "outputs": [
        {
          "output_type": "stream",
          "name": "stdout",
          "text": [
            "Number of Closing Price Data Points: 144\n"
          ]
        }
      ]
    },
    {
      "cell_type": "markdown",
      "source": [
        "## Preprocessing The Data With Sliding Windows To Match Shape Required By The LSTM"
      ],
      "metadata": {
        "id": "JRiTIDUnAc0Q"
      }
    },
    {
      "cell_type": "code",
      "source": [
        "window_size = 30\n",
        "closing_price_windows = {}\n",
        "# Stocks need to remain separate for the paper trading\n",
        "for ticker in test_stocks:\n",
        "    closing_price_windows[ticker] = []\n",
        "    for i in range(0, 144 - window_size + 1, window_size):\n",
        "        window = closing_prices[ticker][i:i + window_size]\n",
        "        closing_price_windows[ticker].append(np.array(window))\n",
        "\n",
        "print(f\"Shape of Closing Price Sliding Windows: {np.array(closing_price_windows[test_stocks[0]]).shape}\")"
      ],
      "metadata": {
        "colab": {
          "base_uri": "https://localhost:8080/"
        },
        "id": "suHx_yLpAqg-",
        "outputId": "31318749-2c2c-4731-9534-77a50189b70c"
      },
      "execution_count": 454,
      "outputs": [
        {
          "output_type": "stream",
          "name": "stdout",
          "text": [
            "Shape of Closing Price Sliding Windows: (4, 30)\n"
          ]
        }
      ]
    },
    {
      "cell_type": "markdown",
      "source": [
        "## Trading Algorithm Using The LSTM's Predictions"
      ],
      "metadata": {
        "id": "vT_URB7dA7tt"
      }
    },
    {
      "cell_type": "code",
      "source": [
        "# A list of stocks purchased by the LSTM model is saved so it can know when to sell,\n",
        "# the model starts with the same amount of money as the random model - 10,000 dollars\n",
        "portfolio = {}\n",
        "initial_wallet = 10000\n",
        "\n",
        "for stock in test_stocks:\n",
        "    portfolio[stock] = {\n",
        "        \"Remaining_Cash\": 1000,\n",
        "        \"Bought\": 0,\n",
        "        \"Purchase_Prices\": [],\n",
        "        \"Final_Amount_Sold\": 0\n",
        "    }\n",
        "\n",
        "# If a stock is predicted to rise in the future (larger value than final entry in sliding window),\n",
        "# it is bought by the model, $100 of the allocated money for the stock is bought.\n",
        "# If the stock is predicted to fall below the purchase price the stock is sold at the baseline price (last day of the sliding window)\n",
        "for stock in test_stocks:\n",
        "    windows = closing_price_windows[stock]\n",
        "    for window in windows:\n",
        "        baseline_price = window[-1]\n",
        "        scaler = MinMaxScaler(feature_range=(0, 1))\n",
        "        normalized_window = scaler.fit_transform(window.reshape(-1, 1))\n",
        "\n",
        "        # The model makes a prediction based on the window and compares it to the last day in the window to decide whether to buy, sell, or do nothing\n",
        "        prediction = model.predict(normalized_window.reshape(1, 30), verbose=0)\n",
        "        prediction = scaler.inverse_transform(prediction).item()\n",
        "\n",
        "        current_remaining_cash = portfolio[stock][\"Remaining_Cash\"]\n",
        "        current_bought = portfolio[stock][\"Bought\"]\n",
        "        purchase_prices = portfolio[stock][\"Purchase_Prices\"]\n",
        "\n",
        "        # When the model thinks the price will go up\n",
        "        if baseline_price < prediction:\n",
        "            if current_remaining_cash >= 200:\n",
        "                # Stocks are bought in 200 dollar increments\n",
        "                portfolio[stock][\"Remaining_Cash\"] -= 200\n",
        "                portfolio[stock][\"Bought\"] += 200\n",
        "                purchase_prices.append(baseline_price)\n",
        "\n",
        "        # When the model things the price will go down\n",
        "        elif baseline_price > prediction:\n",
        "            if current_bought > 0:\n",
        "                # Copy the list to avoid mutation during iteration\n",
        "                for price in purchase_prices[:]:\n",
        "                    # Sells the bought stock at the baseline price if the prediction anticipates that the stock price will go down.\n",
        "                    # The final bought calculation only considers the final liquidation so 100 is removed when sold.\n",
        "                    if price > prediction:\n",
        "                        percentage_change = baseline_price / price\n",
        "                        portfolio[stock][\"Remaining_Cash\"] += 200 * percentage_change\n",
        "                        portfolio[stock][\"Bought\"] -= 200\n",
        "                        purchase_prices.remove(price)\n",
        "                        break\n",
        "        else:\n",
        "            pass\n",
        "\n",
        "    # Sells all the stocks that were bought at the very end\n",
        "    final_stock_price = float(windows[-1][-1])\n",
        "    for purchase_price in portfolio[stock][\"Purchase_Prices\"]:\n",
        "        percentage_change = final_stock_price / purchase_price\n",
        "        sale_proceeds = 200 * percentage_change\n",
        "        portfolio[stock][\"Final_Amount_Sold\"] += sale_proceeds\n"
      ],
      "metadata": {
        "id": "ocZayl68A1a2"
      },
      "execution_count": 455,
      "outputs": []
    },
    {
      "cell_type": "markdown",
      "source": [
        "## Profit And Loss Margins For The LSTM Model"
      ],
      "metadata": {
        "id": "KnD6Rf3BBM73"
      }
    },
    {
      "cell_type": "code",
      "source": [
        "# Output the final earnings and losses\n",
        "for stock in test_stocks:\n",
        "  print(f\"{stock} detailed stats:\")\n",
        "  print(f\"Final Remaining Cash: {int(portfolio[stock]['Remaining_Cash'])}$\")\n",
        "  print(f\"Stock Quantity Bought: {portfolio[stock]['Bought']}$\")\n",
        "  print(f\"Stock Purchase Prices: {[int(x) for x in portfolio[stock]['Purchase_Prices']]}\")\n",
        "  print(f\"Final Amount Sold: {int(portfolio[stock]['Final_Amount_Sold'])}$\")\n",
        "  print(\"\\n\")"
      ],
      "metadata": {
        "colab": {
          "base_uri": "https://localhost:8080/"
        },
        "id": "sJxRHVjPBGTr",
        "outputId": "1fe9d88f-6962-4af5-a409-22f43ff02f2d"
      },
      "execution_count": 456,
      "outputs": [
        {
          "output_type": "stream",
          "name": "stdout",
          "text": [
            "AAPL detailed stats:\n",
            "Final Remaining Cash: 969$\n",
            "Stock Quantity Bought: 0$\n",
            "Stock Purchase Prices: []\n",
            "Final Amount Sold: 0$\n",
            "\n",
            "\n",
            "NVDA detailed stats:\n",
            "Final Remaining Cash: 997$\n",
            "Stock Quantity Bought: 0$\n",
            "Stock Purchase Prices: []\n",
            "Final Amount Sold: 0$\n",
            "\n",
            "\n",
            "MSTR detailed stats:\n",
            "Final Remaining Cash: 800$\n",
            "Stock Quantity Bought: 200$\n",
            "Stock Purchase Prices: [263]\n",
            "Final Amount Sold: 225$\n",
            "\n",
            "\n",
            "MP detailed stats:\n",
            "Final Remaining Cash: 800$\n",
            "Stock Quantity Bought: 200$\n",
            "Stock Purchase Prices: [23]\n",
            "Final Amount Sold: 200$\n",
            "\n",
            "\n",
            "PG detailed stats:\n",
            "Final Remaining Cash: 600$\n",
            "Stock Quantity Bought: 400$\n",
            "Stock Purchase Prices: [156, 161]\n",
            "Final Amount Sold: 405$\n",
            "\n",
            "\n",
            "GLD detailed stats:\n",
            "Final Remaining Cash: 1000$\n",
            "Stock Quantity Bought: 0$\n",
            "Stock Purchase Prices: []\n",
            "Final Amount Sold: 0$\n",
            "\n",
            "\n",
            "TSLA detailed stats:\n",
            "Final Remaining Cash: 987$\n",
            "Stock Quantity Bought: 0$\n",
            "Stock Purchase Prices: []\n",
            "Final Amount Sold: 0$\n",
            "\n",
            "\n",
            "AMC detailed stats:\n",
            "Final Remaining Cash: 985$\n",
            "Stock Quantity Bought: 0$\n",
            "Stock Purchase Prices: []\n",
            "Final Amount Sold: 0$\n",
            "\n",
            "\n",
            "META detailed stats:\n",
            "Final Remaining Cash: 1000$\n",
            "Stock Quantity Bought: 0$\n",
            "Stock Purchase Prices: []\n",
            "Final Amount Sold: 0$\n",
            "\n",
            "\n",
            "HIMS detailed stats:\n",
            "Final Remaining Cash: 600$\n",
            "Stock Quantity Bought: 400$\n",
            "Stock Purchase Prices: [25, 29]\n",
            "Final Amount Sold: 427$\n",
            "\n",
            "\n"
          ]
        }
      ]
    },
    {
      "cell_type": "code",
      "source": [
        "# Final amount made and lost\n",
        "total = 0\n",
        "for stock in test_stocks:\n",
        "  print(f\"{stock} overall stats:\")\n",
        "  print(f\"Starting Amount: 1000$\")\n",
        "  total += float(portfolio[stock]['Final_Amount_Sold']) + portfolio[stock]['Remaining_Cash']\n",
        "  print(f\"Ending Amount: {int(portfolio[stock]['Final_Amount_Sold']) + int(portfolio[stock]['Remaining_Cash'])}$\")\n",
        "  print(\"\\n\")\n",
        "print(\"-----------------------------------------------------------------------------------------------\")\n",
        "percent_change = total / 10000\n",
        "print(\"Total Beginning: 10,000$\\n\")\n",
        "print(f\"Total End: {int(total)}$\\n\")\n",
        "print(f\"Percent Change From Initial Wallet: {round(percent_change,3)*100}%\")"
      ],
      "metadata": {
        "colab": {
          "base_uri": "https://localhost:8080/"
        },
        "id": "0FoCD_S6Bd4-",
        "outputId": "bcfc412f-80d3-4d70-d1cf-b8012cab5baa"
      },
      "execution_count": 457,
      "outputs": [
        {
          "output_type": "stream",
          "name": "stdout",
          "text": [
            "AAPL overall stats:\n",
            "Starting Amount: 1000$\n",
            "Ending Amount: 969$\n",
            "\n",
            "\n",
            "NVDA overall stats:\n",
            "Starting Amount: 1000$\n",
            "Ending Amount: 997$\n",
            "\n",
            "\n",
            "MSTR overall stats:\n",
            "Starting Amount: 1000$\n",
            "Ending Amount: 1025$\n",
            "\n",
            "\n",
            "MP overall stats:\n",
            "Starting Amount: 1000$\n",
            "Ending Amount: 1000$\n",
            "\n",
            "\n",
            "PG overall stats:\n",
            "Starting Amount: 1000$\n",
            "Ending Amount: 1005$\n",
            "\n",
            "\n",
            "GLD overall stats:\n",
            "Starting Amount: 1000$\n",
            "Ending Amount: 1000$\n",
            "\n",
            "\n",
            "TSLA overall stats:\n",
            "Starting Amount: 1000$\n",
            "Ending Amount: 987$\n",
            "\n",
            "\n",
            "AMC overall stats:\n",
            "Starting Amount: 1000$\n",
            "Ending Amount: 985$\n",
            "\n",
            "\n",
            "META overall stats:\n",
            "Starting Amount: 1000$\n",
            "Ending Amount: 1000$\n",
            "\n",
            "\n",
            "HIMS overall stats:\n",
            "Starting Amount: 1000$\n",
            "Ending Amount: 1027$\n",
            "\n",
            "\n",
            "-----------------------------------------------------------------------------------------------\n",
            "Total Beginning: 10,000$\n",
            "\n",
            "Total End: 9998$\n",
            "\n",
            "Percent Change From Initial Wallet: 100.0%\n"
          ]
        }
      ]
    },
    {
      "cell_type": "markdown",
      "source": [
        "# **Paper Trading Method 2 : Random Behavior**"
      ],
      "metadata": {
        "id": "yssaPq4YFnCU"
      }
    },
    {
      "cell_type": "code",
      "source": [
        "# A list of the randomly purchased stocks is kept for when the model sells the stocks at the end\n",
        "random_portfolio = {}\n",
        "for stock in test_stocks:\n",
        "    random_portfolio[stock] = {\n",
        "        \"Remaining_Cash\": 1000,\n",
        "        \"Bought\": 0,\n",
        "        \"Purchase_Prices\": [],\n",
        "        \"Final_Amount_Sold\": 0\n",
        "    }\n",
        "\n",
        "# The window structure from the evaluation of the LSTM model is maintained so that the random model performs actions at the same time intervals\n",
        "for stock in test_stocks:\n",
        "    windows = closing_price_windows[stock]\n",
        "    for window in windows:\n",
        "        baseline_price = window[-1]\n",
        "        current_remaining_cash = random_portfolio[stock][\"Remaining_Cash\"]\n",
        "        current_bought = random_portfolio[stock][\"Bought\"]\n",
        "        purchase_prices = random_portfolio[stock][\"Purchase_Prices\"]\n",
        "\n",
        "        random_value = random.choice([0, 1, 2])\n",
        "\n",
        "        if random_value == 0:\n",
        "            if current_remaining_cash >= 200:\n",
        "                # Stocks are still bought in 200 dollar increments\n",
        "                random_portfolio[stock][\"Remaining_Cash\"] -= 200\n",
        "                random_portfolio[stock][\"Bought\"] += 200\n",
        "                purchase_prices.append(baseline_price)\n",
        "\n",
        "        elif random_value == 1:\n",
        "            if current_bought > 0 and purchase_prices:\n",
        "                # The selling logic is also the same as the LSTM except it picks a stock at random out of the purchased list\n",
        "                random_index = random.randint(0, len(purchase_prices) - 1)\n",
        "                purchase_price = purchase_prices.pop(random_index)\n",
        "                percentage_change = baseline_price / purchase_price\n",
        "                random_portfolio[stock][\"Remaining_Cash\"] += 200 * percentage_change\n",
        "                random_portfolio[stock][\"Bought\"] -= 200\n",
        "\n",
        "        else:\n",
        "            pass\n",
        "\n",
        "    # Liquidates all the stocks that were bought at the very end\n",
        "    final_stock_price = float(windows[-1][-1])\n",
        "    for purchase_price in random_portfolio[stock][\"Purchase_Prices\"]:\n",
        "        percentage_change = final_stock_price / purchase_price\n",
        "        sale_proceeds = 100 * percentage_change\n",
        "        random_portfolio[stock][\"Final_Amount_Sold\"] += sale_proceeds\n"
      ],
      "metadata": {
        "id": "rguN446SFuzk"
      },
      "execution_count": 458,
      "outputs": []
    },
    {
      "cell_type": "markdown",
      "source": [
        "## Profit And Loss Margins For The Random Algorithm"
      ],
      "metadata": {
        "id": "CXV9cuhuOxtw"
      }
    },
    {
      "cell_type": "code",
      "source": [
        "# Output the final earnings and losses\n",
        "for stock in test_stocks:\n",
        "  print(f\"{stock} detailed stats:\")\n",
        "  print(f\"Final Remaining Cash: {int(random_portfolio[stock]['Remaining_Cash'])}$\")\n",
        "  print(f\"Stock Quantity Bought: {random_portfolio[stock]['Bought']}$\")\n",
        "  print(f\"Stock Purchase Prices: {[int(x) for x in random_portfolio[stock]['Purchase_Prices']]}\")\n",
        "  print(f\"Final Amount Sold: {int(random_portfolio[stock]['Final_Amount_Sold'])}$\")\n",
        "  print(\"\\n\")"
      ],
      "metadata": {
        "colab": {
          "base_uri": "https://localhost:8080/"
        },
        "id": "d8BwymuUHvvt",
        "outputId": "44819fd9-eb11-4439-a739-fe54530ddfad"
      },
      "execution_count": 459,
      "outputs": [
        {
          "output_type": "stream",
          "name": "stdout",
          "text": [
            "AAPL detailed stats:\n",
            "Final Remaining Cash: 600$\n",
            "Stock Quantity Bought: 400$\n",
            "Stock Purchase Prices: [234, 233]\n",
            "Final Amount Sold: 169$\n",
            "\n",
            "\n",
            "NVDA detailed stats:\n",
            "Final Remaining Cash: 800$\n",
            "Stock Quantity Bought: 200$\n",
            "Stock Purchase Prices: [114]\n",
            "Final Amount Sold: 100$\n",
            "\n",
            "\n",
            "MSTR detailed stats:\n",
            "Final Remaining Cash: 800$\n",
            "Stock Quantity Bought: 200$\n",
            "Stock Purchase Prices: [296]\n",
            "Final Amount Sold: 100$\n",
            "\n",
            "\n",
            "MP detailed stats:\n",
            "Final Remaining Cash: 800$\n",
            "Stock Quantity Bought: 200$\n",
            "Stock Purchase Prices: [23]\n",
            "Final Amount Sold: 100$\n",
            "\n",
            "\n",
            "PG detailed stats:\n",
            "Final Remaining Cash: 600$\n",
            "Stock Quantity Bought: 400$\n",
            "Stock Purchase Prices: [177, 170]\n",
            "Final Amount Sold: 185$\n",
            "\n",
            "\n",
            "GLD detailed stats:\n",
            "Final Remaining Cash: 812$\n",
            "Stock Quantity Bought: 200$\n",
            "Stock Purchase Prices: [242]\n",
            "Final Amount Sold: 117$\n",
            "\n",
            "\n",
            "TSLA detailed stats:\n",
            "Final Remaining Cash: 800$\n",
            "Stock Quantity Bought: 200$\n",
            "Stock Purchase Prices: [403]\n",
            "Final Amount Sold: 67$\n",
            "\n",
            "\n",
            "AMC detailed stats:\n",
            "Final Remaining Cash: 1000$\n",
            "Stock Quantity Bought: 0$\n",
            "Stock Purchase Prices: []\n",
            "Final Amount Sold: 0$\n",
            "\n",
            "\n",
            "META detailed stats:\n",
            "Final Remaining Cash: 774$\n",
            "Stock Quantity Bought: 200$\n",
            "Stock Purchase Prices: [607]\n",
            "Final Amount Sold: 96$\n",
            "\n",
            "\n",
            "HIMS detailed stats:\n",
            "Final Remaining Cash: 1000$\n",
            "Stock Quantity Bought: 0$\n",
            "Stock Purchase Prices: []\n",
            "Final Amount Sold: 0$\n",
            "\n",
            "\n"
          ]
        }
      ]
    },
    {
      "cell_type": "code",
      "source": [
        "# Final amount made and lost\n",
        "total = 0\n",
        "for stock in test_stocks:\n",
        "  print(f\"{stock} overall stats:\")\n",
        "  print(f\"Starting Amount: 1000\")\n",
        "  total += int(random_portfolio[stock]['Final_Amount_Sold']) + random_portfolio[stock]['Remaining_Cash']\n",
        "  print(f\"Ending Amount: {int(random_portfolio[stock]['Final_Amount_Sold']) + random_portfolio[stock]['Remaining_Cash']}$\")\n",
        "  print(\"\\n\")\n",
        "print(\"-----------------------------------------------------------------------------------------------\")\n",
        "percent_change = total / 10000\n",
        "print(\"Total Beginning: 10,000$\\n\")\n",
        "print(f\"Total End: {total}$\\n\")\n",
        "print(f\"Percent Change From Initial Wallet: {round(percent_change,3)*100}%\")"
      ],
      "metadata": {
        "colab": {
          "base_uri": "https://localhost:8080/"
        },
        "id": "xqYYOE8HOXHB",
        "outputId": "bf89a80b-ef84-48d5-aa2e-c2b7b965f409"
      },
      "execution_count": 460,
      "outputs": [
        {
          "output_type": "stream",
          "name": "stdout",
          "text": [
            "AAPL overall stats:\n",
            "Starting Amount: 1000\n",
            "Ending Amount: 769$\n",
            "\n",
            "\n",
            "NVDA overall stats:\n",
            "Starting Amount: 1000\n",
            "Ending Amount: 900$\n",
            "\n",
            "\n",
            "MSTR overall stats:\n",
            "Starting Amount: 1000\n",
            "Ending Amount: 900$\n",
            "\n",
            "\n",
            "MP overall stats:\n",
            "Starting Amount: 1000\n",
            "Ending Amount: 900$\n",
            "\n",
            "\n",
            "PG overall stats:\n",
            "Starting Amount: 1000\n",
            "Ending Amount: 785$\n",
            "\n",
            "\n",
            "GLD overall stats:\n",
            "Starting Amount: 1000\n",
            "Ending Amount: 929.1547828700907$\n",
            "\n",
            "\n",
            "TSLA overall stats:\n",
            "Starting Amount: 1000\n",
            "Ending Amount: 867$\n",
            "\n",
            "\n",
            "AMC overall stats:\n",
            "Starting Amount: 1000\n",
            "Ending Amount: 1000$\n",
            "\n",
            "\n",
            "META overall stats:\n",
            "Starting Amount: 1000\n",
            "Ending Amount: 870.0511004172073$\n",
            "\n",
            "\n",
            "HIMS overall stats:\n",
            "Starting Amount: 1000\n",
            "Ending Amount: 1000$\n",
            "\n",
            "\n",
            "-----------------------------------------------------------------------------------------------\n",
            "Total Beginning: 10,000$\n",
            "\n",
            "Total End: 8920.205883287297$\n",
            "\n",
            "Percent Change From Initial Wallet: 89.2%\n"
          ]
        }
      ]
    }
  ]
}