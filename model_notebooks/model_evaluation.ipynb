{
  "nbformat": 4,
  "nbformat_minor": 0,
  "metadata": {
    "colab": {
      "provenance": [],
      "authorship_tag": "ABX9TyNKaw7fW71axiReGkAYr0lF",
      "include_colab_link": true
    },
    "kernelspec": {
      "name": "python3",
      "display_name": "Python 3"
    },
    "language_info": {
      "name": "python"
    }
  },
  "cells": [
    {
      "cell_type": "markdown",
      "metadata": {
        "id": "view-in-github",
        "colab_type": "text"
      },
      "source": [
        "<a href=\"https://colab.research.google.com/github/ColeJMitchell/machine-learning-stock-prediction/blob/main/model_notebooks/model_evaluation.ipynb\" target=\"_parent\"><img src=\"https://colab.research.google.com/assets/colab-badge.svg\" alt=\"Open In Colab\"/></a>"
      ]
    },
    {
      "cell_type": "code",
      "source": [
        "import numpy as np\n",
        "import pandas as pd\n",
        "import yfinance as yf\n",
        "import matplotlib.pyplot as plt\n",
        "import seaborn as sns\n",
        "import datetime, time\n",
        "from termcolor import colored\n",
        "from IPython.display import clear_output\n",
        "!pip install tensorflow\n",
        "!git clone https://github.com/ColeJMitchell/machine-learning-stock-prediction\n",
        "from tensorflow.keras.models import load_model\n",
        "from sklearn.preprocessing import MinMaxScaler\n",
        "import random\n",
        "clear_output()"
      ],
      "metadata": {
        "id": "ZAlqMY-P_V-H"
      },
      "execution_count": 121,
      "outputs": []
    },
    {
      "cell_type": "markdown",
      "source": [
        "# **Loading The Data**"
      ],
      "metadata": {
        "id": "ThtLWHG9_v20"
      }
    },
    {
      "cell_type": "code",
      "source": [
        "TESTDATADIR = \"machine-learning-stock-prediction/data/test_stocks/\"\n",
        "TESTSTOCKS = [\n",
        "    \"AAPL\", # Apple\n",
        "    \"AMD\",  # AMD\n",
        "    \"AMZN\", # Amazon\n",
        "    \"META\", # Meta Platforms\n",
        "    \"NFLX\", # Netflix\n",
        "    \"QCOM\", # Qualcomm\n",
        "    \"SBUX\", # Starbucks\n",
        "    \"SCSO\", # Cisco\n",
        "    \"TSLA\", # Tesla\n",
        "]\n",
        "predictions = {}\n",
        "for stock in TESTSTOCKS:\n",
        "    predictions[stock] = pd.read_parquet(TESTDATADIR + stock + \"_results.parquet\")"
      ],
      "metadata": {
        "id": "EhD9aEgyAHD1"
      },
      "execution_count": 122,
      "outputs": []
    },
    {
      "cell_type": "markdown",
      "source": [
        "# **Paper Trading Method 1 : Using The LSTM Model**"
      ],
      "metadata": {
        "id": "RaKjYZ50_qj6"
      }
    },
    {
      "cell_type": "code",
      "execution_count": 123,
      "metadata": {
        "colab": {
          "base_uri": "https://localhost:8080/",
          "height": 534
        },
        "id": "YMqUq-mh-czP",
        "outputId": "02417c0f-56a7-4dbb-afbe-d6c9f5c2d615"
      },
      "outputs": [
        {
          "output_type": "display_data",
          "data": {
            "text/plain": [
              "\u001b[1mModel: \"sequential\"\u001b[0m\n"
            ],
            "text/html": [
              "<pre style=\"white-space:pre;overflow-x:auto;line-height:normal;font-family:Menlo,'DejaVu Sans Mono',consolas,'Courier New',monospace\"><span style=\"font-weight: bold\">Model: \"sequential\"</span>\n",
              "</pre>\n"
            ]
          },
          "metadata": {}
        },
        {
          "output_type": "display_data",
          "data": {
            "text/plain": [
              "┏━━━━━━━━━━━━━━━━━━━━━━━━━━━━━━━━━┳━━━━━━━━━━━━━━━━━━━━━━━━┳━━━━━━━━━━━━━━━┓\n",
              "┃\u001b[1m \u001b[0m\u001b[1mLayer (type)                   \u001b[0m\u001b[1m \u001b[0m┃\u001b[1m \u001b[0m\u001b[1mOutput Shape          \u001b[0m\u001b[1m \u001b[0m┃\u001b[1m \u001b[0m\u001b[1m      Param #\u001b[0m\u001b[1m \u001b[0m┃\n",
              "┡━━━━━━━━━━━━━━━━━━━━━━━━━━━━━━━━━╇━━━━━━━━━━━━━━━━━━━━━━━━╇━━━━━━━━━━━━━━━┩\n",
              "│ lstm (\u001b[38;5;33mLSTM\u001b[0m)                     │ (\u001b[38;5;45mNone\u001b[0m, \u001b[38;5;34m30\u001b[0m, \u001b[38;5;34m64\u001b[0m)         │        \u001b[38;5;34m16,896\u001b[0m │\n",
              "├─────────────────────────────────┼────────────────────────┼───────────────┤\n",
              "│ batch_normalization             │ (\u001b[38;5;45mNone\u001b[0m, \u001b[38;5;34m30\u001b[0m, \u001b[38;5;34m64\u001b[0m)         │           \u001b[38;5;34m256\u001b[0m │\n",
              "│ (\u001b[38;5;33mBatchNormalization\u001b[0m)            │                        │               │\n",
              "├─────────────────────────────────┼────────────────────────┼───────────────┤\n",
              "│ activation (\u001b[38;5;33mActivation\u001b[0m)         │ (\u001b[38;5;45mNone\u001b[0m, \u001b[38;5;34m30\u001b[0m, \u001b[38;5;34m64\u001b[0m)         │             \u001b[38;5;34m0\u001b[0m │\n",
              "├─────────────────────────────────┼────────────────────────┼───────────────┤\n",
              "│ lstm_1 (\u001b[38;5;33mLSTM\u001b[0m)                   │ (\u001b[38;5;45mNone\u001b[0m, \u001b[38;5;34m32\u001b[0m)             │        \u001b[38;5;34m12,416\u001b[0m │\n",
              "├─────────────────────────────────┼────────────────────────┼───────────────┤\n",
              "│ batch_normalization_1           │ (\u001b[38;5;45mNone\u001b[0m, \u001b[38;5;34m32\u001b[0m)             │           \u001b[38;5;34m128\u001b[0m │\n",
              "│ (\u001b[38;5;33mBatchNormalization\u001b[0m)            │                        │               │\n",
              "├─────────────────────────────────┼────────────────────────┼───────────────┤\n",
              "│ activation_1 (\u001b[38;5;33mActivation\u001b[0m)       │ (\u001b[38;5;45mNone\u001b[0m, \u001b[38;5;34m32\u001b[0m)             │             \u001b[38;5;34m0\u001b[0m │\n",
              "├─────────────────────────────────┼────────────────────────┼───────────────┤\n",
              "│ dense (\u001b[38;5;33mDense\u001b[0m)                   │ (\u001b[38;5;45mNone\u001b[0m, \u001b[38;5;34m16\u001b[0m)             │           \u001b[38;5;34m528\u001b[0m │\n",
              "├─────────────────────────────────┼────────────────────────┼───────────────┤\n",
              "│ dropout (\u001b[38;5;33mDropout\u001b[0m)               │ (\u001b[38;5;45mNone\u001b[0m, \u001b[38;5;34m16\u001b[0m)             │             \u001b[38;5;34m0\u001b[0m │\n",
              "├─────────────────────────────────┼────────────────────────┼───────────────┤\n",
              "│ dense_1 (\u001b[38;5;33mDense\u001b[0m)                 │ (\u001b[38;5;45mNone\u001b[0m, \u001b[38;5;34m16\u001b[0m)             │           \u001b[38;5;34m272\u001b[0m │\n",
              "├─────────────────────────────────┼────────────────────────┼───────────────┤\n",
              "│ dropout_1 (\u001b[38;5;33mDropout\u001b[0m)             │ (\u001b[38;5;45mNone\u001b[0m, \u001b[38;5;34m16\u001b[0m)             │             \u001b[38;5;34m0\u001b[0m │\n",
              "├─────────────────────────────────┼────────────────────────┼───────────────┤\n",
              "│ dense_2 (\u001b[38;5;33mDense\u001b[0m)                 │ (\u001b[38;5;45mNone\u001b[0m, \u001b[38;5;34m1\u001b[0m)              │            \u001b[38;5;34m17\u001b[0m │\n",
              "└─────────────────────────────────┴────────────────────────┴───────────────┘\n"
            ],
            "text/html": [
              "<pre style=\"white-space:pre;overflow-x:auto;line-height:normal;font-family:Menlo,'DejaVu Sans Mono',consolas,'Courier New',monospace\">┏━━━━━━━━━━━━━━━━━━━━━━━━━━━━━━━━━┳━━━━━━━━━━━━━━━━━━━━━━━━┳━━━━━━━━━━━━━━━┓\n",
              "┃<span style=\"font-weight: bold\"> Layer (type)                    </span>┃<span style=\"font-weight: bold\"> Output Shape           </span>┃<span style=\"font-weight: bold\">       Param # </span>┃\n",
              "┡━━━━━━━━━━━━━━━━━━━━━━━━━━━━━━━━━╇━━━━━━━━━━━━━━━━━━━━━━━━╇━━━━━━━━━━━━━━━┩\n",
              "│ lstm (<span style=\"color: #0087ff; text-decoration-color: #0087ff\">LSTM</span>)                     │ (<span style=\"color: #00d7ff; text-decoration-color: #00d7ff\">None</span>, <span style=\"color: #00af00; text-decoration-color: #00af00\">30</span>, <span style=\"color: #00af00; text-decoration-color: #00af00\">64</span>)         │        <span style=\"color: #00af00; text-decoration-color: #00af00\">16,896</span> │\n",
              "├─────────────────────────────────┼────────────────────────┼───────────────┤\n",
              "│ batch_normalization             │ (<span style=\"color: #00d7ff; text-decoration-color: #00d7ff\">None</span>, <span style=\"color: #00af00; text-decoration-color: #00af00\">30</span>, <span style=\"color: #00af00; text-decoration-color: #00af00\">64</span>)         │           <span style=\"color: #00af00; text-decoration-color: #00af00\">256</span> │\n",
              "│ (<span style=\"color: #0087ff; text-decoration-color: #0087ff\">BatchNormalization</span>)            │                        │               │\n",
              "├─────────────────────────────────┼────────────────────────┼───────────────┤\n",
              "│ activation (<span style=\"color: #0087ff; text-decoration-color: #0087ff\">Activation</span>)         │ (<span style=\"color: #00d7ff; text-decoration-color: #00d7ff\">None</span>, <span style=\"color: #00af00; text-decoration-color: #00af00\">30</span>, <span style=\"color: #00af00; text-decoration-color: #00af00\">64</span>)         │             <span style=\"color: #00af00; text-decoration-color: #00af00\">0</span> │\n",
              "├─────────────────────────────────┼────────────────────────┼───────────────┤\n",
              "│ lstm_1 (<span style=\"color: #0087ff; text-decoration-color: #0087ff\">LSTM</span>)                   │ (<span style=\"color: #00d7ff; text-decoration-color: #00d7ff\">None</span>, <span style=\"color: #00af00; text-decoration-color: #00af00\">32</span>)             │        <span style=\"color: #00af00; text-decoration-color: #00af00\">12,416</span> │\n",
              "├─────────────────────────────────┼────────────────────────┼───────────────┤\n",
              "│ batch_normalization_1           │ (<span style=\"color: #00d7ff; text-decoration-color: #00d7ff\">None</span>, <span style=\"color: #00af00; text-decoration-color: #00af00\">32</span>)             │           <span style=\"color: #00af00; text-decoration-color: #00af00\">128</span> │\n",
              "│ (<span style=\"color: #0087ff; text-decoration-color: #0087ff\">BatchNormalization</span>)            │                        │               │\n",
              "├─────────────────────────────────┼────────────────────────┼───────────────┤\n",
              "│ activation_1 (<span style=\"color: #0087ff; text-decoration-color: #0087ff\">Activation</span>)       │ (<span style=\"color: #00d7ff; text-decoration-color: #00d7ff\">None</span>, <span style=\"color: #00af00; text-decoration-color: #00af00\">32</span>)             │             <span style=\"color: #00af00; text-decoration-color: #00af00\">0</span> │\n",
              "├─────────────────────────────────┼────────────────────────┼───────────────┤\n",
              "│ dense (<span style=\"color: #0087ff; text-decoration-color: #0087ff\">Dense</span>)                   │ (<span style=\"color: #00d7ff; text-decoration-color: #00d7ff\">None</span>, <span style=\"color: #00af00; text-decoration-color: #00af00\">16</span>)             │           <span style=\"color: #00af00; text-decoration-color: #00af00\">528</span> │\n",
              "├─────────────────────────────────┼────────────────────────┼───────────────┤\n",
              "│ dropout (<span style=\"color: #0087ff; text-decoration-color: #0087ff\">Dropout</span>)               │ (<span style=\"color: #00d7ff; text-decoration-color: #00d7ff\">None</span>, <span style=\"color: #00af00; text-decoration-color: #00af00\">16</span>)             │             <span style=\"color: #00af00; text-decoration-color: #00af00\">0</span> │\n",
              "├─────────────────────────────────┼────────────────────────┼───────────────┤\n",
              "│ dense_1 (<span style=\"color: #0087ff; text-decoration-color: #0087ff\">Dense</span>)                 │ (<span style=\"color: #00d7ff; text-decoration-color: #00d7ff\">None</span>, <span style=\"color: #00af00; text-decoration-color: #00af00\">16</span>)             │           <span style=\"color: #00af00; text-decoration-color: #00af00\">272</span> │\n",
              "├─────────────────────────────────┼────────────────────────┼───────────────┤\n",
              "│ dropout_1 (<span style=\"color: #0087ff; text-decoration-color: #0087ff\">Dropout</span>)             │ (<span style=\"color: #00d7ff; text-decoration-color: #00d7ff\">None</span>, <span style=\"color: #00af00; text-decoration-color: #00af00\">16</span>)             │             <span style=\"color: #00af00; text-decoration-color: #00af00\">0</span> │\n",
              "├─────────────────────────────────┼────────────────────────┼───────────────┤\n",
              "│ dense_2 (<span style=\"color: #0087ff; text-decoration-color: #0087ff\">Dense</span>)                 │ (<span style=\"color: #00d7ff; text-decoration-color: #00d7ff\">None</span>, <span style=\"color: #00af00; text-decoration-color: #00af00\">1</span>)              │            <span style=\"color: #00af00; text-decoration-color: #00af00\">17</span> │\n",
              "└─────────────────────────────────┴────────────────────────┴───────────────┘\n",
              "</pre>\n"
            ]
          },
          "metadata": {}
        },
        {
          "output_type": "display_data",
          "data": {
            "text/plain": [
              "\u001b[1m Total params: \u001b[0m\u001b[38;5;34m30,513\u001b[0m (119.19 KB)\n"
            ],
            "text/html": [
              "<pre style=\"white-space:pre;overflow-x:auto;line-height:normal;font-family:Menlo,'DejaVu Sans Mono',consolas,'Courier New',monospace\"><span style=\"font-weight: bold\"> Total params: </span><span style=\"color: #00af00; text-decoration-color: #00af00\">30,513</span> (119.19 KB)\n",
              "</pre>\n"
            ]
          },
          "metadata": {}
        },
        {
          "output_type": "display_data",
          "data": {
            "text/plain": [
              "\u001b[1m Trainable params: \u001b[0m\u001b[38;5;34m30,321\u001b[0m (118.44 KB)\n"
            ],
            "text/html": [
              "<pre style=\"white-space:pre;overflow-x:auto;line-height:normal;font-family:Menlo,'DejaVu Sans Mono',consolas,'Courier New',monospace\"><span style=\"font-weight: bold\"> Trainable params: </span><span style=\"color: #00af00; text-decoration-color: #00af00\">30,321</span> (118.44 KB)\n",
              "</pre>\n"
            ]
          },
          "metadata": {}
        },
        {
          "output_type": "display_data",
          "data": {
            "text/plain": [
              "\u001b[1m Non-trainable params: \u001b[0m\u001b[38;5;34m192\u001b[0m (768.00 B)\n"
            ],
            "text/html": [
              "<pre style=\"white-space:pre;overflow-x:auto;line-height:normal;font-family:Menlo,'DejaVu Sans Mono',consolas,'Courier New',monospace\"><span style=\"font-weight: bold\"> Non-trainable params: </span><span style=\"color: #00af00; text-decoration-color: #00af00\">192</span> (768.00 B)\n",
              "</pre>\n"
            ]
          },
          "metadata": {}
        }
      ],
      "source": [
        "#Load the LSTM model and simulate it by paper trading\n",
        "model = load_model(\"machine-learning-stock-prediction/saved_models/stock_prediction.h5\", compile = False)\n",
        "model.summary()"
      ]
    },
    {
      "cell_type": "code",
      "source": [
        "# Data Format\n",
        "print(predictions['AAPL'])"
      ],
      "metadata": {
        "colab": {
          "base_uri": "https://localhost:8080/"
        },
        "id": "e-j5A4Z2_ZHZ",
        "outputId": "198079eb-4c37-4e9b-a71d-0190acdcd09a"
      },
      "execution_count": 124,
      "outputs": [
        {
          "output_type": "stream",
          "name": "stdout",
          "text": [
            "          Date  Actual_Scaled  Prediction_Scaled  Actual  Prediction\n",
            "0   2025-03-25       0.592725           0.532328  223.75  218.519653\n",
            "1   2025-03-24       0.557852           0.553596  220.73  220.361404\n",
            "2   2025-03-21       0.529446           0.521709  218.27  217.599976\n",
            "3   2025-03-20       0.481293           0.500552  214.10  215.767776\n",
            "4   2025-03-19       0.494457           0.464448  215.24  212.641190\n",
            "..         ...            ...                ...     ...         ...\n",
            "215 2024-05-14       0.173326           0.243720  187.43  193.526138\n",
            "216 2024-05-13       0.160046           0.241477  186.28  193.331909\n",
            "217 2024-05-10       0.122748           0.240314  183.05  193.231171\n",
            "218 2024-05-09       0.140300           0.237339  184.57  192.973541\n",
            "219 2024-05-08       0.119169           0.238530  182.74  193.076721\n",
            "\n",
            "[220 rows x 5 columns]\n"
          ]
        }
      ]
    },
    {
      "cell_type": "markdown",
      "source": [
        "## Preprocessing The Data With Sliding Windows To Match Shape Required By The LSTM"
      ],
      "metadata": {
        "id": "JRiTIDUnAc0Q"
      }
    },
    {
      "cell_type": "code",
      "source": [
        "prediction_windows = {}\n",
        "actual_values = {}\n",
        "window_size = 30\n",
        "\n",
        "# Stocks need to remain separate for the paper trading\n",
        "for stock in TESTSTOCKS:\n",
        "    prediction_windows[stock] = []\n",
        "    actual_values[stock] = []\n",
        "    for i in range(0, 220 - window_size + 1, window_size):\n",
        "        window = predictions[stock][\"Prediction\"][i:i + window_size]\n",
        "        prediction_windows[stock].append(np.array(window))\n",
        "        actual_values[stock].append(predictions[stock][\"Actual\"][i+window_size])\n",
        "\n",
        "print(f\"Shape of Stock Sliding Windows: {np.array(prediction_windows[TESTSTOCKS[0]]).shape}\")\n",
        "print(f\"Shape of Corresponding Actual Value Array: {np.array(actual_values[TESTSTOCKS[0]]).shape}\")"
      ],
      "metadata": {
        "colab": {
          "base_uri": "https://localhost:8080/"
        },
        "id": "suHx_yLpAqg-",
        "outputId": "95fe0eed-fa0b-408f-95dc-0b8edb492ff9"
      },
      "execution_count": 125,
      "outputs": [
        {
          "output_type": "stream",
          "name": "stdout",
          "text": [
            "Shape of Stock Sliding Windows: (7, 30)\n",
            "Shape of Corresponding Actual Value Array: (7,)\n"
          ]
        }
      ]
    },
    {
      "cell_type": "markdown",
      "source": [
        "## Trading Algorithm Using The LSTM's Predictions"
      ],
      "metadata": {
        "id": "vT_URB7dA7tt"
      }
    },
    {
      "cell_type": "code",
      "source": [
        "# A list of stocks purchased by the LSTM model is saved so it can know when to sell, the model starts with the same amount of money as the random model - 10,000 dollars\n",
        "portfolio = {}\n",
        "initial_wallet = 10000\n",
        "\n",
        "for stock in TESTSTOCKS:\n",
        "  portfolio[stock] = {\"Remaining_Cash\": 1000, \"Bought\": 0, \"Purchase_Prices\": [], \"Final_Amount_Sold\":0}\n",
        "# If a stock is predicted to rise in the future (larger value then final entry in sliding windo), it is bought by the model, half of the allocated money for the stock is bought (1000 dollars)\n",
        "# If the stock is predicted to fall below the purchase price the n\n",
        "for stock in TESTSTOCKS:\n",
        "  windows = prediction_windows[stock]\n",
        "  for window in windows:\n",
        "    baseline_price = window[-1]\n",
        "    scaler = MinMaxScaler(feature_range=(0, 1))\n",
        "    normalized_window = scaler.fit_transform(window.reshape(-1,1))\n",
        "    prediction = model.predict(normalized_window.reshape(1,30), verbose=0)\n",
        "    prediction = scaler.inverse_transform(prediction)\n",
        "    current_Remaining_Cashs = portfolio[stock][\"Remaining_Cash\"]\n",
        "    current_bought = portfolio[stock][\"Bought\"]\n",
        "    if baseline_price < prediction.item():\n",
        "      if current_Remaining_Cashs - 100 <= 0:\n",
        "        continue\n",
        "      else:\n",
        "        # Stocks are bought in 100 dollar increments\n",
        "        portfolio[stock][\"Remaining_Cash\"] =  portfolio[stock][\"Remaining_Cash\"] - 100\n",
        "        portfolio[stock][\"Bought\"] = portfolio[stock][\"Bought\"] + 100\n",
        "        portfolio[stock][\"Purchase_Prices\"].append(baseline_price)\n",
        "    elif baseline_price > prediction.item():\n",
        "      if current_bought <= 0:\n",
        "        continue\n",
        "      else:\n",
        "        for i in range (len(portfolio[stock][\"Purchase_Prices\"])):\n",
        "          # Sells the bought stock at the new price if it is worse than one of the previously purchase price points\n",
        "          if portfolio[stock][\"Purchase_Prices\"][i] > prediction.item():\n",
        "            percentage_change = portfolio[stock][\"Purchase_Prices\"][i] / baseline_price\n",
        "            portfolio[stock][\"Remaining_Cash\"] =  portfolio[stock][\"Remaining_Cash\"] + (100 * percentage_change)\n",
        "            portfolio[stock][\"Bought\"] = portfolio[stock][\"Bought\"] - 100\n",
        "            portfolio[stock][\"Purchase_Prices\"].remove(portfolio[stock][\"Purchase_Prices\"][i])\n",
        "            break\n",
        "    else:\n",
        "      pass\n",
        "\n",
        "  #Sells all the stocks that were bought at the very end\n",
        "  final_stock_price = float(windows[-1][-1])\n",
        "  for purchase_price in portfolio[stock][\"Purchase_Prices\"]:\n",
        "    purchase_price = float(purchase_price)\n",
        "    shares_bought = 100 / purchase_price\n",
        "    sale_proceeds = shares_bought * final_stock_price\n",
        "    portfolio[stock][\"Final_Amount_Sold\"] += sale_proceeds"
      ],
      "metadata": {
        "id": "ocZayl68A1a2"
      },
      "execution_count": 126,
      "outputs": []
    },
    {
      "cell_type": "markdown",
      "source": [
        "## Profit And Loss Margins For The LSTM Model"
      ],
      "metadata": {
        "id": "KnD6Rf3BBM73"
      }
    },
    {
      "cell_type": "code",
      "source": [
        "# Output the final earnings and losses\n",
        "for stock in TESTSTOCKS:\n",
        "  print(f\"{stock} detailed stats:\")\n",
        "  print(f\"Final Remaining Cash: {int(portfolio[stock]['Remaining_Cash'])}\")\n",
        "  print(f\"Stock Quantity Bought: {portfolio[stock]['Bought']}\")\n",
        "  print(f\"Stock Purchase Prices: {[int(x) for x in portfolio[stock]['Purchase_Prices']]}\")\n",
        "  print(f\"Final Amount Sold: {int(portfolio[stock]['Final_Amount_Sold'])}\")\n",
        "  print(\"\\n\")"
      ],
      "metadata": {
        "colab": {
          "base_uri": "https://localhost:8080/"
        },
        "id": "sJxRHVjPBGTr",
        "outputId": "31320ada-a162-49e5-8ee6-b419bac33eb7"
      },
      "execution_count": 127,
      "outputs": [
        {
          "output_type": "stream",
          "name": "stdout",
          "text": [
            "AAPL detailed stats:\n",
            "Final Remaining Cash: 800\n",
            "Stock Quantity Bought: 200\n",
            "Stock Purchase Prices: [220, 193]\n",
            "Final Amount Sold: 187\n",
            "\n",
            "\n",
            "AMD detailed stats:\n",
            "Final Remaining Cash: 900\n",
            "Stock Quantity Bought: 100\n",
            "Stock Purchase Prices: [151]\n",
            "Final Amount Sold: 100\n",
            "\n",
            "\n",
            "AMZN detailed stats:\n",
            "Final Remaining Cash: 700\n",
            "Stock Quantity Bought: 300\n",
            "Stock Purchase Prices: [186, 180, 182]\n",
            "Final Amount Sold: 298\n",
            "\n",
            "\n",
            "META detailed stats:\n",
            "Final Remaining Cash: 810\n",
            "Stock Quantity Bought: 200\n",
            "Stock Purchase Prices: [531, 514]\n",
            "Final Amount Sold: 196\n",
            "\n",
            "\n",
            "NFLX detailed stats:\n",
            "Final Remaining Cash: 833\n",
            "Stock Quantity Bought: 200\n",
            "Stock Purchase Prices: [734, 721]\n",
            "Final Amount Sold: 198\n",
            "\n",
            "\n",
            "QCOM detailed stats:\n",
            "Final Remaining Cash: 800\n",
            "Stock Quantity Bought: 200\n",
            "Stock Purchase Prices: [157, 193]\n",
            "Final Amount Sold: 223\n",
            "\n",
            "\n",
            "SBUX detailed stats:\n",
            "Final Remaining Cash: 710\n",
            "Stock Quantity Bought: 300\n",
            "Stock Purchase Prices: [94, 92, 81]\n",
            "Final Amount Sold: 278\n",
            "\n",
            "\n",
            "SCSO detailed stats:\n",
            "Final Remaining Cash: 905\n",
            "Stock Quantity Bought: 100\n",
            "Stock Purchase Prices: [49]\n",
            "Final Amount Sold: 100\n",
            "\n",
            "\n",
            "TSLA detailed stats:\n",
            "Final Remaining Cash: 720\n",
            "Stock Quantity Bought: 300\n",
            "Stock Purchase Prices: [256, 243, 232]\n",
            "Final Amount Sold: 286\n",
            "\n",
            "\n"
          ]
        }
      ]
    },
    {
      "cell_type": "code",
      "source": [
        "# Final amount made and lost\n",
        "total = 0\n",
        "for stock in TESTSTOCKS:\n",
        "  print(f\"{stock} overall stats:\")\n",
        "  print(f\"Starting Amount: 1000\")\n",
        "  total += float(portfolio[stock]['Final_Amount_Sold']) + portfolio[stock]['Remaining_Cash']\n",
        "  print(f\"Ending Amount: {int(portfolio[stock]['Final_Amount_Sold']) + int(portfolio[stock]['Remaining_Cash'])}\")\n",
        "  print(\"\\n\")\n",
        "print(\"-----------------------------------------------------------------------------------------------\")\n",
        "percent_change = total / 10000\n",
        "print(\"Total Beginning: 10,000 USD\\n\")\n",
        "print(f\"Total End: {total} USD\\n\")\n",
        "print(f\"Percent Change From Initial Wallet: {percent_change}\")"
      ],
      "metadata": {
        "colab": {
          "base_uri": "https://localhost:8080/"
        },
        "id": "0FoCD_S6Bd4-",
        "outputId": "aad4292a-677d-4dff-fd91-98a12e6d7023"
      },
      "execution_count": 128,
      "outputs": [
        {
          "output_type": "stream",
          "name": "stdout",
          "text": [
            "AAPL overall stats:\n",
            "Starting Amount: 1000\n",
            "Ending Amount: 987\n",
            "\n",
            "\n",
            "AMD overall stats:\n",
            "Starting Amount: 1000\n",
            "Ending Amount: 1000\n",
            "\n",
            "\n",
            "AMZN overall stats:\n",
            "Starting Amount: 1000\n",
            "Ending Amount: 998\n",
            "\n",
            "\n",
            "META overall stats:\n",
            "Starting Amount: 1000\n",
            "Ending Amount: 1006\n",
            "\n",
            "\n",
            "NFLX overall stats:\n",
            "Starting Amount: 1000\n",
            "Ending Amount: 1031\n",
            "\n",
            "\n",
            "QCOM overall stats:\n",
            "Starting Amount: 1000\n",
            "Ending Amount: 1023\n",
            "\n",
            "\n",
            "SBUX overall stats:\n",
            "Starting Amount: 1000\n",
            "Ending Amount: 988\n",
            "\n",
            "\n",
            "SCSO overall stats:\n",
            "Starting Amount: 1000\n",
            "Ending Amount: 1005\n",
            "\n",
            "\n",
            "TSLA overall stats:\n",
            "Starting Amount: 1000\n",
            "Ending Amount: 1006\n",
            "\n",
            "\n",
            "-----------------------------------------------------------------------------------------------\n",
            "Total Beginning: 10,000 USD\n",
            "\n",
            "Total End: 9050.576171875 USD\n",
            "\n",
            "Percent Change From Initial Wallet: 0.9050576090812683\n"
          ]
        }
      ]
    },
    {
      "cell_type": "markdown",
      "source": [
        "# **Paper Trading Method 2 : Random Behavior**"
      ],
      "metadata": {
        "id": "yssaPq4YFnCU"
      }
    },
    {
      "cell_type": "code",
      "source": [
        "# A list of the randomly purchased stocks is kept for when the random model sells the stocks at the end\n",
        "random_portfolio = {}\n",
        "for stock in TESTSTOCKS:\n",
        "  random_portfolio[stock] = {\"Remaining_Cash\": 1000, \"Bought\": 0, \"Purchase_Prices\": [], \"Final_Amount_Sold\":0}\n",
        "\n",
        "# The window structure from the evaluation of the LSTM model is maintained so that the random model performs actions at the same time intervals\n",
        "for stock in TESTSTOCKS:\n",
        "  windows = prediction_windows[stock]\n",
        "  for window in windows:\n",
        "    baseline_price = window[-1]\n",
        "    current_Remaining_Cashs = random_portfolio[stock][\"Remaining_Cash\"]\n",
        "    current_bought = random_portfolio[stock][\"Bought\"]\n",
        "    random_value = random.choice([0, 1, 2])\n",
        "    if random_value == 0:\n",
        "      if current_Remaining_Cashs - 100 <= 0:\n",
        "        continue\n",
        "      else:\n",
        "        # Stocks are bought in 100 dollar increments\n",
        "        random_portfolio[stock][\"Remaining_Cash\"] =  random_portfolio[stock][\"Remaining_Cash\"] - 100\n",
        "        random_portfolio[stock][\"Bought\"] = random_portfolio[stock][\"Bought\"] + 100\n",
        "        random_portfolio[stock][\"Purchase_Prices\"].append(baseline_price)\n",
        "    elif random_value ==1:\n",
        "      if current_bought <= 0:\n",
        "        continue\n",
        "      else:\n",
        "        random_index = random.randint(0, len(random_portfolio[stock][\"Purchase_Prices\"]) - 1)\n",
        "        percentage_change = random_portfolio[stock][\"Purchase_Prices\"][i] / baseline_price\n",
        "        random_portfolio[stock][\"Remaining_Cash\"] =  random_portfolio[stock][\"Remaining_Cash\"] + (100 * percentage_change)\n",
        "        random_portfolio[stock][\"Bought\"] = random_portfolio[stock][\"Bought\"] - 100\n",
        "        prices = random_portfolio[stock][\"Purchase_Prices\"]\n",
        "        random_portfolio[stock][\"Purchase_Prices\"].remove(random_portfolio[stock][\"Purchase_Prices\"][random_index])\n",
        "    else:\n",
        "      pass\n",
        "\n",
        "  #Sells all the stocks that were bought at the very end\n",
        "  final_stock_price = float(windows[-1][-1])\n",
        "  for purchase_price in random_portfolio[stock][\"Purchase_Prices\"]:\n",
        "    purchase_price = float(purchase_price)\n",
        "    shares_bought = 100 / purchase_price\n",
        "    sale_proceeds = shares_bought * final_stock_price\n",
        "    random_portfolio[stock][\"Final_Amount_Sold\"] += sale_proceeds"
      ],
      "metadata": {
        "id": "rguN446SFuzk"
      },
      "execution_count": 129,
      "outputs": []
    },
    {
      "cell_type": "markdown",
      "source": [
        "## Profit And Loss Margins For The Random Algorithm"
      ],
      "metadata": {
        "id": "CXV9cuhuOxtw"
      }
    },
    {
      "cell_type": "code",
      "source": [
        "# Output the final earnings and losses\n",
        "for stock in TESTSTOCKS:\n",
        "  print(f\"{stock} detailed stats:\")\n",
        "  print(f\"Final Remaining Cash: {random_portfolio[stock]['Remaining_Cash']}\")\n",
        "  print(f\"Stock Quantity Bought: {random_portfolio[stock]['Bought']}\")\n",
        "  print(f\"Stock Purchase Prices: {[float(x) for x in random_portfolio[stock]['Purchase_Prices']]}\")\n",
        "  print(f\"Final Amount Sold: {[float(random_portfolio[stock]['Final_Amount_Sold'])]}\")\n",
        "  print(\"\\n\")"
      ],
      "metadata": {
        "colab": {
          "base_uri": "https://localhost:8080/"
        },
        "id": "d8BwymuUHvvt",
        "outputId": "52c1fe49-210e-4554-a742-cfc996d7f071"
      },
      "execution_count": 130,
      "outputs": [
        {
          "output_type": "stream",
          "name": "stdout",
          "text": [
            "AAPL detailed stats:\n",
            "Final Remaining Cash: 898.6619262695312\n",
            "Stock Quantity Bought: 100\n",
            "Stock Purchase Prices: [193.2924041748047]\n",
            "Final Amount Sold: [100.0]\n",
            "\n",
            "\n",
            "AMD detailed stats:\n",
            "Final Remaining Cash: 791.177001953125\n",
            "Stock Quantity Bought: 200\n",
            "Stock Purchase Prices: [160.40602111816406, 151.78341674804688]\n",
            "Final Amount Sold: [194.62451327574215]\n",
            "\n",
            "\n",
            "AMZN detailed stats:\n",
            "Final Remaining Cash: 1013.5413818359375\n",
            "Stock Quantity Bought: 0\n",
            "Stock Purchase Prices: []\n",
            "Final Amount Sold: [0.0]\n",
            "\n",
            "\n",
            "META detailed stats:\n",
            "Final Remaining Cash: 1014.377197265625\n",
            "Stock Quantity Bought: 0\n",
            "Stock Purchase Prices: []\n",
            "Final Amount Sold: [0.0]\n",
            "\n",
            "\n",
            "NFLX detailed stats:\n",
            "Final Remaining Cash: 806.975341796875\n",
            "Stock Quantity Bought: 200\n",
            "Stock Purchase Prices: [731.2801513671875, 721.989013671875]\n",
            "Final Amount Sold: [198.72946945463485]\n",
            "\n",
            "\n",
            "QCOM detailed stats:\n",
            "Final Remaining Cash: 800\n",
            "Stock Quantity Bought: 200\n",
            "Stock Purchase Prices: [170.2283172607422, 193.95233154296875]\n",
            "Final Amount Sold: [213.936585089946]\n",
            "\n",
            "\n",
            "SBUX detailed stats:\n",
            "Final Remaining Cash: 1000\n",
            "Stock Quantity Bought: 0\n",
            "Stock Purchase Prices: []\n",
            "Final Amount Sold: [0.0]\n",
            "\n",
            "\n",
            "SCSO detailed stats:\n",
            "Final Remaining Cash: 1000\n",
            "Stock Quantity Bought: 0\n",
            "Stock Purchase Prices: []\n",
            "Final Amount Sold: [0.0]\n",
            "\n",
            "\n",
            "TSLA detailed stats:\n",
            "Final Remaining Cash: 1006.4502563476562\n",
            "Stock Quantity Bought: 0\n",
            "Stock Purchase Prices: []\n",
            "Final Amount Sold: [0.0]\n",
            "\n",
            "\n"
          ]
        }
      ]
    },
    {
      "cell_type": "code",
      "source": [
        "# Final amount made and lost\n",
        "total = 0\n",
        "for stock in TESTSTOCKS:\n",
        "  print(f\"{stock} overall stats:\")\n",
        "  print(f\"Starting Amount: 1000\")\n",
        "  total += float(random_portfolio[stock]['Final_Amount_Sold']) + portfolio[stock]['Remaining_Cash']\n",
        "  print(f\"Ending Amount: {float(portfolio[stock]['Final_Amount_Sold']) + portfolio[stock]['Remaining_Cash']}\")\n",
        "  print(\"\\n\")\n",
        "print(\"-----------------------------------------------------------------------------------------------\")\n",
        "percent_change = total / 10000\n",
        "print(\"Total Beginning: 10,000 USD\\n\")\n",
        "print(f\"Total End: {total} USD\\n\")\n",
        "print(f\"Percent Change From Initial Wallet: {percent_change}\")"
      ],
      "metadata": {
        "colab": {
          "base_uri": "https://localhost:8080/"
        },
        "id": "xqYYOE8HOXHB",
        "outputId": "5b62e9bb-a621-4baf-bc20-242e9dc27bb2"
      },
      "execution_count": 131,
      "outputs": [
        {
          "output_type": "stream",
          "name": "stdout",
          "text": [
            "AAPL overall stats:\n",
            "Starting Amount: 1000\n",
            "Ending Amount: 987.6563684570206\n",
            "\n",
            "\n",
            "AMD overall stats:\n",
            "Starting Amount: 1000\n",
            "Ending Amount: 1000.0\n",
            "\n",
            "\n",
            "AMZN overall stats:\n",
            "Starting Amount: 1000\n",
            "Ending Amount: 998.6328655166965\n",
            "\n",
            "\n",
            "META overall stats:\n",
            "Starting Amount: 1000\n",
            "Ending Amount: 1007.3690795898438\n",
            "\n",
            "\n",
            "NFLX overall stats:\n",
            "Starting Amount: 1000\n",
            "Ending Amount: 1032.107421875\n",
            "\n",
            "\n",
            "QCOM overall stats:\n",
            "Starting Amount: 1000\n",
            "Ending Amount: 1023.0339017256974\n",
            "\n",
            "\n",
            "SBUX overall stats:\n",
            "Starting Amount: 1000\n",
            "Ending Amount: 989.2916259765625\n",
            "\n",
            "\n",
            "SCSO overall stats:\n",
            "Starting Amount: 1000\n",
            "Ending Amount: 1005.4957275390625\n",
            "\n",
            "\n",
            "TSLA overall stats:\n",
            "Starting Amount: 1000\n",
            "Ending Amount: 1006.9898681640625\n",
            "\n",
            "\n",
            "-----------------------------------------------------------------------------------------------\n",
            "Total Beginning: 10,000 USD\n",
            "\n",
            "Total End: 7887.703125 USD\n",
            "\n",
            "Percent Change From Initial Wallet: 0.788770318031311\n"
          ]
        }
      ]
    }
  ]
}