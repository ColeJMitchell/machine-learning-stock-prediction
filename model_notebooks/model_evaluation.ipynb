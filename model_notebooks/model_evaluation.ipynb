{
  "nbformat": 4,
  "nbformat_minor": 0,
  "metadata": {
    "colab": {
      "provenance": [],
      "authorship_tag": "ABX9TyOJiwMfEzy9i4gmKn6ognTL",
      "include_colab_link": true
    },
    "kernelspec": {
      "name": "python3",
      "display_name": "Python 3"
    },
    "language_info": {
      "name": "python"
    }
  },
  "cells": [
    {
      "cell_type": "markdown",
      "metadata": {
        "id": "view-in-github",
        "colab_type": "text"
      },
      "source": [
        "<a href=\"https://colab.research.google.com/github/ColeJMitchell/machine-learning-stock-prediction/blob/main/model_notebooks/model_evaluation.ipynb\" target=\"_parent\"><img src=\"https://colab.research.google.com/assets/colab-badge.svg\" alt=\"Open In Colab\"/></a>"
      ]
    },
    {
      "cell_type": "code",
      "source": [
        "import numpy as np\n",
        "import pandas as pd\n",
        "import yfinance as yf\n",
        "import matplotlib.pyplot as plt\n",
        "import seaborn as sns\n",
        "import datetime, time\n",
        "from termcolor import colored\n",
        "from IPython.display import clear_output\n",
        "!pip install tensorflow\n",
        "!git clone https://github.com/ColeJMitchell/machine-learning-stock-prediction\n",
        "from tensorflow.keras.models import load_model\n",
        "from sklearn.preprocessing import MinMaxScaler\n",
        "import random\n",
        "clear_output()"
      ],
      "metadata": {
        "id": "ZAlqMY-P_V-H"
      },
      "execution_count": 3,
      "outputs": []
    },
    {
      "cell_type": "markdown",
      "source": [
        "# **Loading The Data**"
      ],
      "metadata": {
        "id": "ThtLWHG9_v20"
      }
    },
    {
      "cell_type": "code",
      "source": [
        "test_stocks = ['AAPL', 'NVDA', 'MSTR', 'MP', 'PG', 'GLD', 'TSLA', 'AMC', 'META', 'HIMS']\n",
        "closing_prices = {}\n",
        "end_date = datetime.datetime.today()\n",
        "start_date = end_date - datetime.timedelta(days=210)\n",
        "for ticker in test_stocks:\n",
        "    data = yf.download(ticker, start=start_date, end=end_date)\n",
        "    closing_prices[ticker] = data[\"Close\"].values.squeeze()"
      ],
      "metadata": {
        "id": "EhD9aEgyAHD1",
        "colab": {
          "base_uri": "https://localhost:8080/"
        },
        "outputId": "0dc7c438-3594-4a66-e91e-121dbcf54b89"
      },
      "execution_count": 4,
      "outputs": [
        {
          "output_type": "stream",
          "name": "stdout",
          "text": [
            "YF.download() has changed argument auto_adjust default to True\n"
          ]
        },
        {
          "output_type": "stream",
          "name": "stderr",
          "text": [
            "[*********************100%***********************]  1 of 1 completed\n",
            "[*********************100%***********************]  1 of 1 completed\n",
            "[*********************100%***********************]  1 of 1 completed\n",
            "[*********************100%***********************]  1 of 1 completed\n",
            "[*********************100%***********************]  1 of 1 completed\n",
            "[*********************100%***********************]  1 of 1 completed\n",
            "[*********************100%***********************]  1 of 1 completed\n",
            "[*********************100%***********************]  1 of 1 completed\n",
            "[*********************100%***********************]  1 of 1 completed\n",
            "[*********************100%***********************]  1 of 1 completed\n"
          ]
        }
      ]
    },
    {
      "cell_type": "markdown",
      "source": [
        "# **Paper Trading Method 1 : Using The LSTM Model**"
      ],
      "metadata": {
        "id": "RaKjYZ50_qj6"
      }
    },
    {
      "cell_type": "code",
      "execution_count": 5,
      "metadata": {
        "colab": {
          "base_uri": "https://localhost:8080/",
          "height": 534
        },
        "id": "YMqUq-mh-czP",
        "outputId": "93bf184d-149f-4cdb-b10c-19fe8187dbc5"
      },
      "outputs": [
        {
          "output_type": "display_data",
          "data": {
            "text/plain": [
              "\u001b[1mModel: \"sequential\"\u001b[0m\n"
            ],
            "text/html": [
              "<pre style=\"white-space:pre;overflow-x:auto;line-height:normal;font-family:Menlo,'DejaVu Sans Mono',consolas,'Courier New',monospace\"><span style=\"font-weight: bold\">Model: \"sequential\"</span>\n",
              "</pre>\n"
            ]
          },
          "metadata": {}
        },
        {
          "output_type": "display_data",
          "data": {
            "text/plain": [
              "┏━━━━━━━━━━━━━━━━━━━━━━━━━━━━━━━━━┳━━━━━━━━━━━━━━━━━━━━━━━━┳━━━━━━━━━━━━━━━┓\n",
              "┃\u001b[1m \u001b[0m\u001b[1mLayer (type)                   \u001b[0m\u001b[1m \u001b[0m┃\u001b[1m \u001b[0m\u001b[1mOutput Shape          \u001b[0m\u001b[1m \u001b[0m┃\u001b[1m \u001b[0m\u001b[1m      Param #\u001b[0m\u001b[1m \u001b[0m┃\n",
              "┡━━━━━━━━━━━━━━━━━━━━━━━━━━━━━━━━━╇━━━━━━━━━━━━━━━━━━━━━━━━╇━━━━━━━━━━━━━━━┩\n",
              "│ lstm (\u001b[38;5;33mLSTM\u001b[0m)                     │ (\u001b[38;5;45mNone\u001b[0m, \u001b[38;5;34m30\u001b[0m, \u001b[38;5;34m64\u001b[0m)         │        \u001b[38;5;34m16,896\u001b[0m │\n",
              "├─────────────────────────────────┼────────────────────────┼───────────────┤\n",
              "│ batch_normalization             │ (\u001b[38;5;45mNone\u001b[0m, \u001b[38;5;34m30\u001b[0m, \u001b[38;5;34m64\u001b[0m)         │           \u001b[38;5;34m256\u001b[0m │\n",
              "│ (\u001b[38;5;33mBatchNormalization\u001b[0m)            │                        │               │\n",
              "├─────────────────────────────────┼────────────────────────┼───────────────┤\n",
              "│ activation (\u001b[38;5;33mActivation\u001b[0m)         │ (\u001b[38;5;45mNone\u001b[0m, \u001b[38;5;34m30\u001b[0m, \u001b[38;5;34m64\u001b[0m)         │             \u001b[38;5;34m0\u001b[0m │\n",
              "├─────────────────────────────────┼────────────────────────┼───────────────┤\n",
              "│ lstm_1 (\u001b[38;5;33mLSTM\u001b[0m)                   │ (\u001b[38;5;45mNone\u001b[0m, \u001b[38;5;34m32\u001b[0m)             │        \u001b[38;5;34m12,416\u001b[0m │\n",
              "├─────────────────────────────────┼────────────────────────┼───────────────┤\n",
              "│ batch_normalization_1           │ (\u001b[38;5;45mNone\u001b[0m, \u001b[38;5;34m32\u001b[0m)             │           \u001b[38;5;34m128\u001b[0m │\n",
              "│ (\u001b[38;5;33mBatchNormalization\u001b[0m)            │                        │               │\n",
              "├─────────────────────────────────┼────────────────────────┼───────────────┤\n",
              "│ activation_1 (\u001b[38;5;33mActivation\u001b[0m)       │ (\u001b[38;5;45mNone\u001b[0m, \u001b[38;5;34m32\u001b[0m)             │             \u001b[38;5;34m0\u001b[0m │\n",
              "├─────────────────────────────────┼────────────────────────┼───────────────┤\n",
              "│ dense (\u001b[38;5;33mDense\u001b[0m)                   │ (\u001b[38;5;45mNone\u001b[0m, \u001b[38;5;34m16\u001b[0m)             │           \u001b[38;5;34m528\u001b[0m │\n",
              "├─────────────────────────────────┼────────────────────────┼───────────────┤\n",
              "│ dropout (\u001b[38;5;33mDropout\u001b[0m)               │ (\u001b[38;5;45mNone\u001b[0m, \u001b[38;5;34m16\u001b[0m)             │             \u001b[38;5;34m0\u001b[0m │\n",
              "├─────────────────────────────────┼────────────────────────┼───────────────┤\n",
              "│ dense_1 (\u001b[38;5;33mDense\u001b[0m)                 │ (\u001b[38;5;45mNone\u001b[0m, \u001b[38;5;34m16\u001b[0m)             │           \u001b[38;5;34m272\u001b[0m │\n",
              "├─────────────────────────────────┼────────────────────────┼───────────────┤\n",
              "│ dropout_1 (\u001b[38;5;33mDropout\u001b[0m)             │ (\u001b[38;5;45mNone\u001b[0m, \u001b[38;5;34m16\u001b[0m)             │             \u001b[38;5;34m0\u001b[0m │\n",
              "├─────────────────────────────────┼────────────────────────┼───────────────┤\n",
              "│ dense_2 (\u001b[38;5;33mDense\u001b[0m)                 │ (\u001b[38;5;45mNone\u001b[0m, \u001b[38;5;34m1\u001b[0m)              │            \u001b[38;5;34m17\u001b[0m │\n",
              "└─────────────────────────────────┴────────────────────────┴───────────────┘\n"
            ],
            "text/html": [
              "<pre style=\"white-space:pre;overflow-x:auto;line-height:normal;font-family:Menlo,'DejaVu Sans Mono',consolas,'Courier New',monospace\">┏━━━━━━━━━━━━━━━━━━━━━━━━━━━━━━━━━┳━━━━━━━━━━━━━━━━━━━━━━━━┳━━━━━━━━━━━━━━━┓\n",
              "┃<span style=\"font-weight: bold\"> Layer (type)                    </span>┃<span style=\"font-weight: bold\"> Output Shape           </span>┃<span style=\"font-weight: bold\">       Param # </span>┃\n",
              "┡━━━━━━━━━━━━━━━━━━━━━━━━━━━━━━━━━╇━━━━━━━━━━━━━━━━━━━━━━━━╇━━━━━━━━━━━━━━━┩\n",
              "│ lstm (<span style=\"color: #0087ff; text-decoration-color: #0087ff\">LSTM</span>)                     │ (<span style=\"color: #00d7ff; text-decoration-color: #00d7ff\">None</span>, <span style=\"color: #00af00; text-decoration-color: #00af00\">30</span>, <span style=\"color: #00af00; text-decoration-color: #00af00\">64</span>)         │        <span style=\"color: #00af00; text-decoration-color: #00af00\">16,896</span> │\n",
              "├─────────────────────────────────┼────────────────────────┼───────────────┤\n",
              "│ batch_normalization             │ (<span style=\"color: #00d7ff; text-decoration-color: #00d7ff\">None</span>, <span style=\"color: #00af00; text-decoration-color: #00af00\">30</span>, <span style=\"color: #00af00; text-decoration-color: #00af00\">64</span>)         │           <span style=\"color: #00af00; text-decoration-color: #00af00\">256</span> │\n",
              "│ (<span style=\"color: #0087ff; text-decoration-color: #0087ff\">BatchNormalization</span>)            │                        │               │\n",
              "├─────────────────────────────────┼────────────────────────┼───────────────┤\n",
              "│ activation (<span style=\"color: #0087ff; text-decoration-color: #0087ff\">Activation</span>)         │ (<span style=\"color: #00d7ff; text-decoration-color: #00d7ff\">None</span>, <span style=\"color: #00af00; text-decoration-color: #00af00\">30</span>, <span style=\"color: #00af00; text-decoration-color: #00af00\">64</span>)         │             <span style=\"color: #00af00; text-decoration-color: #00af00\">0</span> │\n",
              "├─────────────────────────────────┼────────────────────────┼───────────────┤\n",
              "│ lstm_1 (<span style=\"color: #0087ff; text-decoration-color: #0087ff\">LSTM</span>)                   │ (<span style=\"color: #00d7ff; text-decoration-color: #00d7ff\">None</span>, <span style=\"color: #00af00; text-decoration-color: #00af00\">32</span>)             │        <span style=\"color: #00af00; text-decoration-color: #00af00\">12,416</span> │\n",
              "├─────────────────────────────────┼────────────────────────┼───────────────┤\n",
              "│ batch_normalization_1           │ (<span style=\"color: #00d7ff; text-decoration-color: #00d7ff\">None</span>, <span style=\"color: #00af00; text-decoration-color: #00af00\">32</span>)             │           <span style=\"color: #00af00; text-decoration-color: #00af00\">128</span> │\n",
              "│ (<span style=\"color: #0087ff; text-decoration-color: #0087ff\">BatchNormalization</span>)            │                        │               │\n",
              "├─────────────────────────────────┼────────────────────────┼───────────────┤\n",
              "│ activation_1 (<span style=\"color: #0087ff; text-decoration-color: #0087ff\">Activation</span>)       │ (<span style=\"color: #00d7ff; text-decoration-color: #00d7ff\">None</span>, <span style=\"color: #00af00; text-decoration-color: #00af00\">32</span>)             │             <span style=\"color: #00af00; text-decoration-color: #00af00\">0</span> │\n",
              "├─────────────────────────────────┼────────────────────────┼───────────────┤\n",
              "│ dense (<span style=\"color: #0087ff; text-decoration-color: #0087ff\">Dense</span>)                   │ (<span style=\"color: #00d7ff; text-decoration-color: #00d7ff\">None</span>, <span style=\"color: #00af00; text-decoration-color: #00af00\">16</span>)             │           <span style=\"color: #00af00; text-decoration-color: #00af00\">528</span> │\n",
              "├─────────────────────────────────┼────────────────────────┼───────────────┤\n",
              "│ dropout (<span style=\"color: #0087ff; text-decoration-color: #0087ff\">Dropout</span>)               │ (<span style=\"color: #00d7ff; text-decoration-color: #00d7ff\">None</span>, <span style=\"color: #00af00; text-decoration-color: #00af00\">16</span>)             │             <span style=\"color: #00af00; text-decoration-color: #00af00\">0</span> │\n",
              "├─────────────────────────────────┼────────────────────────┼───────────────┤\n",
              "│ dense_1 (<span style=\"color: #0087ff; text-decoration-color: #0087ff\">Dense</span>)                 │ (<span style=\"color: #00d7ff; text-decoration-color: #00d7ff\">None</span>, <span style=\"color: #00af00; text-decoration-color: #00af00\">16</span>)             │           <span style=\"color: #00af00; text-decoration-color: #00af00\">272</span> │\n",
              "├─────────────────────────────────┼────────────────────────┼───────────────┤\n",
              "│ dropout_1 (<span style=\"color: #0087ff; text-decoration-color: #0087ff\">Dropout</span>)             │ (<span style=\"color: #00d7ff; text-decoration-color: #00d7ff\">None</span>, <span style=\"color: #00af00; text-decoration-color: #00af00\">16</span>)             │             <span style=\"color: #00af00; text-decoration-color: #00af00\">0</span> │\n",
              "├─────────────────────────────────┼────────────────────────┼───────────────┤\n",
              "│ dense_2 (<span style=\"color: #0087ff; text-decoration-color: #0087ff\">Dense</span>)                 │ (<span style=\"color: #00d7ff; text-decoration-color: #00d7ff\">None</span>, <span style=\"color: #00af00; text-decoration-color: #00af00\">1</span>)              │            <span style=\"color: #00af00; text-decoration-color: #00af00\">17</span> │\n",
              "└─────────────────────────────────┴────────────────────────┴───────────────┘\n",
              "</pre>\n"
            ]
          },
          "metadata": {}
        },
        {
          "output_type": "display_data",
          "data": {
            "text/plain": [
              "\u001b[1m Total params: \u001b[0m\u001b[38;5;34m30,513\u001b[0m (119.19 KB)\n"
            ],
            "text/html": [
              "<pre style=\"white-space:pre;overflow-x:auto;line-height:normal;font-family:Menlo,'DejaVu Sans Mono',consolas,'Courier New',monospace\"><span style=\"font-weight: bold\"> Total params: </span><span style=\"color: #00af00; text-decoration-color: #00af00\">30,513</span> (119.19 KB)\n",
              "</pre>\n"
            ]
          },
          "metadata": {}
        },
        {
          "output_type": "display_data",
          "data": {
            "text/plain": [
              "\u001b[1m Trainable params: \u001b[0m\u001b[38;5;34m30,321\u001b[0m (118.44 KB)\n"
            ],
            "text/html": [
              "<pre style=\"white-space:pre;overflow-x:auto;line-height:normal;font-family:Menlo,'DejaVu Sans Mono',consolas,'Courier New',monospace\"><span style=\"font-weight: bold\"> Trainable params: </span><span style=\"color: #00af00; text-decoration-color: #00af00\">30,321</span> (118.44 KB)\n",
              "</pre>\n"
            ]
          },
          "metadata": {}
        },
        {
          "output_type": "display_data",
          "data": {
            "text/plain": [
              "\u001b[1m Non-trainable params: \u001b[0m\u001b[38;5;34m192\u001b[0m (768.00 B)\n"
            ],
            "text/html": [
              "<pre style=\"white-space:pre;overflow-x:auto;line-height:normal;font-family:Menlo,'DejaVu Sans Mono',consolas,'Courier New',monospace\"><span style=\"font-weight: bold\"> Non-trainable params: </span><span style=\"color: #00af00; text-decoration-color: #00af00\">192</span> (768.00 B)\n",
              "</pre>\n"
            ]
          },
          "metadata": {}
        }
      ],
      "source": [
        "#Load the LSTM model and simulate it by paper trading\n",
        "model = load_model(\"machine-learning-stock-prediction/saved_models/stock_prediction.h5\", compile = False)\n",
        "model.summary()"
      ]
    },
    {
      "cell_type": "code",
      "source": [
        "# Number of closing price values for each stock ticker\n",
        "print(f\"Number of Closing Price Data Points: {len(closing_prices['AAPL'])}\")"
      ],
      "metadata": {
        "colab": {
          "base_uri": "https://localhost:8080/"
        },
        "id": "e-j5A4Z2_ZHZ",
        "outputId": "6cbae28f-7c36-4853-f7cf-54d877dddc19"
      },
      "execution_count": 6,
      "outputs": [
        {
          "output_type": "stream",
          "name": "stdout",
          "text": [
            "Number of Closing Price Data Points: 143\n"
          ]
        }
      ]
    },
    {
      "cell_type": "markdown",
      "source": [
        "## Preprocessing The Data With Sliding Windows To Match Shape Required By The LSTM"
      ],
      "metadata": {
        "id": "JRiTIDUnAc0Q"
      }
    },
    {
      "cell_type": "code",
      "source": [
        "window_size = 30\n",
        "closing_price_windows = {}\n",
        "# Stocks need to remain separate for the paper trading\n",
        "for ticker in test_stocks:\n",
        "    closing_price_windows[ticker] = []\n",
        "    for i in range(0, 144 - window_size + 1, window_size):\n",
        "        window = closing_prices[ticker][i:i + window_size]\n",
        "        closing_price_windows[ticker].append(np.array(window))\n",
        "\n",
        "print(f\"Shape of Closing Price Sliding Windows: {np.array(closing_price_windows[test_stocks[0]]).shape}\")"
      ],
      "metadata": {
        "colab": {
          "base_uri": "https://localhost:8080/"
        },
        "id": "suHx_yLpAqg-",
        "outputId": "c973e04c-8c15-458a-d9c2-2cdd1d1647fc"
      },
      "execution_count": 7,
      "outputs": [
        {
          "output_type": "stream",
          "name": "stdout",
          "text": [
            "Shape of Closing Price Sliding Windows: (4, 30)\n"
          ]
        }
      ]
    },
    {
      "cell_type": "markdown",
      "source": [
        "# **Paper Trading Method 1 : LSTM Model**"
      ],
      "metadata": {
        "id": "vT_URB7dA7tt"
      }
    },
    {
      "cell_type": "code",
      "source": [
        "# A list of stocks purchased by the LSTM model is saved so it can know when to sell,\n",
        "# the model starts with the same amount of money as the random model - 10,000 dollars\n",
        "portfolio = {}\n",
        "initial_wallet = 10000\n",
        "\n",
        "for stock in test_stocks:\n",
        "    portfolio[stock] = {\n",
        "        \"Remaining_Cash\": 1000,\n",
        "        \"Bought\": 0,\n",
        "        \"Purchase_Prices\": [],\n",
        "        \"Final_Amount_Sold\": 0\n",
        "    }\n",
        "\n",
        "# If a stock is predicted to rise in the future (larger value than final entry in sliding window),\n",
        "# it is bought by the model, $100 of the allocated money for the stock is bought.\n",
        "# If the stock is predicted to fall below the purchase price the stock is sold at the baseline price (last day of the sliding window)\n",
        "for stock in test_stocks:\n",
        "    windows = closing_price_windows[stock]\n",
        "    for window in windows:\n",
        "        baseline_price = window[-1]\n",
        "        scaler = MinMaxScaler(feature_range=(0, 1))\n",
        "        normalized_window = scaler.fit_transform(window.reshape(-1, 1))\n",
        "\n",
        "        # The model makes a prediction based on the window and compares it to the last day in the window to decide whether to buy, sell, or do nothing\n",
        "        prediction = model.predict(normalized_window.reshape(1, 30), verbose=0)\n",
        "        prediction = scaler.inverse_transform(prediction).item()\n",
        "\n",
        "        current_remaining_cash = portfolio[stock][\"Remaining_Cash\"]\n",
        "        current_bought = portfolio[stock][\"Bought\"]\n",
        "        purchase_prices = portfolio[stock][\"Purchase_Prices\"]\n",
        "\n",
        "        # When the model thinks the price will go up\n",
        "        if baseline_price < prediction:\n",
        "            if current_remaining_cash >= 200:\n",
        "                # Stocks are bought in 200 dollar increments\n",
        "                portfolio[stock][\"Remaining_Cash\"] -= 200\n",
        "                portfolio[stock][\"Bought\"] += 200\n",
        "                purchase_prices.append(baseline_price)\n",
        "\n",
        "        # When the model things the price will go down\n",
        "        elif baseline_price > prediction:\n",
        "            if current_bought > 0:\n",
        "                # Copy the list to avoid mutation during iteration\n",
        "                for price in purchase_prices[:]:\n",
        "                    # Sells the bought stock at the baseline price if the prediction anticipates that the stock price will go down.\n",
        "                    # The final bought calculation only considers the final liquidation so 100 is removed when sold.\n",
        "                    if price > prediction:\n",
        "                        percentage_change = baseline_price / price\n",
        "                        portfolio[stock][\"Remaining_Cash\"] += 200 * percentage_change\n",
        "                        portfolio[stock][\"Bought\"] -= 200\n",
        "                        purchase_prices.remove(price)\n",
        "                        break\n",
        "        else:\n",
        "            pass\n",
        "\n",
        "    # Sells all the stocks that were bought at the very end\n",
        "    final_stock_price = float(windows[-1][-1])\n",
        "    for purchase_price in portfolio[stock][\"Purchase_Prices\"]:\n",
        "        percentage_change = final_stock_price / purchase_price\n",
        "        sale_proceeds = 200 * percentage_change\n",
        "        portfolio[stock][\"Final_Amount_Sold\"] += sale_proceeds\n"
      ],
      "metadata": {
        "id": "ocZayl68A1a2"
      },
      "execution_count": 8,
      "outputs": []
    },
    {
      "cell_type": "markdown",
      "source": [
        "## Profit And Loss Margins For The LSTM Model"
      ],
      "metadata": {
        "id": "KnD6Rf3BBM73"
      }
    },
    {
      "cell_type": "code",
      "source": [
        "# Output the final earnings and losses\n",
        "for stock in test_stocks:\n",
        "  print(f\"{stock} detailed stats:\")\n",
        "  print(f\"Final Remaining Cash: {int(portfolio[stock]['Remaining_Cash'])}$\")\n",
        "  print(f\"Stock Quantity Bought At Liquidation: {portfolio[stock]['Bought']}$\")\n",
        "  print(f\"Stock Purchase Prices At Liquidation: {[int(x) for x in portfolio[stock]['Purchase_Prices']]}\")\n",
        "  print(f\"Final Amount Sold: {int(portfolio[stock]['Final_Amount_Sold'])}$\")\n",
        "  print(\"\\n\")"
      ],
      "metadata": {
        "colab": {
          "base_uri": "https://localhost:8080/"
        },
        "id": "sJxRHVjPBGTr",
        "outputId": "90f43388-61ab-45ec-c53b-8dca2b1af20c"
      },
      "execution_count": 9,
      "outputs": [
        {
          "output_type": "stream",
          "name": "stdout",
          "text": [
            "AAPL detailed stats:\n",
            "Final Remaining Cash: 963$\n",
            "Stock Quantity Bought At Liquidation: 0$\n",
            "Stock Purchase Prices At Liquidation: []\n",
            "Final Amount Sold: 0$\n",
            "\n",
            "\n",
            "NVDA detailed stats:\n",
            "Final Remaining Cash: 200$\n",
            "Stock Quantity Bought At Liquidation: 800$\n",
            "Stock Purchase Prices At Liquidation: [135, 131, 120, 107]\n",
            "Final Amount Sold: 701$\n",
            "\n",
            "\n",
            "MSTR detailed stats:\n",
            "Final Remaining Cash: 800$\n",
            "Stock Quantity Bought At Liquidation: 200$\n",
            "Stock Purchase Prices At Liquidation: [240]\n",
            "Final Amount Sold: 226$\n",
            "\n",
            "\n",
            "MP detailed stats:\n",
            "Final Remaining Cash: 800$\n",
            "Stock Quantity Bought At Liquidation: 200$\n",
            "Stock Purchase Prices At Liquidation: [23]\n",
            "Final Amount Sold: 200$\n",
            "\n",
            "\n",
            "PG detailed stats:\n",
            "Final Remaining Cash: 800$\n",
            "Stock Quantity Bought At Liquidation: 200$\n",
            "Stock Purchase Prices At Liquidation: [157]\n",
            "Final Amount Sold: 206$\n",
            "\n",
            "\n",
            "GLD detailed stats:\n",
            "Final Remaining Cash: 1000$\n",
            "Stock Quantity Bought At Liquidation: 0$\n",
            "Stock Purchase Prices At Liquidation: []\n",
            "Final Amount Sold: 0$\n",
            "\n",
            "\n",
            "TSLA detailed stats:\n",
            "Final Remaining Cash: 400$\n",
            "Stock Quantity Bought At Liquidation: 600$\n",
            "Stock Purchase Prices At Liquidation: [396, 281, 252]\n",
            "Final Amount Sold: 506$\n",
            "\n",
            "\n",
            "AMC detailed stats:\n",
            "Final Remaining Cash: 780$\n",
            "Stock Quantity Bought At Liquidation: 200$\n",
            "Stock Purchase Prices At Liquidation: [3]\n",
            "Final Amount Sold: 181$\n",
            "\n",
            "\n",
            "META detailed stats:\n",
            "Final Remaining Cash: 992$\n",
            "Stock Quantity Bought At Liquidation: 0$\n",
            "Stock Purchase Prices At Liquidation: []\n",
            "Final Amount Sold: 0$\n",
            "\n",
            "\n",
            "HIMS detailed stats:\n",
            "Final Remaining Cash: 600$\n",
            "Stock Quantity Bought At Liquidation: 400$\n",
            "Stock Purchase Prices At Liquidation: [26, 26]\n",
            "Final Amount Sold: 404$\n",
            "\n",
            "\n"
          ]
        }
      ]
    },
    {
      "cell_type": "code",
      "source": [
        "# Final amount made and lost\n",
        "total = 0\n",
        "for stock in test_stocks:\n",
        "  print(f\"{stock} overall stats:\")\n",
        "  print(f\"Starting Amount: 1000$\")\n",
        "  total += float(portfolio[stock]['Final_Amount_Sold']) + portfolio[stock]['Remaining_Cash']\n",
        "  print(f\"Ending Amount: {int(portfolio[stock]['Final_Amount_Sold'] + portfolio[stock]['Remaining_Cash'])}$\")\n",
        "  print(\"\\n\")\n",
        "print(\"-----------------------------------------------------------------------------------------------\")\n",
        "percent_change = total / 10000\n",
        "print(\"Total Beginning: 10,000$\\n\")\n",
        "print(f\"Total End: {int(total)}$\\n\")\n",
        "print(f\"Percent Change From Initial Wallet: {round(percent_change*100,3)}%\")"
      ],
      "metadata": {
        "colab": {
          "base_uri": "https://localhost:8080/"
        },
        "id": "0FoCD_S6Bd4-",
        "outputId": "9293fa19-d3c6-41ea-be66-2f21a913ccf6"
      },
      "execution_count": 10,
      "outputs": [
        {
          "output_type": "stream",
          "name": "stdout",
          "text": [
            "AAPL overall stats:\n",
            "Starting Amount: 1000$\n",
            "Ending Amount: 963$\n",
            "\n",
            "\n",
            "NVDA overall stats:\n",
            "Starting Amount: 1000$\n",
            "Ending Amount: 901$\n",
            "\n",
            "\n",
            "MSTR overall stats:\n",
            "Starting Amount: 1000$\n",
            "Ending Amount: 1026$\n",
            "\n",
            "\n",
            "MP overall stats:\n",
            "Starting Amount: 1000$\n",
            "Ending Amount: 1000$\n",
            "\n",
            "\n",
            "PG overall stats:\n",
            "Starting Amount: 1000$\n",
            "Ending Amount: 1006$\n",
            "\n",
            "\n",
            "GLD overall stats:\n",
            "Starting Amount: 1000$\n",
            "Ending Amount: 1000$\n",
            "\n",
            "\n",
            "TSLA overall stats:\n",
            "Starting Amount: 1000$\n",
            "Ending Amount: 906$\n",
            "\n",
            "\n",
            "AMC overall stats:\n",
            "Starting Amount: 1000$\n",
            "Ending Amount: 961$\n",
            "\n",
            "\n",
            "META overall stats:\n",
            "Starting Amount: 1000$\n",
            "Ending Amount: 992$\n",
            "\n",
            "\n",
            "HIMS overall stats:\n",
            "Starting Amount: 1000$\n",
            "Ending Amount: 1004$\n",
            "\n",
            "\n",
            "-----------------------------------------------------------------------------------------------\n",
            "Total Beginning: 10,000$\n",
            "\n",
            "Total End: 9762$\n",
            "\n",
            "Percent Change From Initial Wallet: 97.626%\n"
          ]
        }
      ]
    },
    {
      "cell_type": "markdown",
      "source": [
        "# **Paper Trading Method 2 : Random Behavior**"
      ],
      "metadata": {
        "id": "yssaPq4YFnCU"
      }
    },
    {
      "cell_type": "code",
      "source": [
        "# A list of the randomly purchased stocks is kept for when the model sells the stocks at the end\n",
        "random_portfolio = {}\n",
        "for stock in test_stocks:\n",
        "    random_portfolio[stock] = {\n",
        "        \"Remaining_Cash\": 1000,\n",
        "        \"Bought\": 0,\n",
        "        \"Purchase_Prices\": [],\n",
        "        \"Final_Amount_Sold\": 0\n",
        "    }\n",
        "\n",
        "# The window structure from the evaluation of the LSTM model is maintained so that the random model performs actions at the same time intervals\n",
        "for stock in test_stocks:\n",
        "    windows = closing_price_windows[stock]\n",
        "    for window in windows:\n",
        "        baseline_price = window[-1]\n",
        "        current_remaining_cash = random_portfolio[stock][\"Remaining_Cash\"]\n",
        "        current_bought = random_portfolio[stock][\"Bought\"]\n",
        "        purchase_prices = random_portfolio[stock][\"Purchase_Prices\"]\n",
        "\n",
        "        random_value = random.choice([0, 1, 2])\n",
        "\n",
        "        if random_value == 0:\n",
        "            if current_remaining_cash >= 200:\n",
        "                # Stocks are still bought in 200 dollar increments\n",
        "                random_portfolio[stock][\"Remaining_Cash\"] -= 200\n",
        "                random_portfolio[stock][\"Bought\"] += 200\n",
        "                purchase_prices.append(baseline_price)\n",
        "\n",
        "        elif random_value == 1:\n",
        "            if current_bought > 0 and purchase_prices:\n",
        "                # The selling logic is also the same as the LSTM except it picks a stock at random out of the purchased list\n",
        "                random_index = random.randint(0, len(purchase_prices) - 1)\n",
        "                purchase_price = purchase_prices.pop(random_index)\n",
        "                percentage_change = baseline_price / purchase_price\n",
        "                random_portfolio[stock][\"Remaining_Cash\"] += 200 * percentage_change\n",
        "                random_portfolio[stock][\"Bought\"] -= 200\n",
        "\n",
        "        else:\n",
        "            pass\n",
        "\n",
        "    # Liquidates all the stocks that were bought at the very end\n",
        "    final_stock_price = float(windows[-1][-1])\n",
        "    for purchase_price in random_portfolio[stock][\"Purchase_Prices\"]:\n",
        "        percentage_change = final_stock_price / purchase_price\n",
        "        sale_proceeds = 100 * percentage_change\n",
        "        random_portfolio[stock][\"Final_Amount_Sold\"] += sale_proceeds\n"
      ],
      "metadata": {
        "id": "rguN446SFuzk"
      },
      "execution_count": 11,
      "outputs": []
    },
    {
      "cell_type": "markdown",
      "source": [
        "## Profit And Loss Margins For The Random Algorithm"
      ],
      "metadata": {
        "id": "CXV9cuhuOxtw"
      }
    },
    {
      "cell_type": "code",
      "source": [
        "# Output the final earnings and losses\n",
        "for stock in test_stocks:\n",
        "  print(f\"{stock} detailed stats:\")\n",
        "  print(f\"Final Remaining Cash: {int(random_portfolio[stock]['Remaining_Cash'])}$\")\n",
        "  print(f\"Stock Quantity Bought At Liquidation: {random_portfolio[stock]['Bought']}$\")\n",
        "  print(f\"Stock Purchase Prices At Liquidation: {[int(x) for x in random_portfolio[stock]['Purchase_Prices']]}\")\n",
        "  print(f\"Final Amount Sold: {int(random_portfolio[stock]['Final_Amount_Sold'])}$\")\n",
        "  print(\"\\n\")"
      ],
      "metadata": {
        "colab": {
          "base_uri": "https://localhost:8080/"
        },
        "id": "d8BwymuUHvvt",
        "outputId": "1cff4f4c-c8f2-440a-8f58-4de118fd53f2"
      },
      "execution_count": 12,
      "outputs": [
        {
          "output_type": "stream",
          "name": "stdout",
          "text": [
            "AAPL detailed stats:\n",
            "Final Remaining Cash: 1003$\n",
            "Stock Quantity Bought At Liquidation: 0$\n",
            "Stock Purchase Prices At Liquidation: []\n",
            "Final Amount Sold: 0$\n",
            "\n",
            "\n",
            "NVDA detailed stats:\n",
            "Final Remaining Cash: 763$\n",
            "Stock Quantity Bought At Liquidation: 200$\n",
            "Stock Purchase Prices At Liquidation: [135]\n",
            "Final Amount Sold: 79$\n",
            "\n",
            "\n",
            "MSTR detailed stats:\n",
            "Final Remaining Cash: 600$\n",
            "Stock Quantity Bought At Liquidation: 400$\n",
            "Stock Purchase Prices At Liquidation: [342, 240]\n",
            "Final Amount Sold: 193$\n",
            "\n",
            "\n",
            "MP detailed stats:\n",
            "Final Remaining Cash: 1000$\n",
            "Stock Quantity Bought At Liquidation: 0$\n",
            "Stock Purchase Prices At Liquidation: []\n",
            "Final Amount Sold: 0$\n",
            "\n",
            "\n",
            "PG detailed stats:\n",
            "Final Remaining Cash: 600$\n",
            "Stock Quantity Bought At Liquidation: 400$\n",
            "Stock Purchase Prices At Liquidation: [157, 162]\n",
            "Final Amount Sold: 203$\n",
            "\n",
            "\n",
            "GLD detailed stats:\n",
            "Final Remaining Cash: 617$\n",
            "Stock Quantity Bought At Liquidation: 400$\n",
            "Stock Purchase Prices At Liquidation: [247, 292]\n",
            "Final Amount Sold: 218$\n",
            "\n",
            "\n",
            "TSLA detailed stats:\n",
            "Final Remaining Cash: 727$\n",
            "Stock Quantity Bought At Liquidation: 200$\n",
            "Stock Purchase Prices At Liquidation: [281]\n",
            "Final Amount Sold: 89$\n",
            "\n",
            "\n",
            "AMC detailed stats:\n",
            "Final Remaining Cash: 998$\n",
            "Stock Quantity Bought At Liquidation: 0$\n",
            "Stock Purchase Prices At Liquidation: []\n",
            "Final Amount Sold: 0$\n",
            "\n",
            "\n",
            "META detailed stats:\n",
            "Final Remaining Cash: 600$\n",
            "Stock Quantity Bought At Liquidation: 400$\n",
            "Stock Purchase Prices At Liquidation: [657, 546]\n",
            "Final Amount Sold: 183$\n",
            "\n",
            "\n",
            "HIMS detailed stats:\n",
            "Final Remaining Cash: 972$\n",
            "Stock Quantity Bought At Liquidation: 0$\n",
            "Stock Purchase Prices At Liquidation: []\n",
            "Final Amount Sold: 0$\n",
            "\n",
            "\n"
          ]
        }
      ]
    },
    {
      "cell_type": "code",
      "source": [
        "# Final amount made and lost\n",
        "total = 0\n",
        "for stock in test_stocks:\n",
        "  print(f\"{stock} overall stats:\")\n",
        "  print(f\"Starting Amount: 1000\")\n",
        "  total += int(random_portfolio[stock]['Final_Amount_Sold']) + random_portfolio[stock]['Remaining_Cash']\n",
        "  print(f\"Ending Amount: {int(random_portfolio[stock]['Final_Amount_Sold'] + random_portfolio[stock]['Remaining_Cash'])}$\")\n",
        "  print(\"\\n\")\n",
        "print(\"-----------------------------------------------------------------------------------------------\")\n",
        "percent_change = total / 10000\n",
        "print(\"Total Beginning: 10,000$\\n\")\n",
        "print(f\"Total End: {int(total)}$\\n\")\n",
        "print(f\"Percent Change From Initial Wallet: {round(percent_change*100,3)}%\")"
      ],
      "metadata": {
        "colab": {
          "base_uri": "https://localhost:8080/"
        },
        "id": "xqYYOE8HOXHB",
        "outputId": "83bfd768-7f36-4d54-ad15-3100c7d62de1"
      },
      "execution_count": 13,
      "outputs": [
        {
          "output_type": "stream",
          "name": "stdout",
          "text": [
            "AAPL overall stats:\n",
            "Starting Amount: 1000\n",
            "Ending Amount: 1003$\n",
            "\n",
            "\n",
            "NVDA overall stats:\n",
            "Starting Amount: 1000\n",
            "Ending Amount: 842$\n",
            "\n",
            "\n",
            "MSTR overall stats:\n",
            "Starting Amount: 1000\n",
            "Ending Amount: 793$\n",
            "\n",
            "\n",
            "MP overall stats:\n",
            "Starting Amount: 1000\n",
            "Ending Amount: 1000$\n",
            "\n",
            "\n",
            "PG overall stats:\n",
            "Starting Amount: 1000\n",
            "Ending Amount: 803$\n",
            "\n",
            "\n",
            "GLD overall stats:\n",
            "Starting Amount: 1000\n",
            "Ending Amount: 835$\n",
            "\n",
            "\n",
            "TSLA overall stats:\n",
            "Starting Amount: 1000\n",
            "Ending Amount: 816$\n",
            "\n",
            "\n",
            "AMC overall stats:\n",
            "Starting Amount: 1000\n",
            "Ending Amount: 998$\n",
            "\n",
            "\n",
            "META overall stats:\n",
            "Starting Amount: 1000\n",
            "Ending Amount: 783$\n",
            "\n",
            "\n",
            "HIMS overall stats:\n",
            "Starting Amount: 1000\n",
            "Ending Amount: 972$\n",
            "\n",
            "\n",
            "-----------------------------------------------------------------------------------------------\n",
            "Total Beginning: 10,000$\n",
            "\n",
            "Total End: 8848$\n",
            "\n",
            "Percent Change From Initial Wallet: 88.485%\n"
          ]
        }
      ]
    },
    {
      "cell_type": "markdown",
      "source": [
        "# **Paper Trading Method 3 : Sentiment Analysis**\n",
        "\n"
      ],
      "metadata": {
        "id": "6HyYbrqOIMZ_"
      }
    },
    {
      "cell_type": "code",
      "source": [
        "# Load the sentiment data from the parquet\n",
        "sentiment_data = pd.read_parquet(\"machine-learning-stock-prediction/data/posts-with-tickers-wss.parquet\")\n",
        "positive_sentiment = {}\n",
        "negative_sentiment = {}\n",
        "for stock in test_stocks:\n",
        "    # Filter rows where ticker == stock and extract the sentiment scores\n",
        "    positive_sentiment[stock] = round(sum(sentiment_data.loc[sentiment_data['ticker'] == stock, 'ss_pos'].values) / len(sentiment_data.loc[sentiment_data['ticker'] == stock, 'ss_pos'].values), 4) * 100\n",
        "    negative_sentiment[stock] = round(sum(sentiment_data.loc[sentiment_data['ticker'] == stock, 'ss_neg'].values) / len(sentiment_data.loc[sentiment_data['ticker'] == stock, 'ss_neg'].values), 4) * 100\n",
        "print(\"Raw sentiment data: \\n\")\n",
        "print(\"Positive: \")\n",
        "print(positive_sentiment)\n",
        "print(\"\\nNegative: \")\n",
        "print(negative_sentiment)\n",
        "print(\"\\n\")\n",
        "\n",
        "\n",
        "# Calculate how much the positive and negative sentiment contributes to overall percentage\n",
        "buy_distribution = {}\n",
        "sell_distribution = {}\n",
        "for stock in test_stocks:\n",
        "  positive = int(positive_sentiment.get(stock))\n",
        "  negative = int(negative_sentiment.get(stock))\n",
        "  total = positive + negative\n",
        "  buy_distribution[stock] = round(positive / total, 2)\n",
        "  sell_distribution[stock] = round(negative / total, 2)\n",
        "print(\"Sentiment Distributions: \\n\")\n",
        "print(\"Positive: \")\n",
        "print(buy_distribution)\n",
        "print(\"\\nNegative: \")\n",
        "print(sell_distribution)"
      ],
      "metadata": {
        "colab": {
          "base_uri": "https://localhost:8080/"
        },
        "id": "WDx5Hk0aIKYm",
        "outputId": "f8d5a1af-4282-4715-e8cf-e940f95542ee"
      },
      "execution_count": 14,
      "outputs": [
        {
          "output_type": "stream",
          "name": "stdout",
          "text": [
            "Raw sentiment data: \n",
            "\n",
            "Positive: \n",
            "{'AAPL': np.float64(10.84), 'NVDA': np.float64(23.849999999999998), 'MSTR': np.float64(24.3), 'MP': np.float64(16.2), 'PG': np.float64(17.2), 'GLD': np.float64(7.9), 'TSLA': np.float64(13.33), 'AMC': np.float64(16.42), 'META': np.float64(20.65), 'HIMS': np.float64(19.5)}\n",
            "\n",
            "Negative: \n",
            "{'AAPL': np.float64(8.309999999999999), 'NVDA': np.float64(7.000000000000001), 'MSTR': np.float64(9.700000000000001), 'MP': np.float64(6.3), 'PG': np.float64(0.0), 'GLD': np.float64(13.700000000000001), 'TSLA': np.float64(10.58), 'AMC': np.float64(12.25), 'META': np.float64(25.650000000000002), 'HIMS': np.float64(7.8)}\n",
            "\n",
            "\n",
            "Sentiment Distributions: \n",
            "\n",
            "Positive: \n",
            "{'AAPL': 0.56, 'NVDA': 0.77, 'MSTR': 0.73, 'MP': 0.73, 'PG': 1.0, 'GLD': 0.35, 'TSLA': 0.57, 'AMC': 0.57, 'META': 0.44, 'HIMS': 0.73}\n",
            "\n",
            "Negative: \n",
            "{'AAPL': 0.44, 'NVDA': 0.23, 'MSTR': 0.27, 'MP': 0.27, 'PG': 0.0, 'GLD': 0.65, 'TSLA': 0.43, 'AMC': 0.43, 'META': 0.56, 'HIMS': 0.27}\n"
          ]
        }
      ]
    },
    {
      "cell_type": "code",
      "source": [
        "# A list of the randomly purchased stocks is kept for when the model sells the stocks at the end\n",
        "sentiment_portfolio = {}\n",
        "for stock in test_stocks:\n",
        "    sentiment_portfolio[stock] = {\n",
        "        \"Remaining_Cash\": 1000,\n",
        "        \"Bought\": 0,\n",
        "        \"Purchase_Prices\": [],\n",
        "        \"Final_Amount_Sold\": 0\n",
        "    }\n",
        "\n",
        "# The window structure from the evaluation of the LSTM model is maintained so that the random model performs actions at the same time intervals\n",
        "for stock in test_stocks:\n",
        "    windows = closing_price_windows[stock]\n",
        "    for window in windows:\n",
        "        baseline_price = window[-1]\n",
        "        current_remaining_cash = sentiment_portfolio[stock][\"Remaining_Cash\"]\n",
        "        current_bought = sentiment_portfolio[stock][\"Bought\"]\n",
        "        purchase_prices = sentiment_portfolio[stock][\"Purchase_Prices\"]\n",
        "\n",
        "        # The algorithm uses the sentiment distribution to decide if it is going to buy sell or do nothing\n",
        "        prob_buy = buy_distribution[stock] - .005\n",
        "        prob_sell = sell_distribution[stock] - .005\n",
        "\n",
        "        # The LSTM only does nothing when the prediction price matches the baseline which is extremely rare\n",
        "        prob_nothing = 0.01\n",
        "\n",
        "        r = random.random()\n",
        "        if r < prob_buy:\n",
        "          action = 'buy'\n",
        "        elif r < prob_buy + prob_sell:\n",
        "          action = 'sell'\n",
        "        else:\n",
        "          action = 'nothing'\n",
        "\n",
        "        if action == 'buy':\n",
        "            if current_remaining_cash >= 200:\n",
        "                # Stocks are still bought in 200 dollar increments\n",
        "                sentiment_portfolio[stock][\"Remaining_Cash\"] -= 200\n",
        "                sentiment_portfolio[stock][\"Bought\"] += 200\n",
        "                purchase_prices.append(baseline_price)\n",
        "\n",
        "        elif action == 'sell':\n",
        "            if current_bought > 0 and purchase_prices:\n",
        "                # The selling logic is also the same as the LSTM except it picks a stock at random out of the purchased list\n",
        "                random_index = random.randint(0, len(purchase_prices) - 1)\n",
        "                purchase_price = purchase_prices.pop(random_index)\n",
        "                percentage_change = baseline_price / purchase_price\n",
        "                sentiment_portfolio[stock][\"Remaining_Cash\"] += 200 * percentage_change\n",
        "                sentiment_portfolio[stock][\"Bought\"] -= 200\n",
        "\n",
        "        else:\n",
        "            pass\n",
        "\n",
        "    # Liquidates all the stocks that were bought at the very end\n",
        "    final_stock_price = float(windows[-1][-1])\n",
        "    for purchase_price in sentiment_portfolio[stock][\"Purchase_Prices\"]:\n",
        "        percentage_change = final_stock_price / purchase_price\n",
        "        sale_proceeds = 100 * percentage_change\n",
        "        sentiment_portfolio[stock][\"Final_Amount_Sold\"] += sale_proceeds"
      ],
      "metadata": {
        "id": "nWmh1dnbMQp1"
      },
      "execution_count": 15,
      "outputs": []
    },
    {
      "cell_type": "markdown",
      "source": [
        "## Profit And Loss Margins For The Sentiment Algorithm"
      ],
      "metadata": {
        "id": "fIpALiJWRqGL"
      }
    },
    {
      "cell_type": "code",
      "source": [
        "# Output the final earnings and losses\n",
        "for stock in test_stocks:\n",
        "  print(f\"{stock} detailed stats:\")\n",
        "  print(f\"Final Remaining Cash: {int(sentiment_portfolio[stock]['Remaining_Cash'])}$\")\n",
        "  print(f\"Stock Quantity Bought At Liquidation: {sentiment_portfolio[stock]['Bought']}$\")\n",
        "  print(f\"Stock Purchase Prices At Liquidation: {[int(x) for x in sentiment_portfolio[stock]['Purchase_Prices']]}\")\n",
        "  print(f\"Final Amount Sold: {int(sentiment_portfolio[stock]['Final_Amount_Sold'])}$\")\n",
        "  print(\"\\n\")"
      ],
      "metadata": {
        "colab": {
          "base_uri": "https://localhost:8080/"
        },
        "id": "DxI5PTsQR0Wr",
        "outputId": "ebcdca0b-11e5-49fa-e3c0-d526fd2b5735"
      },
      "execution_count": 16,
      "outputs": [
        {
          "output_type": "stream",
          "name": "stdout",
          "text": [
            "AAPL detailed stats:\n",
            "Final Remaining Cash: 800$\n",
            "Stock Quantity Bought At Liquidation: 200$\n",
            "Stock Purchase Prices At Liquidation: [190]\n",
            "Final Amount Sold: 100$\n",
            "\n",
            "\n",
            "NVDA detailed stats:\n",
            "Final Remaining Cash: 982$\n",
            "Stock Quantity Bought At Liquidation: 0$\n",
            "Stock Purchase Prices At Liquidation: []\n",
            "Final Amount Sold: 0$\n",
            "\n",
            "\n",
            "MSTR detailed stats:\n",
            "Final Remaining Cash: 775$\n",
            "Stock Quantity Bought At Liquidation: 200$\n",
            "Stock Purchase Prices At Liquidation: [272]\n",
            "Final Amount Sold: 100$\n",
            "\n",
            "\n",
            "MP detailed stats:\n",
            "Final Remaining Cash: 200$\n",
            "Stock Quantity Bought At Liquidation: 800$\n",
            "Stock Purchase Prices At Liquidation: [20, 19, 23, 23]\n",
            "Final Amount Sold: 434$\n",
            "\n",
            "\n",
            "PG detailed stats:\n",
            "Final Remaining Cash: 200$\n",
            "Stock Quantity Bought At Liquidation: 800$\n",
            "Stock Purchase Prices At Liquidation: [177, 157, 170, 162]\n",
            "Final Amount Sold: 389$\n",
            "\n",
            "\n",
            "GLD detailed stats:\n",
            "Final Remaining Cash: 802$\n",
            "Stock Quantity Bought At Liquidation: 200$\n",
            "Stock Purchase Prices At Liquidation: [292]\n",
            "Final Amount Sold: 100$\n",
            "\n",
            "\n",
            "TSLA detailed stats:\n",
            "Final Remaining Cash: 1017$\n",
            "Stock Quantity Bought At Liquidation: 0$\n",
            "Stock Purchase Prices At Liquidation: []\n",
            "Final Amount Sold: 0$\n",
            "\n",
            "\n",
            "AMC detailed stats:\n",
            "Final Remaining Cash: 598$\n",
            "Stock Quantity Bought At Liquidation: 400$\n",
            "Stock Purchase Prices At Liquidation: [4, 2]\n",
            "Final Amount Sold: 158$\n",
            "\n",
            "\n",
            "META detailed stats:\n",
            "Final Remaining Cash: 584$\n",
            "Stock Quantity Bought At Liquidation: 400$\n",
            "Stock Purchase Prices At Liquidation: [568, 657]\n",
            "Final Amount Sold: 179$\n",
            "\n",
            "\n",
            "HIMS detailed stats:\n",
            "Final Remaining Cash: 572$\n",
            "Stock Quantity Bought At Liquidation: 400$\n",
            "Stock Purchase Prices At Liquidation: [41, 26]\n",
            "Final Amount Sold: 164$\n",
            "\n",
            "\n"
          ]
        }
      ]
    },
    {
      "cell_type": "code",
      "source": [
        "# Final amount made and lost\n",
        "total = 0\n",
        "for stock in test_stocks:\n",
        "  print(f\"{stock} overall stats:\")\n",
        "  print(f\"Starting Amount: 1000\")\n",
        "  total += int(sentiment_portfolio[stock]['Final_Amount_Sold']) + sentiment_portfolio[stock]['Remaining_Cash']\n",
        "  print(f\"Ending Amount: {int(sentiment_portfolio[stock]['Final_Amount_Sold'] + sentiment_portfolio[stock]['Remaining_Cash'])}$\")\n",
        "  print(\"\\n\")\n",
        "print(\"-----------------------------------------------------------------------------------------------\")\n",
        "percent_change = total / 10000\n",
        "print(\"Total Beginning: 10,000$\\n\")\n",
        "print(f\"Total End: {int(total)}$\\n\")\n",
        "print(f\"Percent Change From Initial Wallet: {round(percent_change*100,3)}%\")"
      ],
      "metadata": {
        "colab": {
          "base_uri": "https://localhost:8080/"
        },
        "id": "Ix-x0M5CR7KU",
        "outputId": "f77840b1-011d-4f59-c703-00cd452ba572"
      },
      "execution_count": 17,
      "outputs": [
        {
          "output_type": "stream",
          "name": "stdout",
          "text": [
            "AAPL overall stats:\n",
            "Starting Amount: 1000\n",
            "Ending Amount: 900$\n",
            "\n",
            "\n",
            "NVDA overall stats:\n",
            "Starting Amount: 1000\n",
            "Ending Amount: 982$\n",
            "\n",
            "\n",
            "MSTR overall stats:\n",
            "Starting Amount: 1000\n",
            "Ending Amount: 875$\n",
            "\n",
            "\n",
            "MP overall stats:\n",
            "Starting Amount: 1000\n",
            "Ending Amount: 634$\n",
            "\n",
            "\n",
            "PG overall stats:\n",
            "Starting Amount: 1000\n",
            "Ending Amount: 589$\n",
            "\n",
            "\n",
            "GLD overall stats:\n",
            "Starting Amount: 1000\n",
            "Ending Amount: 902$\n",
            "\n",
            "\n",
            "TSLA overall stats:\n",
            "Starting Amount: 1000\n",
            "Ending Amount: 1017$\n",
            "\n",
            "\n",
            "AMC overall stats:\n",
            "Starting Amount: 1000\n",
            "Ending Amount: 757$\n",
            "\n",
            "\n",
            "META overall stats:\n",
            "Starting Amount: 1000\n",
            "Ending Amount: 763$\n",
            "\n",
            "\n",
            "HIMS overall stats:\n",
            "Starting Amount: 1000\n",
            "Ending Amount: 737$\n",
            "\n",
            "\n",
            "-----------------------------------------------------------------------------------------------\n",
            "Total Beginning: 10,000$\n",
            "\n",
            "Total End: 8158$\n",
            "\n",
            "Percent Change From Initial Wallet: 81.58%\n"
          ]
        }
      ]
    }
  ]
}