{
  "cells": [
    {
      "cell_type": "markdown",
      "metadata": {
        "colab_type": "text",
        "id": "view-in-github"
      },
      "source": [
        "<a href=\"https://colab.research.google.com/github/ColeJMitchell/machine-learning-stock-prediction/blob/main/trade_simulation_test.ipynb\" target=\"_parent\"><img src=\"https://colab.research.google.com/assets/colab-badge.svg\" alt=\"Open In Colab\"/></a>"
      ]
    },
    {
      "cell_type": "code",
      "execution_count": 4,
      "id": "dc7e7701",
      "metadata": {
        "id": "dc7e7701"
      },
      "outputs": [],
      "source": [
        "import numpy as np\n",
        "import pandas as pd\n",
        "import yfinance as yf\n",
        "import matplotlib.pyplot as plt\n",
        "import seaborn as sns\n",
        "import datetime, time\n",
        "from termcolor import colored\n",
        "from IPython.display import clear_output\n",
        "!pip install tensorflow\n",
        "from tensorflow.keras.models import load_model\n",
        "from sklearn.preprocessing import MinMaxScaler\n",
        "clear_output()"
      ]
    },
    {
      "cell_type": "markdown",
      "id": "b0c1ac19",
      "metadata": {
        "id": "b0c1ac19"
      },
      "source": [
        "## Part _: _"
      ]
    },
    {
      "cell_type": "code",
      "execution_count": 5,
      "id": "74dca4ad",
      "metadata": {
        "id": "74dca4ad"
      },
      "outputs": [],
      "source": [
        "# Read in the results from model predictions\n",
        "TESTDATADIR = \"data/test_stocks/\"\n",
        "TESTSTOCKS = [\n",
        "    \"AAPL\", # Apple\n",
        "    \"AMD\",  # AMD\n",
        "    \"AMZN\", # Amazon\n",
        "    \"META\", # Meta Platforms\n",
        "    \"NFLX\", # Netflix\n",
        "    \"QCOM\", # Qualcomm\n",
        "    \"SBUX\", # Starbucks\n",
        "    \"SCSO\", # Cisco\n",
        "    \"TSLA\", # Tesla\n",
        "]\n",
        "predictions = {}\n",
        "for stock in TESTSTOCKS:\n",
        "    predictions[stock] = pd.read_parquet(TESTDATADIR + stock + \"_results.parquet\")"
      ]
    },
    {
      "cell_type": "code",
      "execution_count": 8,
      "id": "90970326",
      "metadata": {
        "colab": {
          "base_uri": "https://localhost:8080/",
          "height": 534
        },
        "id": "90970326",
        "outputId": "f2d1cf55-2814-439d-f82d-580eac40eb1e"
      },
      "outputs": [
        {
          "name": "stderr",
          "output_type": "stream",
          "text": [
            "E0000 00:00:1746989991.134654   12191 cuda_executor.cc:1228] INTERNAL: CUDA Runtime error: Failed call to cudaGetRuntimeVersion: Error loading CUDA libraries. GPU will not be used.: Error loading CUDA libraries. GPU will not be used.\n",
            "W0000 00:00:1746989991.135320   12191 gpu_device.cc:2341] Cannot dlopen some GPU libraries. Please make sure the missing libraries mentioned above are installed properly if you would like to use GPU. Follow the guide at https://www.tensorflow.org/install/gpu for how to download and setup the required libraries for your platform.\n",
            "Skipping registering GPU devices...\n"
          ]
        },
        {
          "data": {
            "text/html": [
              "<pre style=\"white-space:pre;overflow-x:auto;line-height:normal;font-family:Menlo,'DejaVu Sans Mono',consolas,'Courier New',monospace\"><span style=\"font-weight: bold\">Model: \"sequential\"</span>\n",
              "</pre>\n"
            ],
            "text/plain": [
              "\u001b[1mModel: \"sequential\"\u001b[0m\n"
            ]
          },
          "metadata": {},
          "output_type": "display_data"
        },
        {
          "data": {
            "text/html": [
              "<pre style=\"white-space:pre;overflow-x:auto;line-height:normal;font-family:Menlo,'DejaVu Sans Mono',consolas,'Courier New',monospace\">┏━━━━━━━━━━━━━━━━━━━━━━━━━━━━━━━━━┳━━━━━━━━━━━━━━━━━━━━━━━━┳━━━━━━━━━━━━━━━┓\n",
              "┃<span style=\"font-weight: bold\"> Layer (type)                    </span>┃<span style=\"font-weight: bold\"> Output Shape           </span>┃<span style=\"font-weight: bold\">       Param # </span>┃\n",
              "┡━━━━━━━━━━━━━━━━━━━━━━━━━━━━━━━━━╇━━━━━━━━━━━━━━━━━━━━━━━━╇━━━━━━━━━━━━━━━┩\n",
              "│ lstm (<span style=\"color: #0087ff; text-decoration-color: #0087ff\">LSTM</span>)                     │ (<span style=\"color: #00d7ff; text-decoration-color: #00d7ff\">None</span>, <span style=\"color: #00af00; text-decoration-color: #00af00\">30</span>, <span style=\"color: #00af00; text-decoration-color: #00af00\">64</span>)         │        <span style=\"color: #00af00; text-decoration-color: #00af00\">16,896</span> │\n",
              "├─────────────────────────────────┼────────────────────────┼───────────────┤\n",
              "│ batch_normalization             │ (<span style=\"color: #00d7ff; text-decoration-color: #00d7ff\">None</span>, <span style=\"color: #00af00; text-decoration-color: #00af00\">30</span>, <span style=\"color: #00af00; text-decoration-color: #00af00\">64</span>)         │           <span style=\"color: #00af00; text-decoration-color: #00af00\">256</span> │\n",
              "│ (<span style=\"color: #0087ff; text-decoration-color: #0087ff\">BatchNormalization</span>)            │                        │               │\n",
              "├─────────────────────────────────┼────────────────────────┼───────────────┤\n",
              "│ activation (<span style=\"color: #0087ff; text-decoration-color: #0087ff\">Activation</span>)         │ (<span style=\"color: #00d7ff; text-decoration-color: #00d7ff\">None</span>, <span style=\"color: #00af00; text-decoration-color: #00af00\">30</span>, <span style=\"color: #00af00; text-decoration-color: #00af00\">64</span>)         │             <span style=\"color: #00af00; text-decoration-color: #00af00\">0</span> │\n",
              "├─────────────────────────────────┼────────────────────────┼───────────────┤\n",
              "│ lstm_1 (<span style=\"color: #0087ff; text-decoration-color: #0087ff\">LSTM</span>)                   │ (<span style=\"color: #00d7ff; text-decoration-color: #00d7ff\">None</span>, <span style=\"color: #00af00; text-decoration-color: #00af00\">32</span>)             │        <span style=\"color: #00af00; text-decoration-color: #00af00\">12,416</span> │\n",
              "├─────────────────────────────────┼────────────────────────┼───────────────┤\n",
              "│ batch_normalization_1           │ (<span style=\"color: #00d7ff; text-decoration-color: #00d7ff\">None</span>, <span style=\"color: #00af00; text-decoration-color: #00af00\">32</span>)             │           <span style=\"color: #00af00; text-decoration-color: #00af00\">128</span> │\n",
              "│ (<span style=\"color: #0087ff; text-decoration-color: #0087ff\">BatchNormalization</span>)            │                        │               │\n",
              "├─────────────────────────────────┼────────────────────────┼───────────────┤\n",
              "│ activation_1 (<span style=\"color: #0087ff; text-decoration-color: #0087ff\">Activation</span>)       │ (<span style=\"color: #00d7ff; text-decoration-color: #00d7ff\">None</span>, <span style=\"color: #00af00; text-decoration-color: #00af00\">32</span>)             │             <span style=\"color: #00af00; text-decoration-color: #00af00\">0</span> │\n",
              "├─────────────────────────────────┼────────────────────────┼───────────────┤\n",
              "│ dense (<span style=\"color: #0087ff; text-decoration-color: #0087ff\">Dense</span>)                   │ (<span style=\"color: #00d7ff; text-decoration-color: #00d7ff\">None</span>, <span style=\"color: #00af00; text-decoration-color: #00af00\">16</span>)             │           <span style=\"color: #00af00; text-decoration-color: #00af00\">528</span> │\n",
              "├─────────────────────────────────┼────────────────────────┼───────────────┤\n",
              "│ dropout (<span style=\"color: #0087ff; text-decoration-color: #0087ff\">Dropout</span>)               │ (<span style=\"color: #00d7ff; text-decoration-color: #00d7ff\">None</span>, <span style=\"color: #00af00; text-decoration-color: #00af00\">16</span>)             │             <span style=\"color: #00af00; text-decoration-color: #00af00\">0</span> │\n",
              "├─────────────────────────────────┼────────────────────────┼───────────────┤\n",
              "│ dense_1 (<span style=\"color: #0087ff; text-decoration-color: #0087ff\">Dense</span>)                 │ (<span style=\"color: #00d7ff; text-decoration-color: #00d7ff\">None</span>, <span style=\"color: #00af00; text-decoration-color: #00af00\">16</span>)             │           <span style=\"color: #00af00; text-decoration-color: #00af00\">272</span> │\n",
              "├─────────────────────────────────┼────────────────────────┼───────────────┤\n",
              "│ dropout_1 (<span style=\"color: #0087ff; text-decoration-color: #0087ff\">Dropout</span>)             │ (<span style=\"color: #00d7ff; text-decoration-color: #00d7ff\">None</span>, <span style=\"color: #00af00; text-decoration-color: #00af00\">16</span>)             │             <span style=\"color: #00af00; text-decoration-color: #00af00\">0</span> │\n",
              "├─────────────────────────────────┼────────────────────────┼───────────────┤\n",
              "│ dense_2 (<span style=\"color: #0087ff; text-decoration-color: #0087ff\">Dense</span>)                 │ (<span style=\"color: #00d7ff; text-decoration-color: #00d7ff\">None</span>, <span style=\"color: #00af00; text-decoration-color: #00af00\">1</span>)              │            <span style=\"color: #00af00; text-decoration-color: #00af00\">17</span> │\n",
              "└─────────────────────────────────┴────────────────────────┴───────────────┘\n",
              "</pre>\n"
            ],
            "text/plain": [
              "┏━━━━━━━━━━━━━━━━━━━━━━━━━━━━━━━━━┳━━━━━━━━━━━━━━━━━━━━━━━━┳━━━━━━━━━━━━━━━┓\n",
              "┃\u001b[1m \u001b[0m\u001b[1mLayer (type)                   \u001b[0m\u001b[1m \u001b[0m┃\u001b[1m \u001b[0m\u001b[1mOutput Shape          \u001b[0m\u001b[1m \u001b[0m┃\u001b[1m \u001b[0m\u001b[1m      Param #\u001b[0m\u001b[1m \u001b[0m┃\n",
              "┡━━━━━━━━━━━━━━━━━━━━━━━━━━━━━━━━━╇━━━━━━━━━━━━━━━━━━━━━━━━╇━━━━━━━━━━━━━━━┩\n",
              "│ lstm (\u001b[38;5;33mLSTM\u001b[0m)                     │ (\u001b[38;5;45mNone\u001b[0m, \u001b[38;5;34m30\u001b[0m, \u001b[38;5;34m64\u001b[0m)         │        \u001b[38;5;34m16,896\u001b[0m │\n",
              "├─────────────────────────────────┼────────────────────────┼───────────────┤\n",
              "│ batch_normalization             │ (\u001b[38;5;45mNone\u001b[0m, \u001b[38;5;34m30\u001b[0m, \u001b[38;5;34m64\u001b[0m)         │           \u001b[38;5;34m256\u001b[0m │\n",
              "│ (\u001b[38;5;33mBatchNormalization\u001b[0m)            │                        │               │\n",
              "├─────────────────────────────────┼────────────────────────┼───────────────┤\n",
              "│ activation (\u001b[38;5;33mActivation\u001b[0m)         │ (\u001b[38;5;45mNone\u001b[0m, \u001b[38;5;34m30\u001b[0m, \u001b[38;5;34m64\u001b[0m)         │             \u001b[38;5;34m0\u001b[0m │\n",
              "├─────────────────────────────────┼────────────────────────┼───────────────┤\n",
              "│ lstm_1 (\u001b[38;5;33mLSTM\u001b[0m)                   │ (\u001b[38;5;45mNone\u001b[0m, \u001b[38;5;34m32\u001b[0m)             │        \u001b[38;5;34m12,416\u001b[0m │\n",
              "├─────────────────────────────────┼────────────────────────┼───────────────┤\n",
              "│ batch_normalization_1           │ (\u001b[38;5;45mNone\u001b[0m, \u001b[38;5;34m32\u001b[0m)             │           \u001b[38;5;34m128\u001b[0m │\n",
              "│ (\u001b[38;5;33mBatchNormalization\u001b[0m)            │                        │               │\n",
              "├─────────────────────────────────┼────────────────────────┼───────────────┤\n",
              "│ activation_1 (\u001b[38;5;33mActivation\u001b[0m)       │ (\u001b[38;5;45mNone\u001b[0m, \u001b[38;5;34m32\u001b[0m)             │             \u001b[38;5;34m0\u001b[0m │\n",
              "├─────────────────────────────────┼────────────────────────┼───────────────┤\n",
              "│ dense (\u001b[38;5;33mDense\u001b[0m)                   │ (\u001b[38;5;45mNone\u001b[0m, \u001b[38;5;34m16\u001b[0m)             │           \u001b[38;5;34m528\u001b[0m │\n",
              "├─────────────────────────────────┼────────────────────────┼───────────────┤\n",
              "│ dropout (\u001b[38;5;33mDropout\u001b[0m)               │ (\u001b[38;5;45mNone\u001b[0m, \u001b[38;5;34m16\u001b[0m)             │             \u001b[38;5;34m0\u001b[0m │\n",
              "├─────────────────────────────────┼────────────────────────┼───────────────┤\n",
              "│ dense_1 (\u001b[38;5;33mDense\u001b[0m)                 │ (\u001b[38;5;45mNone\u001b[0m, \u001b[38;5;34m16\u001b[0m)             │           \u001b[38;5;34m272\u001b[0m │\n",
              "├─────────────────────────────────┼────────────────────────┼───────────────┤\n",
              "│ dropout_1 (\u001b[38;5;33mDropout\u001b[0m)             │ (\u001b[38;5;45mNone\u001b[0m, \u001b[38;5;34m16\u001b[0m)             │             \u001b[38;5;34m0\u001b[0m │\n",
              "├─────────────────────────────────┼────────────────────────┼───────────────┤\n",
              "│ dense_2 (\u001b[38;5;33mDense\u001b[0m)                 │ (\u001b[38;5;45mNone\u001b[0m, \u001b[38;5;34m1\u001b[0m)              │            \u001b[38;5;34m17\u001b[0m │\n",
              "└─────────────────────────────────┴────────────────────────┴───────────────┘\n"
            ]
          },
          "metadata": {},
          "output_type": "display_data"
        },
        {
          "data": {
            "text/html": [
              "<pre style=\"white-space:pre;overflow-x:auto;line-height:normal;font-family:Menlo,'DejaVu Sans Mono',consolas,'Courier New',monospace\"><span style=\"font-weight: bold\"> Total params: </span><span style=\"color: #00af00; text-decoration-color: #00af00\">30,513</span> (119.19 KB)\n",
              "</pre>\n"
            ],
            "text/plain": [
              "\u001b[1m Total params: \u001b[0m\u001b[38;5;34m30,513\u001b[0m (119.19 KB)\n"
            ]
          },
          "metadata": {},
          "output_type": "display_data"
        },
        {
          "data": {
            "text/html": [
              "<pre style=\"white-space:pre;overflow-x:auto;line-height:normal;font-family:Menlo,'DejaVu Sans Mono',consolas,'Courier New',monospace\"><span style=\"font-weight: bold\"> Trainable params: </span><span style=\"color: #00af00; text-decoration-color: #00af00\">30,321</span> (118.44 KB)\n",
              "</pre>\n"
            ],
            "text/plain": [
              "\u001b[1m Trainable params: \u001b[0m\u001b[38;5;34m30,321\u001b[0m (118.44 KB)\n"
            ]
          },
          "metadata": {},
          "output_type": "display_data"
        },
        {
          "data": {
            "text/html": [
              "<pre style=\"white-space:pre;overflow-x:auto;line-height:normal;font-family:Menlo,'DejaVu Sans Mono',consolas,'Courier New',monospace\"><span style=\"font-weight: bold\"> Non-trainable params: </span><span style=\"color: #00af00; text-decoration-color: #00af00\">192</span> (768.00 B)\n",
              "</pre>\n"
            ],
            "text/plain": [
              "\u001b[1m Non-trainable params: \u001b[0m\u001b[38;5;34m192\u001b[0m (768.00 B)\n"
            ]
          },
          "metadata": {},
          "output_type": "display_data"
        }
      ],
      "source": [
        "#Load the LSTM model and simulate it by paper trading\n",
        "model = load_model(\"./saved_models/stock_prediction.h5\", compile = False)\n",
        "model.summary()"
      ]
    },
    {
      "cell_type": "markdown",
      "id": "cec628a5",
      "metadata": {},
      "source": [
        "Part _: sentiment scorse"
      ]
    },
    {
      "cell_type": "code",
      "execution_count": 9,
      "id": "de9bc862",
      "metadata": {},
      "outputs": [
        {
          "data": {
            "text/html": [
              "<div>\n",
              "<style scoped>\n",
              "    .dataframe tbody tr th:only-of-type {\n",
              "        vertical-align: middle;\n",
              "    }\n",
              "\n",
              "    .dataframe tbody tr th {\n",
              "        vertical-align: top;\n",
              "    }\n",
              "\n",
              "    .dataframe thead th {\n",
              "        text-align: right;\n",
              "    }\n",
              "</style>\n",
              "<table border=\"1\" class=\"dataframe\">\n",
              "  <thead>\n",
              "    <tr style=\"text-align: right;\">\n",
              "      <th></th>\n",
              "      <th>title</th>\n",
              "      <th>upvote_ratio</th>\n",
              "      <th>id</th>\n",
              "      <th>permalink</th>\n",
              "      <th>num_comments</th>\n",
              "      <th>created_utc</th>\n",
              "      <th>selftext</th>\n",
              "      <th>ss_neg</th>\n",
              "      <th>ss_neu</th>\n",
              "      <th>ss_pos</th>\n",
              "      <th>ss_compound</th>\n",
              "    </tr>\n",
              "  </thead>\n",
              "  <tbody>\n",
              "    <tr>\n",
              "      <th>0</th>\n",
              "      <td>Nivea Along</td>\n",
              "      <td>0.67</td>\n",
              "      <td>1k0t4jk</td>\n",
              "      <td>/r/wallstreetbets/comments/1k0t4jk/nivea_along/</td>\n",
              "      <td>5</td>\n",
              "      <td>1.744832e+09</td>\n",
              "      <td>After -7% yesterday and -10% today</td>\n",
              "      <td>0.12</td>\n",
              "      <td>0.805</td>\n",
              "      <td>0.076</td>\n",
              "      <td>-0.6908</td>\n",
              "    </tr>\n",
              "    <tr>\n",
              "      <th>1</th>\n",
              "      <td>Powell to Volatile Stock Market: You’re on You...</td>\n",
              "      <td>0.86</td>\n",
              "      <td>1k0unbq</td>\n",
              "      <td>/r/wallstreetbets/comments/1k0unbq/powell_to_v...</td>\n",
              "      <td>2</td>\n",
              "      <td>1.744836e+09</td>\n",
              "      <td></td>\n",
              "      <td>0.12</td>\n",
              "      <td>0.805</td>\n",
              "      <td>0.076</td>\n",
              "      <td>-0.6908</td>\n",
              "    </tr>\n",
              "    <tr>\n",
              "      <th>2</th>\n",
              "      <td>Made back the last Wendy’s paycheck I lost</td>\n",
              "      <td>0.94</td>\n",
              "      <td>1k0tv2y</td>\n",
              "      <td>/r/wallstreetbets/comments/1k0tv2y/made_back_t...</td>\n",
              "      <td>6</td>\n",
              "      <td>1.744834e+09</td>\n",
              "      <td></td>\n",
              "      <td>0.12</td>\n",
              "      <td>0.805</td>\n",
              "      <td>0.076</td>\n",
              "      <td>-0.6908</td>\n",
              "    </tr>\n",
              "    <tr>\n",
              "      <th>3</th>\n",
              "      <td>After market observation. When I finished buyi...</td>\n",
              "      <td>0.72</td>\n",
              "      <td>1k0tnqx</td>\n",
              "      <td>/r/wallstreetbets/comments/1k0tnqx/after_marke...</td>\n",
              "      <td>8</td>\n",
              "      <td>1.744833e+09</td>\n",
              "      <td>https://preview.redd.it/41ilvj6f39ve1.png?widt...</td>\n",
              "      <td>0.12</td>\n",
              "      <td>0.805</td>\n",
              "      <td>0.076</td>\n",
              "      <td>-0.6908</td>\n",
              "    </tr>\n",
              "    <tr>\n",
              "      <th>4</th>\n",
              "      <td>Ominous</td>\n",
              "      <td>0.85</td>\n",
              "      <td>1k0thnd</td>\n",
              "      <td>/r/wallstreetbets/comments/1k0thnd/ominous/</td>\n",
              "      <td>110</td>\n",
              "      <td>1.744833e+09</td>\n",
              "      <td>NVIDIA 2024 is starting to rhyme like Cisco 20...</td>\n",
              "      <td>0.12</td>\n",
              "      <td>0.805</td>\n",
              "      <td>0.076</td>\n",
              "      <td>-0.6908</td>\n",
              "    </tr>\n",
              "  </tbody>\n",
              "</table>\n",
              "</div>"
            ],
            "text/plain": [
              "                                               title  upvote_ratio       id  \\\n",
              "0                                        Nivea Along          0.67  1k0t4jk   \n",
              "1  Powell to Volatile Stock Market: You’re on You...          0.86  1k0unbq   \n",
              "2         Made back the last Wendy’s paycheck I lost          0.94  1k0tv2y   \n",
              "3  After market observation. When I finished buyi...          0.72  1k0tnqx   \n",
              "4                                            Ominous          0.85  1k0thnd   \n",
              "\n",
              "                                           permalink  num_comments  \\\n",
              "0    /r/wallstreetbets/comments/1k0t4jk/nivea_along/             5   \n",
              "1  /r/wallstreetbets/comments/1k0unbq/powell_to_v...             2   \n",
              "2  /r/wallstreetbets/comments/1k0tv2y/made_back_t...             6   \n",
              "3  /r/wallstreetbets/comments/1k0tnqx/after_marke...             8   \n",
              "4        /r/wallstreetbets/comments/1k0thnd/ominous/           110   \n",
              "\n",
              "    created_utc                                           selftext  ss_neg  \\\n",
              "0  1.744832e+09                After -7% yesterday and -10% today     0.12   \n",
              "1  1.744836e+09                                                       0.12   \n",
              "2  1.744834e+09                                                       0.12   \n",
              "3  1.744833e+09  https://preview.redd.it/41ilvj6f39ve1.png?widt...    0.12   \n",
              "4  1.744833e+09  NVIDIA 2024 is starting to rhyme like Cisco 20...    0.12   \n",
              "\n",
              "   ss_neu  ss_pos  ss_compound  \n",
              "0   0.805   0.076      -0.6908  \n",
              "1   0.805   0.076      -0.6908  \n",
              "2   0.805   0.076      -0.6908  \n",
              "3   0.805   0.076      -0.6908  \n",
              "4   0.805   0.076      -0.6908  "
            ]
          },
          "metadata": {},
          "output_type": "display_data"
        }
      ],
      "source": [
        "# Read in the combined reddit semtiment data\n",
        "file = \"merged-reddit-wsb-wss.parquet\"\n",
        "reddit_data = pd.read_parquet(f\"./data/{file}\")\n",
        "\n",
        "display(reddit_data.head())"
      ]
    },
    {
      "cell_type": "markdown",
      "id": "2LX2D3mBvuQi",
      "metadata": {
        "id": "2LX2D3mBvuQi"
      },
      "source": [
        "## Part _: Formatting the data so that it can be read by the model"
      ]
    },
    {
      "cell_type": "code",
      "execution_count": null,
      "id": "9oDUzieK0tbi",
      "metadata": {
        "colab": {
          "base_uri": "https://localhost:8080/"
        },
        "id": "9oDUzieK0tbi",
        "outputId": "69611ab1-ea36-498a-d0be-bbb776ee9433"
      },
      "outputs": [
        {
          "name": "stdout",
          "output_type": "stream",
          "text": [
            "          Date  Actual_Scaled  Prediction_Scaled  Actual  Prediction\n",
            "0   2025-03-25       0.592725           0.532328  223.75  218.519653\n",
            "1   2025-03-24       0.557852           0.553596  220.73  220.361404\n",
            "2   2025-03-21       0.529446           0.521709  218.27  217.599976\n",
            "3   2025-03-20       0.481293           0.500552  214.10  215.767776\n",
            "4   2025-03-19       0.494457           0.464448  215.24  212.641190\n",
            "..         ...            ...                ...     ...         ...\n",
            "215 2024-05-14       0.173326           0.243720  187.43  193.526138\n",
            "216 2024-05-13       0.160046           0.241477  186.28  193.331909\n",
            "217 2024-05-10       0.122748           0.240314  183.05  193.231171\n",
            "218 2024-05-09       0.140300           0.237339  184.57  192.973541\n",
            "219 2024-05-08       0.119169           0.238530  182.74  193.076721\n",
            "\n",
            "[220 rows x 5 columns]\n"
          ]
        }
      ],
      "source": [
        "# Data Format\n",
        "print(predictions['AAPL'])"
      ]
    },
    {
      "cell_type": "code",
      "execution_count": null,
      "id": "ykLlu3Jmvrb0",
      "metadata": {
        "colab": {
          "base_uri": "https://localhost:8080/"
        },
        "id": "ykLlu3Jmvrb0",
        "outputId": "ed59b4ba-98c8-410f-e973-ab3f1f1efda9"
      },
      "outputs": [
        {
          "name": "stdout",
          "output_type": "stream",
          "text": [
            "Shape of Stock Sliding Windows: (7, 30)\n",
            "Shape of Corresponding Actual Value Array: (7,)\n"
          ]
        }
      ],
      "source": [
        "prediction_windows = {}\n",
        "actual_values = {}\n",
        "window_size = 30\n",
        "\n",
        "# Stocks need to remain separated for the paper trading\n",
        "for stock in TESTSTOCKS:\n",
        "    prediction_windows[stock] = []\n",
        "    actual_values[stock] = []\n",
        "    for i in range(0, 220 - window_size + 1, window_size):\n",
        "        window = predictions[stock][\"Prediction\"][i:i + window_size]\n",
        "        prediction_windows[stock].append(np.array(window))\n",
        "        actual_values[stock].append(predictions[stock][\"Actual\"][i+window_size])\n",
        "\n",
        "print(f\"Shape of Stock Sliding Windows: {np.array(prediction_windows[TESTSTOCKS[0]]).shape}\")\n",
        "print(f\"Shape of Corresponding Actual Value Array: {np.array(actual_values[TESTSTOCKS[0]]).shape}\")\n"
      ]
    },
    {
      "cell_type": "code",
      "execution_count": null,
      "id": "ssq-LdM55CfD",
      "metadata": {
        "colab": {
          "base_uri": "https://localhost:8080/",
          "height": 1000
        },
        "id": "ssq-LdM55CfD",
        "outputId": "9d397dc3-9bc9-43fd-e0da-7eb908b84082"
      },
      "outputs": [
        {
          "name": "stdout",
          "output_type": "stream",
          "text": [
            "[[0.3370242 ]\n",
            " [0.40401268]\n",
            " [0.30357313]\n",
            " [0.2369318 ]\n",
            " [0.12321091]\n",
            " [0.14712954]\n",
            " [0.07855892]\n",
            " [0.10619926]\n",
            " [0.08883619]\n",
            " [0.        ]\n",
            " [0.17006159]\n",
            " [0.27648592]\n",
            " [0.49780083]\n",
            " [0.8287134 ]\n",
            " [0.72972393]\n",
            " [0.74310493]\n",
            " [0.73390007]\n",
            " [0.7901468 ]\n",
            " [0.8850708 ]\n",
            " [0.7723379 ]\n",
            " [0.85228825]\n",
            " [0.99041843]\n",
            " [1.        ]\n",
            " [0.9798231 ]\n",
            " [0.9839182 ]\n",
            " [0.96462727]\n",
            " [0.9561329 ]\n",
            " [0.9566145 ]\n",
            " [0.88849545]\n",
            " [0.7625532 ]]\n",
            "[[0.32922456]\n",
            " [0.4105609 ]\n",
            " [0.277398  ]\n",
            " [0.25561562]\n",
            " [0.22846907]\n",
            " [0.2339477 ]\n",
            " [0.22099712]\n",
            " [0.22639082]\n",
            " [0.22341555]\n",
            " [0.2014982 ]\n",
            " [0.2402478 ]\n",
            " [0.25735384]\n",
            " [0.5094893 ]\n",
            " [0.6265341 ]\n",
            " [0.59885246]\n",
            " [0.6031461 ]\n",
            " [0.60020626]\n",
            " [0.61713195]\n",
            " [0.63799155]\n",
            " [0.6120515 ]\n",
            " [0.6316429 ]\n",
            " [0.6526581 ]\n",
            " [0.6535891 ]\n",
            " [0.6515553 ]\n",
            " [0.6519908 ]\n",
            " [0.64983535]\n",
            " [0.6488013 ]\n",
            " [0.6488613 ]\n",
            " [0.63860404]\n",
            " [0.60914665]]\n"
          ]
        },
        {
          "ename": "ValueError",
          "evalue": "can only convert an array of size 1 to a Python scalar",
          "output_type": "error",
          "traceback": [
            "\u001b[0;31m---------------------------------------------------------------------------\u001b[0m",
            "\u001b[0;31mValueError\u001b[0m                                Traceback (most recent call last)",
            "\u001b[0;32m<ipython-input-91-369b9a073558>\u001b[0m in \u001b[0;36m<cell line: 0>\u001b[0;34m()\u001b[0m\n\u001b[1;32m     18\u001b[0m     \u001b[0mcurrent_holdings\u001b[0m \u001b[0;34m=\u001b[0m \u001b[0mportfolio\u001b[0m\u001b[0;34m[\u001b[0m\u001b[0mstock\u001b[0m\u001b[0;34m]\u001b[0m\u001b[0;34m[\u001b[0m\u001b[0;34m\"Holding\"\u001b[0m\u001b[0;34m]\u001b[0m\u001b[0;34m\u001b[0m\u001b[0;34m\u001b[0m\u001b[0m\n\u001b[1;32m     19\u001b[0m     \u001b[0mcurrent_bought\u001b[0m \u001b[0;34m=\u001b[0m \u001b[0mportfolio\u001b[0m\u001b[0;34m[\u001b[0m\u001b[0mstock\u001b[0m\u001b[0;34m]\u001b[0m\u001b[0;34m[\u001b[0m\u001b[0;34m\"Bought\"\u001b[0m\u001b[0;34m]\u001b[0m\u001b[0;34m\u001b[0m\u001b[0;34m\u001b[0m\u001b[0m\n\u001b[0;32m---> 20\u001b[0;31m     \u001b[0;32mif\u001b[0m \u001b[0mbaseline_price\u001b[0m \u001b[0;34m<\u001b[0m \u001b[0mprediction\u001b[0m\u001b[0;34m.\u001b[0m\u001b[0mitem\u001b[0m\u001b[0;34m(\u001b[0m\u001b[0;34m)\u001b[0m\u001b[0;34m:\u001b[0m\u001b[0;34m\u001b[0m\u001b[0;34m\u001b[0m\u001b[0m\n\u001b[0m\u001b[1;32m     21\u001b[0m       \u001b[0;32mif\u001b[0m \u001b[0mcurrent_holdings\u001b[0m \u001b[0;34m-\u001b[0m \u001b[0;36m100\u001b[0m \u001b[0;34m<=\u001b[0m \u001b[0;36m0\u001b[0m\u001b[0;34m:\u001b[0m\u001b[0;34m\u001b[0m\u001b[0;34m\u001b[0m\u001b[0m\n\u001b[1;32m     22\u001b[0m         \u001b[0;32mcontinue\u001b[0m\u001b[0;34m\u001b[0m\u001b[0;34m\u001b[0m\u001b[0m\n",
            "\u001b[0;31mValueError\u001b[0m: can only convert an array of size 1 to a Python scalar"
          ]
        }
      ],
      "source": [
        "# A list of stocks purchased by the LSTM model is saved so it can know when to sell, the model starts with the same amount of money as the random model - 10,000 dollars\n",
        "portfolio = {}\n",
        "initial_wallet = 10000\n",
        "\n",
        "for stock in TESTSTOCKS:\n",
        "  portfolio[stock] = {\"Holding\": 1000, \"Bought\": 0, \"Purchase_Prices\": []}\n",
        "# If a stock is predicted to rise in the future (larger value then final entry in sliding windo), it is bought by the model, half of the allocated money for the stock is bought (1000 dollars)\n",
        "# If the stock is predicted to fall below the purchase price the n\n",
        "for stock in TESTSTOCKS:\n",
        "  windows = prediction_windows[stock]\n",
        "  for window in windows:\n",
        "    baseline_price = window[-1]\n",
        "    scaler = MinMaxScaler(feature_range=(0, 1))\n",
        "    normalized_window = scaler.fit_transform(window.reshape(-1,1))\n",
        "    print(normalized_window)\n",
        "    prediction = model.predict(normalized_window.reshape(30,1), verbose=0)\n",
        "    print(prediction)\n",
        "    current_holdings = portfolio[stock][\"Holding\"]\n",
        "    current_bought = portfolio[stock][\"Bought\"]\n",
        "    if baseline_price < prediction[0].item():\n",
        "      if current_holdings - 100 <= 0:\n",
        "        continue\n",
        "      else:\n",
        "        # Stocks are bought in 100 dollar increments\n",
        "        portfolio[stock][\"Holdings\"] =  portfolio[stock][\"Holdings\"] - 100\n",
        "        portfolio[stock][\"Bought\"] = portfolio[stock][\"Bought\"] + 100\n",
        "        portfolio[stock][\"Purchase_Prices\"].append(baseline_price)\n",
        "    elif baseline_price > prediction.item():\n",
        "      if current_bought <= 0:\n",
        "        continue\n",
        "      else:\n",
        "        for i in range (len(portfolio[stock][\"Purchase_Prices\"])):\n",
        "          # Sells the bought stock at the new price if it is worse than one of the previously purchase price points\n",
        "          if portfolio[stock][\"Purchase_Prices\"][i] > prediction.item():\n",
        "            reduced_percentage = prediction / portfolio[stock][\"Purchase_Prices\"][i]\n",
        "            portfolio[stock][\"Holdings\"] =  portfolio[stock][\"Holdings\"] + (100 * reduced_percentage)\n",
        "            portfolio[stock][\"Bought\"] = portfolio[stock][\"Bought\"] - 100\n",
        "            del portfolio[stock][\"Purchase_Prices\"][i]\n",
        "            break\n",
        "    else:\n",
        "      pass"
      ]
    }
  ],
  "metadata": {
    "colab": {
      "include_colab_link": true,
      "provenance": []
    },
    "kernelspec": {
      "display_name": "venv",
      "language": "python",
      "name": "python3"
    },
    "language_info": {
      "codemirror_mode": {
        "name": "ipython",
        "version": 3
      },
      "file_extension": ".py",
      "mimetype": "text/x-python",
      "name": "python",
      "nbconvert_exporter": "python",
      "pygments_lexer": "ipython3",
      "version": "3.12.3"
    }
  },
  "nbformat": 4,
  "nbformat_minor": 5
}
