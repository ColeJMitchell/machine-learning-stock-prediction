{
 "cells": [
  {
   "cell_type": "markdown",
   "id": "ff67acb8",
   "metadata": {},
   "source": [
    "## Part 0: Setup"
   ]
  },
  {
   "cell_type": "code",
   "execution_count": null,
   "id": "5560a078",
   "metadata": {},
   "outputs": [],
   "source": [
    "\n",
    "# Import Packages\n",
    "import pyarrow\n",
    "from IPython.display import display\n",
    "import matplotlib.pyplot as plt\n",
    "import seaborn as sns\n",
    "import pandas as pd\n",
    "import numpy as np\n",
    "assert np.__version__ == \"2.1.0\", f\"Expected numpy version 2.1.0, but got {np.__version__}\"\n",
    "\n",
    "from autoviz import AutoViz_Class\n",
    "%matplotlib inline\n",
    "\n",
    "# Check if running in Google Colab\n",
    "def is_colab():\n",
    "    from IPython import get_ipython\n",
    "    return get_ipython().__class__.__module__ == \"google.colab._shell\""
   ]
  },
  {
   "cell_type": "markdown",
   "id": "bd730c0c",
   "metadata": {},
   "source": [
    "## Part 1: Read Collected Reddit Data"
   ]
  },
  {
   "cell_type": "code",
   "execution_count": null,
   "id": "9e6d2a3a",
   "metadata": {},
   "outputs": [],
   "source": [
    "# Save the collected data to parquet format\n",
    "SUBMISSION_PARQUET_PATH = './data/wallstreetbets-collection-wss.parquet'\n",
    "# Verify that the path exists\n",
    "import os\n",
    "if not os.path.exists(SUBMISSION_PARQUET_PATH):\n",
    "    print(f\"Error: The file {SUBMISSION_PARQUET_PATH} does not exist.\")\n",
    "\n",
    "# Create a pyarrow schema for the data types.\n",
    "submission_schema = pyarrow.schema([\n",
    "    ('title', pyarrow.string()),\n",
    "    ('created_utc', pyarrow.float64()),\n",
    "    ('id', pyarrow.string()),\n",
    "    ('is_original_content', pyarrow.bool_()),\n",
    "    ('link_flair_text', pyarrow.string()),\n",
    "    ('locked', pyarrow.bool_()),\n",
    "    ('name', pyarrow.string()),\n",
    "    ('num_comments', pyarrow.int64()),\n",
    "    ('over_18', pyarrow.bool_()),\n",
    "    ('permalink', pyarrow.string()),\n",
    "    ('selftext', pyarrow.string()),\n",
    "    ('spoiler', pyarrow.bool_()),\n",
    "    ('upvote_ratio', pyarrow.float64()),\n",
    "    ('ss_neg', pyarrow.float64()),\n",
    "    ('ss_neu', pyarrow.float64()),\n",
    "    ('ss_pos', pyarrow.float64()),\n",
    "    ('ss_compound', pyarrow.float64())\n",
    "])\n",
    "\n",
    "# Read the parquet file into a pandas DataFrame using the schema.\n",
    "submission_collection = pd.read_parquet(SUBMISSION_PARQUET_PATH, engine='pyarrow', schema=submission_schema)\n",
    "\n",
    "# Show the first few rows of the DataFrame\n",
    "# display(submission_collection.head())"
   ]
  },
  {
   "cell_type": "code",
   "execution_count": null,
   "id": "6a64cea9",
   "metadata": {},
   "outputs": [],
   "source": [
    "# Save the collected data to parquet format\n",
    "COMMENT_PARQUET_PATH = './data/wallstreetbets-comment-collection-wss.parquet'\n",
    "\n",
    "# Create a pyarrow schema for the comment data\n",
    "comment_schema = pyarrow.schema([\n",
    "    ('parent_post_id', pyarrow.string()),\n",
    "    ('parent_comment_id', pyarrow.string()),\n",
    "    ('comment_id', pyarrow.string()),\n",
    "    ('author', pyarrow.string()),\n",
    "    ('created_utc', pyarrow.float64()),\n",
    "    ('score', pyarrow.int64()),\n",
    "    ('body', pyarrow.string()),\n",
    "    ('ss_neg', pyarrow.float64()),\n",
    "    ('ss_neu', pyarrow.float64()),\n",
    "    ('ss_pos', pyarrow.float64()),\n",
    "    ('ss_compound', pyarrow.float64())\n",
    "])\n",
    "\n",
    "# Read the parquet file into a pandas DataFrame using the schema.\n",
    "comment_collection = pd.read_parquet(COMMENT_PARQUET_PATH, engine='pyarrow', schema=comment_schema)\n",
    "\n",
    "# Show the first few rows of the DataFrame\n",
    "# display(comment_collection.head())"
   ]
  },
  {
   "cell_type": "markdown",
   "id": "23b75618",
   "metadata": {},
   "source": [
    "## Part 2: Initial Analysis"
   ]
  },
  {
   "cell_type": "code",
   "execution_count": null,
   "id": "317243b5",
   "metadata": {},
   "outputs": [],
   "source": [
    "def visualize_data(collection, save_path=None):\n",
    "    if collection.empty:\n",
    "        print(\"Error: The input DataFrame is empty.\")\n",
    "        return None\n",
    "\n",
    "    AV = AutoViz_Class()\n",
    "    df_av = collection.copy()\n",
    "    df_av.dropna(inplace=True)\n",
    "\n",
    "    if df_av.empty:\n",
    "        print(\"Error: The processed DataFrame is empty after dropping columns and NaN values.\")\n",
    "        return None\n",
    "\n",
    "    try:\n",
    "        df_av['created_utc'] = pd.to_datetime(df_av['created_utc'], unit='s')\n",
    "        df_av['created_utc'] = df_av['created_utc'].dt.date\n",
    "        AV.AutoViz(filename=\"\",\n",
    "                   dfte=df_av,\n",
    "                   verbose=2,\n",
    "                   lowess=True, \n",
    "                   chart_format=\"png\",\n",
    "                   save_plot_dir=save_path)\n",
    "        plt.show()\n",
    "        plt.close()\n",
    "    except AttributeError as e:\n",
    "        print(f\"AutoViz encountered an error: {e}\")\n",
    "        return None\n",
    "\n",
    "    return df_av"
   ]
  },
  {
   "cell_type": "code",
   "execution_count": null,
   "id": "575c543b",
   "metadata": {},
   "outputs": [],
   "source": [
    "visualize_data(submission_collection, save_path='./plots/submission')\n",
    "visualize_data(comment_collection, save_path='./plots/comment')"
   ]
  },
  {
   "cell_type": "markdown",
   "id": "04e721c6",
   "metadata": {},
   "source": [
    "## Part 3: Custom Analysis"
   ]
  },
  {
   "cell_type": "code",
   "execution_count": null,
   "id": "46ee9d03",
   "metadata": {},
   "outputs": [],
   "source": []
  }
 ],
 "metadata": {
  "kernelspec": {
   "display_name": "venv",
   "language": "python",
   "name": "python3"
  },
  "language_info": {
   "codemirror_mode": {
    "name": "ipython",
    "version": 3
   },
   "file_extension": ".py",
   "mimetype": "text/x-python",
   "name": "python",
   "nbconvert_exporter": "python",
   "pygments_lexer": "ipython3",
   "version": "3.12.3"
  }
 },
 "nbformat": 4,
 "nbformat_minor": 5
}
